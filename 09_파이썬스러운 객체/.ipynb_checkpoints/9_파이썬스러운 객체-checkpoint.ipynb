{
 "cells": [
  {
   "cell_type": "markdown",
   "metadata": {},
   "source": [
    "# Chapter 9 - 파이썬스러운 객체\n",
    "알아 볼 내용\n",
    "* repr(), bytes() 등 객체를 다른 방식으로 표현하는 내장 함수의 지원\n",
    "* 클래스 메서드로 대안 생성자 구현\n",
    "* format() 내장 함수와 str.format() 메서드에서 사용하는 포맷 언어 확장\n",
    "* 읽기 전용 접근만 허용하는 속성 제공\n",
    "* 집합 및 딕셔너리 키로 사용할 수 있도록 객체를 해시 가능하게 만들기\n",
    "* _.slots._를 이용해서 메모리 절약하기\n",
    "* 언제, 어떻게 @classmethod와 @staticmethod 데커레이터를 사용할 것인가\n",
    "* 파이썬에서의 비공개 및 보호된 속성: 사용법, 관례, 한계"
   ]
  },
  {
   "cell_type": "markdown",
   "metadata": {},
   "source": [
    "## 9.1 객체 표현"
   ]
  },
  {
   "cell_type": "markdown",
   "metadata": {},
   "source": [
    "### repr()\n",
    "객체를 개발자가 보고자 하는 형태로 표현한 문자열로 반환한다.\n",
    "\n",
    "### str()\n",
    "객체를 사용자가 보고자 하는 형태로 표현한 문자열로 반환한다."
   ]
  },
  {
   "cell_type": "code",
   "execution_count": 1,
   "metadata": {},
   "outputs": [
    {
     "name": "stdout",
     "output_type": "stream",
     "text": [
      "str()=123\n",
      "repr()=123\n"
     ]
    }
   ],
   "source": [
    "# str(), repr() 모두 동일한 결과값을 출력\n",
    "a = 123\n",
    "\n",
    "print(\"str()=\" + str(a))\n",
    "print(\"repr()=\" + repr(a))"
   ]
  },
  {
   "cell_type": "code",
   "execution_count": 2,
   "metadata": {},
   "outputs": [
    {
     "name": "stdout",
     "output_type": "stream",
     "text": [
      "str()=helloWorld\n",
      "repr()='helloWorld'\n"
     ]
    }
   ],
   "source": [
    "# 문자열 출력 시 다른 결과를 출력, repr()에 경우 ''까지 출력된다.\n",
    "a = \"helloWorld\"\n",
    "\n",
    "print(\"str()=\" + str(a))\n",
    "print(\"repr()=\" + repr(a))"
   ]
  },
  {
   "cell_type": "code",
   "execution_count": 3,
   "metadata": {},
   "outputs": [
    {
     "name": "stdout",
     "output_type": "stream",
     "text": [
      "올해 나의 생일 = 2018-08-31 00:00:00\n",
      "올해 나의 생일 = datetime.datetime(2018, 8, 31, 0, 0)\n"
     ]
    }
   ],
   "source": [
    "import datetime;\n",
    "\n",
    "# 데이트타임으로 만들어진 객체에 경우 매우 다른 결과값을 리턴한다.\n",
    "a = datetime.datetime(2018, 8, 31)\n",
    "\n",
    "print(\"올해 나의 생일 = \" + str(a))\n",
    "print(\"올해 나의 생일 = \" + repr(a))"
   ]
  },
  {
   "cell_type": "code",
   "execution_count": 4,
   "metadata": {},
   "outputs": [
    {
     "data": {
      "text/plain": [
       "datetime.datetime(2018, 8, 31, 0, 0)"
      ]
     },
     "execution_count": 4,
     "metadata": {},
     "output_type": "execute_result"
    }
   ],
   "source": [
    "# repr()에 사용목적은 문자를 객체로 다시 생성 가능하기 때문이다.\n",
    "\n",
    "a = datetime.datetime(2018, 8, 31)\n",
    "b = repr(a)\n",
    "eval(b)"
   ]
  },
  {
   "cell_type": "code",
   "execution_count": 5,
   "metadata": {},
   "outputs": [
    {
     "data": {
      "text/plain": [
       "'helloWorld'"
      ]
     },
     "execution_count": 5,
     "metadata": {},
     "output_type": "execute_result"
    }
   ],
   "source": [
    "c = \"helloWorld\"\n",
    "d = repr(c)\n",
    "eval(d)"
   ]
  },
  {
   "cell_type": "markdown",
   "metadata": {},
   "source": [
    "## 9.2 백터 클래스의 부활"
   ]
  },
  {
   "cell_type": "code",
   "execution_count": 1,
   "metadata": {},
   "outputs": [],
   "source": [
    "from array import array\n",
    "import math\n",
    "\n",
    "# Vector2d v0\n",
    "class Vector2d:\n",
    "    # Vector2d와 bytes 간의 변환에 사용하는 클래스 속성\n",
    "    typecode = 'd'\n",
    "    \n",
    "    # __init__() 안에서 x와 y를 float로 변환하면 부적절한 인수로 Vector2d 객체를 생성하는 경우 조기에 에러를 잡는데 도움이된다.\n",
    "    def __init__(self, x, y):\n",
    "        self.x = float(x)\n",
    "        self.y = float(y)\n",
    "    \n",
    "    # __iter__()를 구현하면 Vector2d를 반복할 수 있게 된다.\n",
    "    # 그렇기 때문에 x,y = my_vector 문장으로 언패킹할 수 잇었다. \n",
    "    def __iter__(self):\n",
    "        return (i for i in (self.x, self.y))\n",
    "    \n",
    "    # 각 요소에 repr()을 호출하여 반환된 문자열로 치환해 문자열을 만든다.\n",
    "    # Vector2d를 반복할 수 있으므로, *self는 format()에 x와 y 속성을 공급한다.\n",
    "    def __repr__(self):\n",
    "        class_name = type(self).__name__\n",
    "        return '{}({!r}, {!r})'.format(class_name, *self)\n",
    "    # 튜플을 만들어 순서쌍으로 출력\n",
    "    def __str__(self):\n",
    "        return str(tuple(self))\n",
    "    # bytes를 생성하기 위해 typecode를 bytes로 변환하여 객체를 반복해 생성한 배열에서 변환된 bytes와 연결\n",
    "    def __bytes__(self):\n",
    "        return (bytes([ord(self.typecode)]) +\n",
    "                bytes(array(self.typecode, self)))\n",
    "    # 모든 속성을 비교하기 위해 피연사자로부터 튜플을 생성\n",
    "    def __eq__(self, other):\n",
    "        return tuple(self) == tuple(other)\n",
    "    # magnitude()는 x와 y로 만들어진 직삼각형 사변의 길이\n",
    "    def __abs__(self):\n",
    "        return math.hypot(self.x, self.y)\n",
    "    # 사변길이를 계산하고 불리언형은으로 변환. 0.0은 False 그 외 값은 True.\n",
    "    def __bool__(self):\n",
    "        return bool(abs(self))\n",
    "    \n",
    "    # BEGIN VECTOR2D_V1\n",
    "    @classmethod  # 클래스 메소드에는 @classmethod 데커레이터가 붙는다.\n",
    "    def frombytes(cls, octets):  # self 매개변수가 없다. 대신 클래스 자신이 cls 매개변수로 전달된다.\n",
    "        # 첫 번째 바이트에서 typecode를 읽는다.\n",
    "        typecode = chr(octets[0])\n",
    "        # octets 이진 시퀀스로부터 memoryview를 생성하고 typecode를 이용해서 형을 변환.\n",
    "        memv = memoryview(octets[1:]).cast(typecode)\n",
    "        # cast가 반환한 memoryview를 언패킹해서 생성자에 필요한 인수로 전달.\n",
    "        return cls(*memv)"
   ]
  },
  {
   "cell_type": "code",
   "execution_count": 2,
   "metadata": {},
   "outputs": [
    {
     "name": "stdout",
     "output_type": "stream",
     "text": [
      "3.0 4.0\n"
     ]
    }
   ],
   "source": [
    "# float 형태로 반환된다.\n",
    "v1 = Vector2d(3, 4)\n",
    "print(v1.x, v1.y)"
   ]
  },
  {
   "cell_type": "code",
   "execution_count": 3,
   "metadata": {},
   "outputs": [
    {
     "data": {
      "text/plain": [
       "(3.0, 4.0)"
      ]
     },
     "execution_count": 3,
     "metadata": {},
     "output_type": "execute_result"
    }
   ],
   "source": [
    "# Vector2d를 변수들의 튜플에 언패킹할 수 있다.\n",
    "x, y = v1\n",
    "x, y"
   ]
  },
  {
   "cell_type": "code",
   "execution_count": 4,
   "metadata": {},
   "outputs": [
    {
     "data": {
      "text/plain": [
       "Vector2d(3.0, 4.0)"
      ]
     },
     "execution_count": 4,
     "metadata": {},
     "output_type": "execute_result"
    }
   ],
   "source": [
    "# Vector2d의 repr()은 객체를 생성하는 소스코드와 같은 형태로 출력한다.\n",
    "# runtime 설정을 python2로 하니 클래스명이 출력 안되고 instace로만 출력됨..\n",
    "v1"
   ]
  },
  {
   "cell_type": "code",
   "execution_count": 6,
   "metadata": {},
   "outputs": [
    {
     "data": {
      "text/plain": [
       "'Vector2d(3.0, 4.0)'"
      ]
     },
     "execution_count": 6,
     "metadata": {},
     "output_type": "execute_result"
    }
   ],
   "source": [
    "# repr-eval로 변환된 객체에 대한 비교\n",
    "v1_clone = eval(repr(v1))\n",
    "v1 == v1_clone"
   ]
  },
  {
   "cell_type": "code",
   "execution_count": 11,
   "metadata": {},
   "outputs": [
    {
     "name": "stdout",
     "output_type": "stream",
     "text": [
      "(3.0, 4.0)\n"
     ]
    }
   ],
   "source": [
    "# print에 경우 str()을 호출하며, str()은 Vector2d 객체의 경우 순서쌍을 생성한다.\n",
    "print(v1)"
   ]
  },
  {
   "cell_type": "code",
   "execution_count": 12,
   "metadata": {},
   "outputs": [
    {
     "data": {
      "text/plain": [
       "b'd\\x00\\x00\\x00\\x00\\x00\\x00\\x08@\\x00\\x00\\x00\\x00\\x00\\x00\\x10@'"
      ]
     },
     "execution_count": 12,
     "metadata": {},
     "output_type": "execute_result"
    }
   ],
   "source": [
    "# __bytes()__ 이진표현 생성\n",
    "# bytes()로 생성한 이진표현에서 Vector2d 객체를 다시 만드는 메서드가 없다.\n",
    "octets = bytes(v1)\n",
    "octets"
   ]
  },
  {
   "cell_type": "code",
   "execution_count": 13,
   "metadata": {},
   "outputs": [
    {
     "data": {
      "text/plain": [
       "5.0"
      ]
     },
     "execution_count": 13,
     "metadata": {},
     "output_type": "execute_result"
    }
   ],
   "source": [
    "# __abs__() Vector2d 객체의 크기를 반환한다.\n",
    "abs(v1)"
   ]
  },
  {
   "cell_type": "code",
   "execution_count": 14,
   "metadata": {},
   "outputs": [
    {
     "data": {
      "text/plain": [
       "(True, False)"
      ]
     },
     "execution_count": 14,
     "metadata": {},
     "output_type": "execute_result"
    }
   ],
   "source": [
    "# __bool__() Vector2d 객체의 크기가 0이면 False, 아니면 True를 반환\n",
    "bool(v1), bool(Vector2d(0, 0))"
   ]
  },
  {
   "cell_type": "markdown",
   "metadata": {},
   "source": [
    "## 9.3 대안 생성자"
   ]
  },
  {
   "cell_type": "code",
   "execution_count": 15,
   "metadata": {},
   "outputs": [
    {
     "data": {
      "text/plain": [
       "Vector2d(3.0, 4.0)"
      ]
     },
     "execution_count": 15,
     "metadata": {},
     "output_type": "execute_result"
    }
   ],
   "source": [
    "# 바이트로 변환된 Vector2d를 새로 작성한 frombytes로 다시 객체형태로 변환.\n",
    "v1_clone = Vector2d.frombytes(bytes(v1))\n",
    "v1_clone"
   ]
  },
  {
   "cell_type": "markdown",
   "metadata": {},
   "source": [
    "## 9.4 @classmethod와 @staticmethod\n",
    "\n",
    "##### _Note_\n",
    "`@classmethod 데커레이터는 쓰임새가 많은 게 확실하지만, @staticmethod 데커레이터는 사용해야 하는 이유를 잘 모르겠다. 클래스와 함께 작동하지 않는 함수를 정의하려면, 단지 함수를 모듈에 정의 하면 된다. 아마 함수가 클래스를 건드리지는 않지만, 그 클래스와 밀접히 연관되어 있어서 클래스 코드 가까운 곳에 두고 싶을 수는 있을 것이다. 그런경우에는 클래스의 바로 앞이나 뒤에서 함수를 정의하면 된다.`"
   ]
  },
  {
   "cell_type": "code",
   "execution_count": 22,
   "metadata": {},
   "outputs": [],
   "source": [
    "# 데모 클래스\n",
    "class Demo:\n",
    "  @classmethod\n",
    "  def klassmeth(*args):\n",
    "    return args\n",
    "  @staticmethod\n",
    "  def statmeth(*args):\n",
    "    return args"
   ]
  },
  {
   "cell_type": "code",
   "execution_count": 24,
   "metadata": {},
   "outputs": [
    {
     "data": {
      "text/plain": [
       "(__main__.Demo,)"
      ]
     },
     "execution_count": 24,
     "metadata": {},
     "output_type": "execute_result"
    }
   ],
   "source": [
    "Demo.klassmeth()"
   ]
  },
  {
   "cell_type": "code",
   "execution_count": 27,
   "metadata": {},
   "outputs": [
    {
     "data": {
      "text/plain": [
       "()"
      ]
     },
     "execution_count": 27,
     "metadata": {},
     "output_type": "execute_result"
    }
   ],
   "source": [
    "Demo.statmeth()"
   ]
  },
  {
   "cell_type": "code",
   "execution_count": 28,
   "metadata": {},
   "outputs": [
    {
     "data": {
      "text/plain": [
       "('spam',)"
      ]
     },
     "execution_count": 28,
     "metadata": {},
     "output_type": "execute_result"
    }
   ],
   "source": [
    "Demo.statmeth('spam')"
   ]
  },
  {
   "cell_type": "markdown",
   "metadata": {},
   "source": [
    "## 9.5 포맷된 출력\n",
    "\n",
    "format() 내장 함수와 str.format() 메소드는 실제 포맷 작업을 _format(format_spec)_ 메소드에 위임한다. format_spec(포맷 명시자)은 다음 두가지 방법 중 하나를 통해 지정한다.\n",
    "1. format(my_obj, format_spec)의 두 번째 인수\n",
    "2. str.format()에 사용된 포맷 문자열 안에{}로 구분한 대체 필드 안에서 콜론 뒤에 문자열"
   ]
  },
  {
   "cell_type": "code",
   "execution_count": 7,
   "metadata": {},
   "outputs": [
    {
     "data": {
      "text/plain": [
       "0.4115226337448559"
      ]
     },
     "execution_count": 7,
     "metadata": {},
     "output_type": "execute_result"
    }
   ],
   "source": [
    "# 브라질 레알을 미국 달러로 바꾸는 환율\n",
    "br1 = 1/2.43\n",
    "br1"
   ]
  },
  {
   "cell_type": "code",
   "execution_count": 8,
   "metadata": {},
   "outputs": [
    {
     "data": {
      "text/plain": [
       "'0.4115'"
      ]
     },
     "execution_count": 8,
     "metadata": {},
     "output_type": "execute_result"
    }
   ],
   "source": [
    "# '0.4f'가 포맷 명시자\n",
    "format(br1, '0.4f')"
   ]
  },
  {
   "cell_type": "code",
   "execution_count": 9,
   "metadata": {},
   "outputs": [
    {
     "data": {
      "text/plain": [
       "'1 BRL = 0.41 USD'"
      ]
     },
     "execution_count": 9,
     "metadata": {},
     "output_type": "execute_result"
    }
   ],
   "source": [
    "# '0.2f'가 포맷 명시자.\n",
    "'1 BRL = {rate:0.2f} USD'.format(rate=br1)"
   ]
  },
  {
   "cell_type": "code",
   "execution_count": 10,
   "metadata": {},
   "outputs": [
    {
     "data": {
      "text/plain": [
       "'66.7%'"
      ]
     },
     "execution_count": 10,
     "metadata": {},
     "output_type": "execute_result"
    }
   ],
   "source": [
    "format(42, 'b')\n",
    "format(2/3, '.1%')"
   ]
  },
  {
   "cell_type": "code",
   "execution_count": 11,
   "metadata": {},
   "outputs": [
    {
     "data": {
      "text/plain": [
       "'20:53:24'"
      ]
     },
     "execution_count": 11,
     "metadata": {},
     "output_type": "execute_result"
    }
   ],
   "source": [
    "from datetime import datetime\n",
    "\n",
    "now = datetime.now()\n",
    "format(now, '%H:%M:%S')"
   ]
  },
  {
   "cell_type": "code",
   "execution_count": 13,
   "metadata": {},
   "outputs": [
    {
     "data": {
      "text/plain": [
       "'It`s now 08:53 PM'"
      ]
     },
     "execution_count": 13,
     "metadata": {},
     "output_type": "execute_result"
    }
   ],
   "source": [
    "\"It`s now {:%I:%M %p}\".format(now)"
   ]
  },
  {
   "cell_type": "code",
   "execution_count": 14,
   "metadata": {},
   "outputs": [
    {
     "data": {
      "text/plain": [
       "'(3.0, 4.0)'"
      ]
     },
     "execution_count": 14,
     "metadata": {},
     "output_type": "execute_result"
    }
   ],
   "source": [
    "v1 = Vector2d(3, 4)\n",
    "format(v1)"
   ]
  },
  {
   "cell_type": "code",
   "execution_count": 15,
   "metadata": {},
   "outputs": [
    {
     "ename": "TypeError",
     "evalue": "unsupported format string passed to Vector2d.__format__",
     "output_type": "error",
     "traceback": [
      "\u001b[0;31m---------------------------------------------------------------------------\u001b[0m",
      "\u001b[0;31mTypeError\u001b[0m                                 Traceback (most recent call last)",
      "\u001b[0;32m<ipython-input-15-3a4dca2697ad>\u001b[0m in \u001b[0;36m<module>\u001b[0;34m()\u001b[0m\n\u001b[1;32m      1\u001b[0m \u001b[0;31m# 포맷 명시자를 사용하면 object._format_()은 타입에러 발생.\u001b[0m\u001b[0;34m\u001b[0m\u001b[0;34m\u001b[0m\u001b[0m\n\u001b[0;32m----> 2\u001b[0;31m \u001b[0mformat\u001b[0m\u001b[0;34m(\u001b[0m\u001b[0mv1\u001b[0m\u001b[0;34m,\u001b[0m \u001b[0;34m'.3f'\u001b[0m\u001b[0;34m)\u001b[0m\u001b[0;34m\u001b[0m\u001b[0m\n\u001b[0m",
      "\u001b[0;31mTypeError\u001b[0m: unsupported format string passed to Vector2d.__format__"
     ]
    }
   ],
   "source": [
    "# 포맷 명시자를 사용하면 object._format_()은 타입에러 발생.\n",
    "format(v1, '.3f')"
   ]
  },
  {
   "cell_type": "code",
   "execution_count": 16,
   "metadata": {},
   "outputs": [],
   "source": [
    "# BEGIN VECTOR2D_V2\n",
    "from array import array\n",
    "import math\n",
    "\n",
    "# Vector2d v2\n",
    "class Vector2d:\n",
    "    typecode = 'd'\n",
    "\n",
    "    def __init__(self, x, y):\n",
    "        self.x = float(x)\n",
    "        self.y = float(y)\n",
    "\n",
    "    def __iter__(self):\n",
    "        return (i for i in (self.x, self.y))\n",
    "\n",
    "    def __repr__(self):\n",
    "        class_name = type(self).__name__\n",
    "        return '{}({!r}, {!r})'.format(class_name, *self)\n",
    "\n",
    "    def __str__(self):\n",
    "        return str(tuple(self))\n",
    "\n",
    "    def __bytes__(self):\n",
    "        return (bytes([ord(self.typecode)]) +\n",
    "                bytes(array(self.typecode, self)))\n",
    "\n",
    "    def __eq__(self, other):\n",
    "        return tuple(self) == tuple(other)\n",
    "\n",
    "    def __abs__(self):\n",
    "        return math.hypot(self.x, self.y)\n",
    "\n",
    "    def __bool__(self):\n",
    "        return bool(abs(self))\n",
    "\n",
    "    # format 함수 정의 \n",
    "    def __format__(self, fmt_spec=''):\n",
    "        components = (format(c, fmt_spec) for c in self)\n",
    "        return '({},{})'.format(*components)\n",
    "\n",
    "    @classmethod\n",
    "    def frombytes(cls, octets):\n",
    "        typecode = chr(octets[0])\n",
    "        memv = memoryview(octets[1:]).cast(typecode)\n",
    "        return cls(*memv)\n"
   ]
  },
  {
   "cell_type": "code",
   "execution_count": 17,
   "metadata": {},
   "outputs": [
    {
     "data": {
      "text/plain": [
       "'(3.000,4.000)'"
      ]
     },
     "execution_count": 17,
     "metadata": {},
     "output_type": "execute_result"
    }
   ],
   "source": [
    "# __format__() 정의 후 다시 실행하니 에러가 발생하지 않는다.\n",
    "v2 = Vector2d(3, 4)\n",
    "format(v2, '.3f')"
   ]
  },
  {
   "cell_type": "code",
   "execution_count": 18,
   "metadata": {},
   "outputs": [],
   "source": [
    "# BEGIN VECTOR2D_V2\n",
    "from array import array\n",
    "import math\n",
    "\n",
    "# Vector2d v3\n",
    "class Vector2d:\n",
    "    typecode = 'd'\n",
    "\n",
    "    def __init__(self, x, y):\n",
    "        self.x = float(x)\n",
    "        self.y = float(y)\n",
    "\n",
    "    def __iter__(self):\n",
    "        return (i for i in (self.x, self.y))\n",
    "\n",
    "    def __repr__(self):\n",
    "        class_name = type(self).__name__\n",
    "        return '{}({!r}, {!r})'.format(class_name, *self)\n",
    "\n",
    "    def __str__(self):\n",
    "        return str(tuple(self))\n",
    "\n",
    "    def __bytes__(self):\n",
    "        return (bytes([ord(self.typecode)]) +\n",
    "                bytes(array(self.typecode, self)))\n",
    "\n",
    "    def __eq__(self, other):\n",
    "        return tuple(self) == tuple(other)\n",
    "\n",
    "    def __abs__(self):\n",
    "        return math.hypot(self.x, self.y)\n",
    "      \n",
    "\n",
    "    def __bool__(self):\n",
    "        return bool(abs(self))\n",
    "    # 각을 구하기 위한 angle 메소드 구현\n",
    "    def angle(self):\n",
    "        return math.atan2(self.y, self.x)\n",
    "    # format 메소드가 극좌표를 생성하도록 수정\n",
    "    def __format__(self, fmt_spec=''):\n",
    "        # 포맷 명시자가 p로 끝날 경우\n",
    "        if fmt_spec.endswith('p'):\n",
    "          # 포맷 명시자에 마지막 p를 떼어낸다.\n",
    "          fmt_spec = fmt_spec[:-1]\n",
    "          # 크기, 각으로 극좌표 튜플 생성\n",
    "          coords = (abs(self), self.angle())\n",
    "          outer_fmt = '<{}, {}>'\n",
    "        else:\n",
    "          # p로 끝나지 안흘경우 self의 x,y 요소를 이용해서 직교좌표 생성\n",
    "          coords = self\n",
    "          outer_fmt = '<{}, {}>'\n",
    "        components = (format(c, fmt_spec) for c in coords)\n",
    "        return outer_fmt.format(*components)\n",
    "\n",
    "    @classmethod\n",
    "    def frombytes(cls, octets):\n",
    "        typecode = chr(octets[0])\n",
    "        memv = memoryview(octets[1:]).cast(typecode)\n",
    "        return cls(*memv)\n"
   ]
  },
  {
   "cell_type": "code",
   "execution_count": 19,
   "metadata": {},
   "outputs": [
    {
     "data": {
      "text/plain": [
       "'<1.41421, 0.78540>'"
      ]
     },
     "execution_count": 19,
     "metadata": {},
     "output_type": "execute_result"
    }
   ],
   "source": [
    "format(Vector2d(1, 1), 'p')\n",
    "format(Vector2d(1, 1), '.3ep')\n",
    "format(Vector2d(1, 1), '0.5fp')"
   ]
  },
  {
   "cell_type": "markdown",
   "metadata": {},
   "source": [
    "## 9.6 해시 가능한 Vector2d"
   ]
  },
  {
   "cell_type": "markdown",
   "metadata": {},
   "source": [
    "지금까지 정의한 Vector2d는 해시할 수 없다. 그러므로 집합 안의 항목으로 사용할 수 없다.\n",
    "Vector2d를 해시 가능하게 만들려면 `_hash_()` 메소드를 구현해야 한다."
   ]
  },
  {
   "cell_type": "code",
   "execution_count": 20,
   "metadata": {},
   "outputs": [
    {
     "ename": "TypeError",
     "evalue": "unhashable type: 'Vector2d'",
     "output_type": "error",
     "traceback": [
      "\u001b[0;31m---------------------------------------------------------------------------\u001b[0m",
      "\u001b[0;31mTypeError\u001b[0m                                 Traceback (most recent call last)",
      "\u001b[0;32m<ipython-input-20-722cb1eb2b83>\u001b[0m in \u001b[0;36m<module>\u001b[0;34m()\u001b[0m\n\u001b[1;32m      1\u001b[0m \u001b[0;31m# 해시불가\u001b[0m\u001b[0;34m\u001b[0m\u001b[0;34m\u001b[0m\u001b[0m\n\u001b[1;32m      2\u001b[0m \u001b[0mv3\u001b[0m \u001b[0;34m=\u001b[0m \u001b[0mVector2d\u001b[0m\u001b[0;34m(\u001b[0m\u001b[0;36m3\u001b[0m\u001b[0;34m,\u001b[0m \u001b[0;36m4\u001b[0m\u001b[0;34m)\u001b[0m\u001b[0;34m\u001b[0m\u001b[0m\n\u001b[0;32m----> 3\u001b[0;31m \u001b[0mhash\u001b[0m\u001b[0;34m(\u001b[0m\u001b[0mv3\u001b[0m\u001b[0;34m)\u001b[0m\u001b[0;34m\u001b[0m\u001b[0m\n\u001b[0m",
      "\u001b[0;31mTypeError\u001b[0m: unhashable type: 'Vector2d'"
     ]
    }
   ],
   "source": [
    "# 해시불가\n",
    "v3 = Vector2d(3, 4)\n",
    "hash(v3)"
   ]
  },
  {
   "cell_type": "code",
   "execution_count": 23,
   "metadata": {},
   "outputs": [
    {
     "data": {
      "text/plain": [
       "7"
      ]
     },
     "execution_count": 23,
     "metadata": {},
     "output_type": "execute_result"
    }
   ],
   "source": [
    "v3.x, v3.y\n",
    "v3.x = 7\n",
    "v3.x"
   ]
  },
  {
   "cell_type": "markdown",
   "metadata": {},
   "source": [
    "해쉬 가능하려면 `__불변형__`이어야 한다."
   ]
  },
  {
   "cell_type": "code",
   "execution_count": 22,
   "metadata": {},
   "outputs": [],
   "source": [
    "from array import array\n",
    "import math\n",
    "\n",
    "# Vector2d v4\n",
    "class Vector2d:\n",
    "    typecode = 'd'\n",
    "     # 두개의 언더바로 시작해서 속성을 비공개로 만든다.\n",
    "    def __init__(self, x, y):\n",
    "        self.__x = float(x)  \n",
    "        self.__y = float(y)\n",
    "    # getter 메서드\n",
    "    @property  \n",
    "    def x(self): # 자신이 노출시키는 공개 속성명을 따라 getter 메서드 이름 지정. \n",
    "        return self.__x \n",
    "\n",
    "    @property\n",
    "    def y(self):\n",
    "        return self.__y\n",
    "\n",
    "    def __iter__(self):\n",
    "        return (i for i in (self.x, self.y))  # <6>\n",
    "\n",
    "    def __repr__(self):\n",
    "        class_name = type(self).__name__\n",
    "        return '{}({!r}, {!r})'.format(class_name, *self)\n",
    "\n",
    "    def __str__(self):\n",
    "        return str(tuple(self))\n",
    "\n",
    "    def __bytes__(self):\n",
    "        return (bytes([ord(self.typecode)]) +\n",
    "                bytes(array(self.typecode, self)))\n",
    "\n",
    "    def __eq__(self, other):\n",
    "        return tuple(self) == tuple(other)\n",
    "\n",
    "    # 해시 추가.\n",
    "    def __hash__(self):\n",
    "        return hash(self.x) ^ hash(self.y)\n",
    "\n",
    "    def __abs__(self):\n",
    "        return math.hypot(self.x, self.y)\n",
    "\n",
    "    def __bool__(self):\n",
    "        return bool(abs(self))\n",
    "\n",
    "    def angle(self):\n",
    "        return math.atan2(self.y, self.x)\n",
    "\n",
    "    def __format__(self, fmt_spec=''):\n",
    "        if fmt_spec.endswith('p'):\n",
    "            fmt_spec = fmt_spec[:-1]\n",
    "            coords = (abs(self), self.angle())\n",
    "            outer_fmt = '<{}, {}>'\n",
    "        else:\n",
    "            coords = self\n",
    "            outer_fmt = '({}, {})'\n",
    "        components = (format(c, fmt_spec) for c in coords)\n",
    "        return outer_fmt.format(*components)\n",
    "\n",
    "    @classmethod\n",
    "    def frombytes(cls, octets):\n",
    "        typecode = chr(octets[0])\n",
    "        memv = memoryview(octets[1:]).cast(typecode)\n",
    "        return cls(*memv)"
   ]
  },
  {
   "cell_type": "code",
   "execution_count": 24,
   "metadata": {},
   "outputs": [
    {
     "ename": "AttributeError",
     "evalue": "can't set attribute",
     "output_type": "error",
     "traceback": [
      "\u001b[0;31m---------------------------------------------------------------------------\u001b[0m",
      "\u001b[0;31mAttributeError\u001b[0m                            Traceback (most recent call last)",
      "\u001b[0;32m<ipython-input-24-15f0aebafa74>\u001b[0m in \u001b[0;36m<module>\u001b[0;34m()\u001b[0m\n\u001b[1;32m      1\u001b[0m \u001b[0;31m# 읽기 전용 프로퍼티 테스트\u001b[0m\u001b[0;34m\u001b[0m\u001b[0;34m\u001b[0m\u001b[0m\n\u001b[1;32m      2\u001b[0m \u001b[0mv1\u001b[0m \u001b[0;34m=\u001b[0m \u001b[0mVector2d\u001b[0m\u001b[0;34m(\u001b[0m\u001b[0;36m3\u001b[0m\u001b[0;34m,\u001b[0m \u001b[0;36m4\u001b[0m\u001b[0;34m)\u001b[0m\u001b[0;34m\u001b[0m\u001b[0m\n\u001b[0;32m----> 3\u001b[0;31m \u001b[0mv1\u001b[0m\u001b[0;34m.\u001b[0m\u001b[0mx\u001b[0m \u001b[0;34m=\u001b[0m \u001b[0;36m123\u001b[0m\u001b[0;34m\u001b[0m\u001b[0m\n\u001b[0m",
      "\u001b[0;31mAttributeError\u001b[0m: can't set attribute"
     ]
    }
   ],
   "source": [
    "# 읽기 전용 프로퍼티 테스트\n",
    "v1 = Vector2d(3, 4)\n",
    "v1.x = 123"
   ]
  },
  {
   "cell_type": "code",
   "execution_count": 25,
   "metadata": {},
   "outputs": [
    {
     "data": {
      "text/plain": [
       "{Vector2d(3.0, 4.0), Vector2d(3.1, 4.2)}"
      ]
     },
     "execution_count": 25,
     "metadata": {},
     "output_type": "execute_result"
    }
   ],
   "source": [
    "# hash 작성 후 실행\n",
    "v1 = Vector2d(3, 4)\n",
    "v2 = Vector2d(3.1, 4.2)\n",
    "hash(v1), hash(v2)\n",
    "set([v1, v2])"
   ]
  },
  {
   "cell_type": "markdown",
   "metadata": {},
   "source": [
    "## 9.8 \\_slots\\_ 클래스 속성으로 공간 절약하기"
   ]
  },
  {
   "cell_type": "markdown",
   "metadata": {},
   "source": [
    "1. 기본적으로 파이썬은 객체 속성을 각 객체 안의 \\_dict\\_라는 딕셔너리형 속성에 저장한다. \n",
    "2. 딕셔너리는 빠른 접근 속도를 제공하기 위해 내부에 해시 테이블을 유지하므로 메모리 사용량 부담이 상당히 크다.\n",
    "3. 만약 속성이 몇개 없는 수백만 개의 객체를 다룬다면, \\_slots\\_ 클래스 속성을 이용해서 메모리 사용량을 엄청나게 줄일 수 있다.\n",
    "4. \\_slots\\_ 속성은 파이썬 인터프리터가 객체 속성을 딕셔너리 대신 튜플에 저장하게 만든다.\n",
    "5. 인터프린터는 상속된 \\_\\_slots\\_\\_을 무시하므로 각 클래스마다 다시 정의해야한다."
   ]
  },
  {
   "cell_type": "code",
   "execution_count": 34,
   "metadata": {},
   "outputs": [],
   "source": [
    "from array import array\n",
    "import math\n",
    "\n",
    "# Vector2d v5\n",
    "class Vector2d:\n",
    "    # 슬롯속성 추가\n",
    "    __slots__ = ('__x', '__y')\n",
    "    typecode = 'd'\n",
    "    \n",
    "    def __init__(self, x, y):\n",
    "        self.__x = float(x)  \n",
    "        self.__y = float(y)\n",
    "    @property  \n",
    "    def x(self): # 자신이 노출시키는 공개 속성명을 따라 getter 메서드 이름 지정. \n",
    "        return self.__x \n",
    "\n",
    "    @property\n",
    "    def y(self):\n",
    "        return self.__y\n",
    "\n",
    "    def __iter__(self):\n",
    "        return (i for i in (self.x, self.y))  # <6>\n",
    "\n",
    "    def __repr__(self):\n",
    "        class_name = type(self).__name__\n",
    "        return '{}({!r}, {!r})'.format(class_name, *self)\n",
    "\n",
    "    def __str__(self):\n",
    "        return str(tuple(self))\n",
    "\n",
    "    def __bytes__(self):\n",
    "        return (bytes([ord(self.typecode)]) +\n",
    "                bytes(array(self.typecode, self)))\n",
    "\n",
    "    def __eq__(self, other):\n",
    "        return tuple(self) == tuple(other)\n",
    "\n",
    "    def __hash__(self):\n",
    "        return hash(self.x) ^ hash(self.y)\n",
    "\n",
    "    def __abs__(self):\n",
    "        return math.hypot(self.x, self.y)\n",
    "\n",
    "    def __bool__(self):\n",
    "        return bool(abs(self))\n",
    "\n",
    "    def angle(self):\n",
    "        return math.atan2(self.y, self.x)\n",
    "\n",
    "    def __format__(self, fmt_spec=''):\n",
    "        if fmt_spec.endswith('p'):\n",
    "            fmt_spec = fmt_spec[:-1]\n",
    "            coords = (abs(self), self.angle())\n",
    "            outer_fmt = '<{}, {}>'\n",
    "        else:\n",
    "            coords = self\n",
    "            outer_fmt = '({}, {})'\n",
    "        components = (format(c, fmt_spec) for c in coords)\n",
    "        return outer_fmt.format(*components)\n",
    "\n",
    "    @classmethod\n",
    "    def frombytes(cls, octets):\n",
    "        typecode = chr(octets[0])\n",
    "        memv = memoryview(octets[1:]).cast(typecode)\n",
    "        return cls(*memv)"
   ]
  },
  {
   "cell_type": "code",
   "execution_count": 35,
   "metadata": {},
   "outputs": [
    {
     "name": "stdout",
     "output_type": "stream",
     "text": [
      "{'__module__': '__main__', '__slots__': ('__x', '__y'), 'typecode': 'd', '__init__': <function Vector2d.__init__ at 0x10aa918c8>, 'x': <property object at 0x10aaa2138>, 'y': <property object at 0x10aaa2818>, '__iter__': <function Vector2d.__iter__ at 0x10aa91510>, '__repr__': <function Vector2d.__repr__ at 0x10aa917b8>, '__str__': <function Vector2d.__str__ at 0x10aa91620>, '__bytes__': <function Vector2d.__bytes__ at 0x10aa91598>, '__eq__': <function Vector2d.__eq__ at 0x10aa91730>, '__hash__': <function Vector2d.__hash__ at 0x10aa916a8>, '__abs__': <function Vector2d.__abs__ at 0x10aa911e0>, '__bool__': <function Vector2d.__bool__ at 0x10aa91840>, 'angle': <function Vector2d.angle at 0x10aa91950>, '__format__': <function Vector2d.__format__ at 0x10aab8510>, 'frombytes': <classmethod object at 0x10aaadc18>, '_Vector2d__x': <member '_Vector2d__x' of 'Vector2d' objects>, '_Vector2d__y': <member '_Vector2d__y' of 'Vector2d' objects>, '__doc__': None}\n"
     ]
    }
   ],
   "source": [
    "# slots에 속성이 담겨있는걸 확인 할 수 있다.\n",
    "print(Vector2d.__dict__)"
   ]
  },
  {
   "cell_type": "markdown",
   "metadata": {},
   "source": [
    "## 9.9 클래스 속성 오버라이드"
   ]
  },
  {
   "cell_type": "markdown",
   "metadata": {},
   "source": [
    "클래스 속성을 객체 속성의 기본값으로 사용하는 것은 파이썬의 독특한 특징이다.\n",
    "Vector2d 클래스에서는 typecode라는 클래스 속성이 있다.\n",
    "이 속성은 \\_bytes\\_() 메소드에서 두 번 사용되는데, 우리는 단지 self.typecode로 그 값을 읽었다. Vector2d 객체가 그들 자신의 typecode 속성을 가지고 생성된 것이 아니므로, self.typecode는 기본적으로 Vector2d.typecode 클래스 속성을 가져온다."
   ]
  },
  {
   "cell_type": "code",
   "execution_count": 27,
   "metadata": {},
   "outputs": [
    {
     "data": {
      "text/plain": [
       "b'd\\x9a\\x99\\x99\\x99\\x99\\x99\\xf1?\\x9a\\x99\\x99\\x99\\x99\\x99\\x01@'"
      ]
     },
     "execution_count": 27,
     "metadata": {},
     "output_type": "execute_result"
    }
   ],
   "source": [
    "# _slots_ 없이 구현한 클래스 이용\n",
    "v1 = Vector2d(1.1, 2.2)\n",
    "dumpd = bytes(v1)\n",
    "dumpd"
   ]
  },
  {
   "cell_type": "code",
   "execution_count": 28,
   "metadata": {},
   "outputs": [
    {
     "data": {
      "text/plain": [
       "17"
      ]
     },
     "execution_count": 28,
     "metadata": {},
     "output_type": "execute_result"
    }
   ],
   "source": [
    "# 기본적인 bytes 표현은 17바이트 길이다.\n",
    "len(dumpd)"
   ]
  },
  {
   "cell_type": "code",
   "execution_count": 29,
   "metadata": {},
   "outputs": [
    {
     "data": {
      "text/plain": [
       "b'f\\xcd\\xcc\\x8c?\\xcd\\xcc\\x0c@'"
      ]
     },
     "execution_count": 29,
     "metadata": {},
     "output_type": "execute_result"
    }
   ],
   "source": [
    "# v1 객체의 typecode 속성 변경\n",
    "v1.typecode = 'f'\n",
    "dumpf = bytes(v1)\n",
    "dumpf"
   ]
  },
  {
   "cell_type": "code",
   "execution_count": 30,
   "metadata": {},
   "outputs": [
    {
     "data": {
      "text/plain": [
       "9"
      ]
     },
     "execution_count": 30,
     "metadata": {},
     "output_type": "execute_result"
    }
   ],
   "source": [
    "# 덤프의 길이가 9바이트가 된다.\n",
    "len(dumpf)"
   ]
  },
  {
   "cell_type": "code",
   "execution_count": 31,
   "metadata": {},
   "outputs": [
    {
     "data": {
      "text/plain": [
       "'f'"
      ]
     },
     "execution_count": 31,
     "metadata": {},
     "output_type": "execute_result"
    }
   ],
   "source": [
    "# Vector2d.typecode는 변경되지 않았으며, v1 객체에 typecode만 'f다'\n",
    "Vector2d.typecode\n",
    "v1.typecode"
   ]
  },
  {
   "cell_type": "code",
   "execution_count": 32,
   "metadata": {},
   "outputs": [
    {
     "data": {
      "text/plain": [
       "9"
      ]
     },
     "execution_count": 32,
     "metadata": {},
     "output_type": "execute_result"
    }
   ],
   "source": [
    "# 서브클래스 생성. Vector2d에 typecode 속성만 덮어쓴다.\n",
    "class ShortVector2d(Vector2d):\n",
    "  typecode = 'f'\n",
    "  \n",
    "sv = ShortVector2d(1/11, 1/27)\n",
    "sv\n",
    "len(bytes(sv))"
   ]
  },
  {
   "cell_type": "markdown",
   "metadata": {},
   "source": [
    "## 9.10 요약"
   ]
  },
  {
   "cell_type": "markdown",
   "metadata": {},
   "source": [
    "#### '단순함이 복잡함 보다 낫다.''\n",
    "파이썬스러운 객체는 요구사항을 만족하는 한 가장 단순해야 하며, 언어 기능을 모두 갖출 필요는 없다.\n",
    "\n",
    "#### 예제에서 사용한 메소드\n",
    "* 문자열/바이트로 표현하는 모든 메소드: _repr_(), _str_(), _format_(),  _bytes_()\n",
    "* 객체를 숫자로 변환하는 여러 메소드: _abs_(), _bool_(), _hash_()\n",
    "* bytes로 변환하고 해시할 수 있게 해주는 메소드: _eq_(), _hash_()\n"
   ]
  }
 ],
 "metadata": {
  "kernelspec": {
   "display_name": "Python 3",
   "language": "python",
   "name": "python3"
  },
  "language_info": {
   "codemirror_mode": {
    "name": "ipython",
    "version": 3
   },
   "file_extension": ".py",
   "mimetype": "text/x-python",
   "name": "python",
   "nbconvert_exporter": "python",
   "pygments_lexer": "ipython3",
   "version": "3.6.5"
  }
 },
 "nbformat": 4,
 "nbformat_minor": 2
}
