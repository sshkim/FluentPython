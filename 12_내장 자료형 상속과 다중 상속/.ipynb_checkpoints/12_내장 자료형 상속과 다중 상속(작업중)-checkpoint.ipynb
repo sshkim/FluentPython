{
 "cells": [
  {
   "cell_type": "markdown",
   "metadata": {},
   "source": [
    "## 12.4"
   ]
  },
  {
   "cell_type": "markdown",
   "metadata": {},
   "source": [
    "1. 인터페이스 상속, 구현 상속\n",
    "    - 인터페이스 상속은 is-a\n",
    "    - 구현 상속은 중복 코드를 피하기 위해\n",
    "2. ABC를 이용해서 인터페이스 상속을 명확히 하자.\n",
    "3. 코드의 재사용은 믹스인 클래스로...\n",
    "    - 믹스인 클래스는 새로운 자료형을 정의하지 않는다.\n",
    "    - 재사용할 메서드를 모아놓은 클래스\n",
    "    - 믹스인 클래스로 객체를 생성하면 안된다.\n",
    "    - 믹스인 클래스를 상속하는 구상 클래스는 다른 클래스도 상속 받아야.\n",
    "4. 이름을 통해 믹스인 클래스임을 명확히 하자.\n",
    "    - 클래스명뒤에 __Mixin__ 과 같은 방법으로??\n",
    "5. ABC가 믹스인이 될 수 있지만, 믹스인이라고해서 ABC는 아니다.\n",
    "    - ABC는 구상 메서드를 구현 가능하다.\n",
    "    - ABC는 자료형을 정의한다.\n",
    "    - ABC는 유일한 super 클래스가 가능하다.\n",
    "    - 단, ABC에서 구현된 구상 메서드는 해당 ABC나 슈퍼클래스 메서드만 사용할 수 있다.\n",
    "6. 두개 이상의 구상 클래스에서 상속 받지 말자.\n",
    "7. 사용자에게 집합 클래스를 제공한다.\n",
    "8. 클래스 상속보다는 객체의 구성을 사용하자.\n",
    "    - 상속은 강합 결합이 생성되므로 상속보다는 의존성으로..."
   ]
  },
  {
   "cell_type": "markdown",
   "metadata": {},
   "source": [
    "## 12.5"
   ]
  },
  {
   "cell_type": "markdown",
   "metadata": {},
   "source": [
    "장고 클래스 기반 View 가 좋은 구조 이다. Thinter보다."
   ]
  },
  {
   "cell_type": "markdown",
   "metadata": {},
   "source": [
    "## 12.6"
   ]
  },
  {
   "cell_type": "markdown",
   "metadata": {},
   "source": [
    "1. 내장객체 list, dict, str를 상속 하지말고, collections 모듈의 UserList, UserDict, UserString을 상속하자.\n",
    "    - 코드수가 줄어들고, 내장객체의 경우 오버라이드 해도 self가 적용안된다."
   ]
  }
 ],
 "metadata": {
  "kernelspec": {
   "display_name": "Python 3",
   "language": "python",
   "name": "python3"
  },
  "language_info": {
   "codemirror_mode": {
    "name": "ipython",
    "version": 3
   },
   "file_extension": ".py",
   "mimetype": "text/x-python",
   "name": "python",
   "nbconvert_exporter": "python",
   "pygments_lexer": "ipython3",
   "version": "3.6.5"
  }
 },
 "nbformat": 4,
 "nbformat_minor": 2
}
