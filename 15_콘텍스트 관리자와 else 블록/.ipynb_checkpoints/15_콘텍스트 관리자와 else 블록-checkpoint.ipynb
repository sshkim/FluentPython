{
 "cells": [
  {
   "cell_type": "markdown",
   "metadata": {},
   "source": [
    "# 15."
   ]
  },
  {
   "cell_type": "markdown",
   "metadata": {},
   "source": [
    "## 15.1 "
   ]
  },
  {
   "cell_type": "markdown",
   "metadata": {},
   "source": [
    "- else"
   ]
  },
  {
   "cell_type": "markdown",
   "metadata": {},
   "source": [
    "## 15.2 콘텍스트 관리자와 with 블록"
   ]
  },
  {
   "cell_type": "markdown",
   "metadata": {},
   "source": [
    "콘텍스트 관리자 구성\n",
    "- 시작: \\_\\_enter\\_\\_\n",
    "- 끝: \\_\\_exit\\_\\_"
   ]
  },
  {
   "cell_type": "code",
   "execution_count": 1,
   "metadata": {},
   "outputs": [],
   "source": [
    "class LookingGlass:\n",
    "\n",
    "    def __enter__(self):  # <1>\n",
    "        import sys\n",
    "        self.original_write = sys.stdout.write  # <2>\n",
    "        sys.stdout.write = self.reverse_write  # <3>\n",
    "        return 'JABBERWOCKY'  # <4>\n",
    "\n",
    "    def reverse_write(self, text):  # <5>\n",
    "        self.original_write(text[::-1])\n",
    "\n",
    "    def __exit__(self, exc_type, exc_value, traceback):  # <6>\n",
    "        import sys  # <7>\n",
    "        sys.stdout.write = self.original_write  # <8>\n",
    "        if exc_type is ZeroDivisionError:  # <9>\n",
    "            print('Please DO NOT divide by zero!')\n",
    "            return True  # <10>\n",
    "        # <11>"
   ]
  },
  {
   "cell_type": "code",
   "execution_count": 2,
   "metadata": {},
   "outputs": [
    {
     "name": "stdout",
     "output_type": "stream",
     "text": [
      "cba\n",
      "YKCOWREBBAJ\n"
     ]
    }
   ],
   "source": [
    "with LookingGlass() as what:\n",
    "    print('abc')\n",
    "    print(what)"
   ]
  },
  {
   "cell_type": "code",
   "execution_count": 3,
   "metadata": {},
   "outputs": [
    {
     "data": {
      "text/plain": [
       "'JABBERWOCKY'"
      ]
     },
     "execution_count": 3,
     "metadata": {},
     "output_type": "execute_result"
    }
   ],
   "source": [
    "what"
   ]
  },
  {
   "cell_type": "code",
   "execution_count": 4,
   "metadata": {},
   "outputs": [
    {
     "data": {
      "text/plain": [
       "'JABBERWOCKY'"
      ]
     },
     "execution_count": 4,
     "metadata": {},
     "output_type": "execute_result"
    }
   ],
   "source": [
    "what"
   ]
  },
  {
   "cell_type": "markdown",
   "metadata": {},
   "source": [
    "## 15.3 contextlib"
   ]
  },
  {
   "cell_type": "markdown",
   "metadata": {},
   "source": [
    "## 15.4 @contextmanager 사용하기"
   ]
  },
  {
   "cell_type": "code",
   "execution_count": 5,
   "metadata": {},
   "outputs": [],
   "source": [
    "import contextlib\n",
    "\n",
    "\n",
    "@contextlib.contextmanager  # <1>\n",
    "def looking_glass():\n",
    "    import sys\n",
    "    original_write = sys.stdout.write  # <2>\n",
    "\n",
    "    def reverse_write(text):  # <3>\n",
    "        original_write(text[::-1])\n",
    "\n",
    "    sys.stdout.write = reverse_write  # <4>\n",
    "    yield 'JABBERWOCKY'  # <5>\n",
    "    sys.stdout.write = original_write  # <6>"
   ]
  },
  {
   "cell_type": "code",
   "execution_count": null,
   "metadata": {},
   "outputs": [],
   "source": []
  }
 ],
 "metadata": {
  "kernelspec": {
   "display_name": "Python 3",
   "language": "python",
   "name": "python3"
  },
  "language_info": {
   "codemirror_mode": {
    "name": "ipython",
    "version": 3
   },
   "file_extension": ".py",
   "mimetype": "text/x-python",
   "name": "python",
   "nbconvert_exporter": "python",
   "pygments_lexer": "ipython3",
   "version": "3.6.5"
  }
 },
 "nbformat": 4,
 "nbformat_minor": 2
}
