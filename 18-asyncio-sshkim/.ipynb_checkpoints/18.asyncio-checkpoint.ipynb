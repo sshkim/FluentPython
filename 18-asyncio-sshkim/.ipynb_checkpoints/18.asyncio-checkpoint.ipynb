{
 "cells": [
  {
   "cell_type": "markdown",
   "metadata": {},
   "source": [
    "# Chapter.18 Asyncio를 이용한 동시성"
   ]
  },
  {
   "cell_type": "markdown",
   "metadata": {},
   "source": [
    "동시성은 한 번에 많은 것을 다룬다.\n",
    "\n",
    "병렬성은 한 번에 많은 것을 한다.\n",
    "\n",
    "똑같지는 않지만, 연관성은 있다.\n",
    "\n",
    "동시성은 구조, 병렬성은 실행에 관한 것이다.\n",
    "\n",
    "동시성은 병렬화할 수 있는 문제를 해결하기위해\n",
    "\n",
    "해결책을 구조화하는 방법을 제공한다."
   ]
  },
  {
   "cell_type": "markdown",
   "metadata": {},
   "source": [
    "**알아보자**\n",
    "- 코루틴을 이용해서 동시성을 구현하는 asyncio 패키지에 대해서 설명\n",
    "- 스레드와 비동기에 관계\n",
    "- asyncio.Future와 concurrent.futures.Future의 차이점\n",
    "- 국기 내려받기 예제의 비동기 버전 구현\n",
    "- 비동기 프로그래밍이 네트워크 프로그램에서 높은 동시성을 관리하는 방법\n",
    "- 콜백 개선 방법\n",
    "- 블로킹 연산을 스레드풀에 덜어줌으로써 이벤트 루프를 블로킹하지 않는 방법\n",
    "- asyncio 서버 작성, 높은 동시성 생각\n",
    "- asyncio가 파이썬 생태계에 영향을 준 이유"
   ]
  },
  {
   "cell_type": "markdown",
   "metadata": {},
   "source": [
    "## 18.1 스레드와 코루틴 비교"
   ]
  },
  {
   "cell_type": "markdown",
   "metadata": {},
   "source": [
    "__파이썬 3.5에서 async와 await 키워드가 추가되었다.__\n",
    "\n",
    "_yield from = await_\n",
    "\n",
    "_@asyncio.coroutine = async_"
   ]
  },
  {
   "cell_type": "code",
   "execution_count": 1,
   "metadata": {},
   "outputs": [],
   "source": [
    "import threading\n",
    "import itertools\n",
    "import time\n",
    "import sys\n",
    "\n",
    "class Signal: # 외부에서 제어하기 위해, 가변 객체 정의\n",
    "    go = True\n",
    "\n",
    "def spin(msg, signal):\n",
    "    write, flush = sys.stdout.write, sys.stdout.flush\n",
    "    for char in itertools.cycle('|/-\\\\'):  # itertools.cycle은 주어진 시퀀스를 순환하면서 계속 실행된다. 이 for문은 사실상 무한루프.\n",
    "        status = char + ' ' + msg\n",
    "        write(status)\n",
    "        flush()\n",
    "        write('\\x08' * len(status))  # 애니메이션을 위해 문자열만큼 백스페이스(x08)를 통해 값을 빼고 커서를 앞으로 이동시킨다.\n",
    "        time.sleep(.1)\n",
    "        if not signal.go: # False면 빠져나온다.\n",
    "            break\n",
    "    write(' ' * len(status) + '\\x08' * len(status))  # 다시 처음 커서로 이동시키고 메세지 출력행을 청소한다.\n",
    "\n",
    "\n",
    "def slow_function():  # 실행시간이 오래걸리는 함수라 생각하자.\n",
    "    time.sleep(3) # GIL이 해체된다. 다른 스레드 실행.\n",
    "    return 42\n",
    "\n",
    "\n",
    "def supervisor():\n",
    "    signal = Signal()\n",
    "    spinner = threading.Thread(target=spin,\n",
    "                               args=('thinking!', signal))\n",
    "    print('spinner object:', spinner)  # 두번째 스레드 출력\n",
    "    spinner.start()  # 두번째 스레드 실행\n",
    "    result = slow_function()  # 메인 스레드 블로킹, 두번째 스레드가 애니메이션을 보여준다.\n",
    "    signal.go = False\n",
    "    spinner.join()  # spinner 스레드가 끝날때까지 기다린다. join(timeout=None)\n",
    "    return result\n",
    "\n",
    "\n",
    "def main():\n",
    "    result = supervisor()\n",
    "    print('Answer:', result)"
   ]
  },
  {
   "cell_type": "markdown",
   "metadata": {},
   "source": [
    "__파이썬은 스레드를 정지하는 API가 존재하지 않는다. 스레드에 메세지를 보내 종료시켜야 한다. 여기서는 **signal.go**__\n",
    "\n",
    "**만약 종료 API를 보내지 않았다면, 메인 쓰레드가 종료되어도 계속 동작한다.**"
   ]
  },
  {
   "cell_type": "code",
   "execution_count": 2,
   "metadata": {},
   "outputs": [],
   "source": [
    "import asyncio\n",
    "import itertools\n",
    "import sys\n",
    "\n",
    "\n",
    "@asyncio.coroutine  # asyncio에 사용할 coroutine은 @asyncio.coroutine과 같이 데커레이트해야 한다.\n",
    "def spin(msg):  # 스레드에서 사용하던 signal 인수가 없다.\n",
    "    write, flush = sys.stdout.write, sys.stdout.flush\n",
    "    for char in itertools.cycle('|/-\\\\'):\n",
    "        status = char + ' ' + msg\n",
    "        write(status)\n",
    "        flush()\n",
    "        write('\\x08' * len(status))\n",
    "        try:\n",
    "            yield from asyncio.sleep(.1)  # 이벤트 루프를 블로킹 하지않고 잠자기 위해 yield from asyncio.sleep 사용 (time.sleep이 아니다.)\n",
    "        except asyncio.CancelledError:  # CancelledError는 취소가 요청된 것이므로 루프를 종료한다.\n",
    "            break\n",
    "    write(' ' * len(status) + '\\x08' * len(status))\n",
    "\n",
    "\n",
    "@asyncio.coroutine\n",
    "def slow_function():\n",
    "    yield from asyncio.sleep(3)  # 메인 루프는 잠자고 난 후에 코루틴을 계속 실행한다.\n",
    "    return 42\n",
    "\n",
    "\n",
    "@asyncio.coroutine\n",
    "def supervisor():\n",
    "    spinner = asyncio.async(spin('thinking!'))  # 코루틴 실행을 스케쥴링하고 Task 객체 안에 넣어 Task 객체를 즉시 반환한다.\n",
    "    print('spinner object:', spinner)  # Task 객체 출력\n",
    "    result = yield from slow_function() \n",
    "    spinner.cancel()  # Task 객체를 취소한다. 그러면 yield from 에서 asyncio.CancelledError가 발생한다.\n",
    "    return result\n",
    "\n",
    "\n",
    "def main():\n",
    "    loop = asyncio.get_event_loop()  # 이벤트 루프 참조\n",
    "    result = loop.run_until_complete(supervisor())\n",
    "    loop.close()\n",
    "    print('Answer:', result)\n"
   ]
  },
  {
   "cell_type": "markdown",
   "metadata": {},
   "source": [
    "> **주 스레드를 블로킹해서 이벤트 루프를 중단시키고 그래서 애플리케이션 전체를 멈추고 싶지 않으면 asyncio 코루틴 안에서 time.sleep()은 금지!! **\n",
    "\n",
    "> **코루틴안에서는 yield from asyncio.sleep(초)를 사용해야한다. **"
   ]
  },
  {
   "cell_type": "markdown",
   "metadata": {},
   "source": [
    "@asyncio.coroutine 데커레이터를 사용해야되는 이유.\n",
    "- 일반함수와 다르게 보임.\n",
    "- _코루틴이 yield from 되지 않고(일부작업이 완료되지 않았으므로, 버그가 발생할 가능성이 높다) 가비지 컬렉트되는 경우 경고 메세지 출력, 디버깅 도움_\n",
    "- _@asyncio.coroutine 데커레이터된 제너레이터를 자동으로 기동하지 않음_"
   ]
  },
  {
   "cell_type": "markdown",
   "metadata": {},
   "source": [
    "비교해보자\n",
    "\n",
    "```python\n",
    "def supervisor():\n",
    "    signal = Signal()\n",
    "    spinner = threading.Thread(target=spin,\n",
    "                               args=('thinking!', signal))\n",
    "    print('spinner object:', spinner)\n",
    "    spinner.start()\n",
    "    result = slow_function()\n",
    "    signal.go = False\n",
    "    spinner.join()\n",
    "    return result\n",
    "\n",
    "@asyncio.coroutine\n",
    "def supervisor():\n",
    "    spinner = asyncio.async(spin('thinking!'))\n",
    "    print('spinner object:', spinner) \n",
    "    result = yield from slow_function() \n",
    "    spinner.cancel()\n",
    "    return result\n",
    "```\n",
    "\n",
    "- asyncio.Task = threading.Thread\n",
    "- Task는 코루틴, Thread는 콜러블\n",
    "- Task는 객체는 직접 생성하지 않고, asyncio.async()나 loop.create_task()에 전달해서 가져온다.\n",
    "- Task 객체를 가져오면, 이미 asyncio.async()등에 의해 실행이 스케쥴링. Thread 객체는 start() 메서드를 호출해서 실행하라고 명령.\n",
    "- asyncio에서 slow_function()은 yield from으로 구동되는 코루틴. Thread에서 slow_function()은 평범한 함수로, 스레드에 의해 직접 호출. \n",
    "- Task에는 CancelledError를 발생하는 Task.cancel() 객체 메서드가 있다. Thread는 외부에서 API를 이용해 중단시킬 수 없다(무결성 훼손 방지). \n",
    "- supervisor() 코루틴은 main() 함수 안에서 loop.run_until_complete()로 실행해야한다."
   ]
  },
  {
   "cell_type": "markdown",
   "metadata": {},
   "source": [
    "쓰레드 보다 코루틴이 좋은 이유\n",
    "- 기본적으로 인터럽트로부터 보호.(명시적으로 yield를 실행해야 프로그램 다른 부분이 실행되므로)\n",
    "- 동기화를 위해 락을 잠그는게 아니라, 언제든 실행되고 있는 코루틴 중 하나만 사용하면 된다. 그리고 제어권을 넘겨주고 싶을 땐, yield나 yield from을 이용해서 스케줄러에게 넘겨 줄 수 있다. 그래서 **코루틴은 안전하다.**\n",
    "- 코루틴은 yield 지점에서 중단되었을 때만 취소할 수 있다. 그래서 CancelledError 예외를 처리해서 마무리하면 된다."
   ]
  },
  {
   "cell_type": "markdown",
   "metadata": {},
   "source": [
    "## 18.1.1 asyncio.Future: 논블로킹 설계"
   ]
  },
  {
   "cell_type": "markdown",
   "metadata": {},
   "source": [
    "**asyncio.Future와 concurrent.futures.Future 클래스 인터페이스가 거의 같지만 바꿔 쓸 수 없다.**\n",
    "\n",
    "asyncio에서 BaseEventLoop.create_task() 메서드는 코루틴을 받아서 실행하기 위해 스케줄링하고, asyncio.Task 객체를 반환한다.\n",
    "\n",
    "Taks는 Future의 서브 클래스이므로, Task 객체는 Future 객체이기도 하다.\n",
    "\n",
    "asyncio.Future의 메소드 done(), add_done_callback()는 concurrent.futures.Future와 동일하나, **result()**는 아주 다르다."
   ]
  },
  {
   "cell_type": "markdown",
   "metadata": {},
   "source": [
    "차이점\n",
    "1. 시간초과를 지정할 수 없다.\n",
    "2. result() 메서드를 호출하면, 실행이 완료되지 않았다면 블로킹하고 완료를 기다리지 않고 asyncio.InvalidStateError 예외를 발생시킨다."
   ]
  },
  {
   "cell_type": "markdown",
   "metadata": {},
   "source": [
    "asyncio.Future에 결과를 가져오기 위해선 일반적으로 **yield from**을 이용한다.\n",
    "\n",
    "yield from을 호출하면, 이벤트 루프를 블로킹하지 않고 작업 완료를 기다리는 과정을 자동으로 처리해준다.\n",
    "\n",
    "yield from은 이벤트 루프에 제어권을 넘겨주기 위해 사용. (스케쥴러를 동작 시킨다.)"
   ]
  },
  {
   "cell_type": "markdown",
   "metadata": {},
   "source": [
    "yield from와 add_done_callback()는 비슷하다.\n",
    "\n",
    "콜백을 호출하지 않고 지연된 작업이 완료되면, 이벤트 루프는 Future 객체의 결과를 설정하고 yield from 표현식은 지연된 코루틴 내부에서 반환된 값을 생성하고 실행을 계속 진행한다."
   ]
  },
  {
   "cell_type": "markdown",
   "metadata": {},
   "source": [
    "그래서 다음과 같은 메서드가 필요없다.\n",
    "- 코루틴 안에서 my_future가 실행을 완료한 다음에 수행할 작업은 단순히 yield from my_future 뒤에 넣으면 되므로 my_future.add_done_callback()을 호출할 필요가 없다.\n",
    "- my_future에 대한 yield from 표현식의 값이 result가 되므로 my_future.result()를 호출할 필요가 없다. (result = yield from my_future)"
   ]
  },
  {
   "cell_type": "markdown",
   "metadata": {},
   "source": [
    "물론 done(), add_done_callback(), result() 메서드가 필요한 경우도 있지만, 일반적으로 asyncio는 yield from으로 구동된다."
   ]
  },
  {
   "cell_type": "markdown",
   "metadata": {},
   "source": [
    "## 18.1.2 Future, Task, 코루틴에서 생성하기"
   ]
  },
  {
   "cell_type": "markdown",
   "metadata": {},
   "source": [
    "asyncio에서는 yield from을 이용해서 asyncio.Future 객체를 가져올 수 있으므로 Future와 코루틴의 관계는 밀접.\n",
    "\n",
    "foo()가 코루틴 함수거나 Future나 Task 객체를 반환하는 일반 함수면\n",
    "\n",
    "**res = yield from foo()** \n",
    "\n",
    "코드가 작동한다는 것을 의미한다.\n",
    "\n",
    "그렇기 때문에 asyncio API에서 코루틴과 Future 객체를 바꿔가면서 쓸 수 있는 경우가 많다.\n",
    "\n",
    "실행하려면 반드시 **코루틴을 스케쥴링해야한다. 그러면 코루틴이 asyncio.Task 객체 안에 래핑된다.**\n",
    "\n",
    "Task 객체를 가져오기 위한 방법 2가지\n",
    "\n",
    "- asyncio.async(coroutine_or_future, *, loop=None)\n",
    "    - 코루틴과 Future 객체 통합\n",
    "    - Future나 Task 객체면 그대로 반환.\n",
    "    - 코루틴이면 async()가 loop.create_task()를 호출해서 Task 생성.\n",
    "    - loop 키워드 인수에 이벤트 루프를 전달할 수 있다.\n",
    "        - 생략하면 async()가 asyncio.get_event_loop()를 호출해서 루프 객체를 가져온다.\n",
    "- BaseEventLoop.create_task(coroutine)\n",
    "    - 코루틴을 실행\n",
    "    - 스케줄링하고 asyncio.Task 객체 반환.\n",
    "    - 외부라이브러리(Tornado 등)에서 제공하는 BaseEventLoop의 서브클래스에 호출하면, 외부라이브러리에서 제공하는 Task와 호환되는 클래스 객체가 반환**될 수도 있다.**"
   ]
  },
  {
   "cell_type": "markdown",
   "metadata": {},
   "source": [
    "> BaseEventLoop.create_task()는 파이썬 3.4.2부터 사용."
   ]
  },
  {
   "cell_type": "markdown",
   "metadata": {},
   "source": [
    "asyncio.async()를 이용하여 코루틴을 자동으로 asyncio.Task 객체 안에 래핑하는 asyncio 함수들이 많다. 대표적인 것은 **BaseEventLoop.run_until_complete()**"
   ]
  },
  {
   "cell_type": "markdown",
   "metadata": {},
   "source": [
    "파이썬 콘솔이나 간단한 테스트에서 Future 객체나 코루틴을 실험하고 싶다면 다음 코드를 사용하자.\n",
    "\n",
    "``` python\n",
    "\n",
    "import asyncio\n",
    "def run_sync(coroutine_or_future):\n",
    "    loop = asyncio.get_event_loop()\n",
    "    return loop.run_until_complete(coroutine_or_future)\n",
    "\n",
    "a = run_sync(some_coroutine())\n",
    "\n",
    "```"
   ]
  },
  {
   "cell_type": "markdown",
   "metadata": {},
   "source": [
    "## 18.2 asyncio와 aiohttp로 내려받기"
   ]
  },
  {
   "cell_type": "markdown",
   "metadata": {},
   "source": [
    "asyncio: TCP, UDP만 지원\n",
    "\n",
    "aiohttp: HTTP 지원"
   ]
  },
  {
   "cell_type": "markdown",
   "metadata": {},
   "source": [
    "***source: flags.py***\n",
    "\n",
    "```python\n",
    "\n",
    "POP20_CC = ('CN IN US ID BR PK NG BD RU JP '\n",
    "            'MX PH VN ET EG DE IR TR CD FR').split()\n",
    "\n",
    "BASE_URL = 'http://flupy.org/data/flags'\n",
    "\n",
    "DEST_DIR = 'downloads/'\n",
    "\n",
    "\n",
    "def save_flag(img, filename):\n",
    "    path = os.path.join(DEST_DIR, filename)\n",
    "    with open(path, 'wb') as fp:\n",
    "        fp.write(img)\n",
    "\n",
    "\n",
    "def get_flag(cc):\n",
    "    url = '{}/{cc}/{cc}.gif'.format(BASE_URL, cc=cc.lower())\n",
    "    resp = requests.get(url)\n",
    "    return resp.content\n",
    "\n",
    "\n",
    "def show(text):\n",
    "    print(text, end=' ')\n",
    "    sys.stdout.flush()\n",
    "\n",
    "\n",
    "def download_many(cc_list):\n",
    "    for cc in sorted(cc_list):\n",
    "        image = get_flag(cc)\n",
    "        show(cc)\n",
    "        save_flag(image, cc.lower() + '.gif')\n",
    "\n",
    "    return len(cc_list)\n",
    "\n",
    "\n",
    "def main(download_many):\n",
    "    t0 = time.time()\n",
    "    count = download_many(POP20_CC)\n",
    "    elapsed = time.time() - t0\n",
    "    msg = '\\n{} flags downloaded in {:.2f}s'\n",
    "    print(msg.format(count, elapsed))\n",
    "\n",
    "\n",
    "if __name__ == '__main__':\n",
    "    main(download_many)\n",
    "```"
   ]
  },
  {
   "cell_type": "code",
   "execution_count": 3,
   "metadata": {
    "scrolled": true
   },
   "outputs": [],
   "source": [
    "import asyncio\n",
    "\n",
    "import aiohttp\n",
    "\n",
    "from flags import BASE_URL, save_flag, show, main\n",
    "\n",
    "\n",
    "@asyncio.coroutine\n",
    "def get_flag(cc):\n",
    "    url = '{}/{cc}/{cc}.gif'.format(BASE_URL, cc=cc.lower())\n",
    "    resp = yield from aiohttp.request('GET', url)\n",
    "    image = yield from resp.read()\n",
    "    return image\n",
    "\n",
    "\n",
    "@asyncio.coroutine\n",
    "def download_one(cc):\n",
    "    image = yield from get_flag(cc)  # 순차 버전과 차이점.\n",
    "    show(cc)\n",
    "    save_flag(image, cc.lower() + '.gif')\n",
    "    return cc\n",
    "\n",
    "\n",
    "def download_many(cc_list):\n",
    "    loop = asyncio.get_event_loop()  # 하위 이벤트 루프 구현에 대한 참조를 가져온다.\n",
    "#     loop = asyncio.new_event_loop() # 추가\n",
    "    to_do = [download_one(cc) for cc in sorted(cc_list)]  # 제너레이터 객체 리스트 생성\n",
    "    wait_coroutine = asyncio.wait(to_do)  # 블로킹 함수가 아니다. 코루틴으로서 자신에게 전달된 코루틴들이 모두 완료되면 완료된다.\n",
    "    res, _ = loop.run_until_complete(wait_coroutine)  # wait_coroutine가 완료될 때까지 이벤트 루프 실행. 이벤트 루프가 실행되는 동안 블로킹.\n",
    "    loop.close()\n",
    "\n",
    "    return len(res)\n",
    "\n",
    "# if __name__ == '__main__':\n",
    "#     main(download_many)"
   ]
  },
  {
   "cell_type": "markdown",
   "metadata": {},
   "source": [
    "coroutine asyncio.wait(futures, *, loop=None, timeout=None, return_when=ALL_COMPLETED)\n",
    "- Future, 코루틴의 반복형을 받는다.\n",
    "- wait()는 각 코루틴을 Task 안에 래핑.\n",
    "- wait()가 관리하는 객체는 모두 Future 객체가 된다.\n",
    "- return 코루틴/제너레이터 객체\n",
    "- return된 제너레이터 객체를 구동하기 위해 loop.run_until_complete()에 전달.\n",
    "- wait는 완료되지 않았더라도 반환하게 만드는 timeout과 return_when 키워드가 있다."
   ]
  },
  {
   "cell_type": "markdown",
   "metadata": {},
   "source": [
    "AbstractEventLoop.run_until_complete(future)\n",
    "- wait와 비슷하게 코루틴을 Task 안에 래핑.\n",
    "- 코루틴, Future, Task 모두 yield from으로 구동.\n",
    "- wait_coroutine 실행이 완료되면 return (<실행이 완료된 Future 집합>, <실행이 완료되지 않음 Future 집합>)"
   ]
  },
  {
   "cell_type": "markdown",
   "metadata": {},
   "source": [
    "asyncio에 대해 알아야 할 새로운 개념은 많지만 쉽게 접근하면 *yield from 키워드가 없는 것처럼 생각* 하면 된다.\n",
    "\n",
    "``` python\n",
    "@asyncio.coroutine\n",
    "def get_flag(cc):\n",
    "    url = '{}/{cc}/{cc}.gif'.format(BASE_URL, cc=cc.lower())\n",
    "    resp = yield from aiohttp.request('GET', url)\n",
    "    image = yield from resp.read()\n",
    "    return image\n",
    "```\n",
    "\n",
    "블로킹되지 않는 점만 제외하면 다음 코드와 동작이 같다.\n",
    "\n",
    "``` python\n",
    "def get_flag(cc):\n",
    "    url = '{}/{cc}/{cc}.gif'.format(BASE_URL, cc=cc.lower())\n",
    "    resp = aiohttp.request('GET', url)\n",
    "    image = resp.read()\n",
    "    return image\n",
    "```"
   ]
  },
  {
   "cell_type": "markdown",
   "metadata": {},
   "source": [
    "16.7 'yield from 사용하기'에서 yield from의 사용법 두 가지 사실\n",
    "- yield from으로 연결된 전체 코루틴 체인은 궁극적으로 가장 바깥쪽에 있는 대표 제너레이터의 next()나 send()를 명시적 혹은 암묵적으로 호출하는 비코루틴 호출자에 의해 구동된다.\n",
    "- 이 체인 가장 안쪽에 있는 하위 제너레이터는 단지 yield를 단순 제너레이터이거나 반복형 객체여야 한다.\n",
    "\n",
    "asyncio API도 유효하며 특징은 다음과 같다.\n",
    "- 대표 제너레이터는 loop.run_until_complete() 등의 asyncio API에 전달함으로써 구동된다. (asyncio 이벤트 루프가 처리)\n",
    "- 코루틴 체인은 yield from을 호출하면서 끝내야 한다. 즉, 가장 안쪽의 하위제너레이터는 우리가 만든 코드가 아니라, 실제로 입출력을 수행하는 라이브러리 함수여야 한다."
   ]
  },
  {
   "cell_type": "markdown",
   "metadata": {},
   "source": [
    "asyncio를 사용할 때 우리는 코루틴 체인을 만든다.\n",
    "\n",
    "가장 바깥쪽 대표 제너레이터는 asyncio(run_until_complete) 자체에 의해 구동.\n",
    "\n",
    "가장 안쪽에 있는 하위 제너레이터는 asyncio 라이브러리(aiohttp...)가 제공하는 코루틴에 위임."
   ]
  },
  {
   "cell_type": "markdown",
   "metadata": {},
   "source": [
    "## 18.3 블로킹 호출을 에둘러 실행하기"
   ]
  },
  {
   "cell_type": "markdown",
   "metadata": {},
   "source": [
    "_단일 쓰레드인데 왜 asyncio가 빠르지..?_"
   ]
  },
  {
   "cell_type": "markdown",
   "metadata": {},
   "source": [
    "블로킹 함수가 전체 애플리케이션을 종료하지 않는 방법\n",
    "- 블로킹 연산을 각기 쓰레드에서 처리\n",
    "- 모든 블로킹 연산을 논블로킹 비동기 연산으로 바꾼다.\n",
    "\n",
    "이벤트 루프가 응답을 받으면, 우리 코드를 다시 호출 한다.\n",
    "\n",
    "실수만 하지 않는다면 **스레드는 절대로 블로킹되지 않는다.**\n",
    "\n",
    "그래서 빠르다.\n",
    "\n",
    "그리고 **스레드보다 코루틴이 메모리 부하가 적다.**"
   ]
  },
  {
   "cell_type": "markdown",
   "metadata": {},
   "source": [
    "## 18.4 asyncio 내려받기 스크립트 개선"
   ]
  },
  {
   "cell_type": "markdown",
   "metadata": {},
   "source": [
    "## 18.4.1 asyncio.as_completed() 사용하기"
   ]
  },
  {
   "cell_type": "markdown",
   "metadata": {},
   "source": [
    "*** source: flags2_common\n",
    "```python\n",
    "import os\n",
    "import time\n",
    "import sys\n",
    "import string\n",
    "import argparse\n",
    "from collections import namedtuple\n",
    "from enum import Enum\n",
    "\n",
    "\n",
    "Result = namedtuple('Result', 'status data')\n",
    "\n",
    "HTTPStatus = Enum('Status', 'ok not_found error')\n",
    "\n",
    "POP20_CC = ('CN IN US ID BR PK NG BD RU JP '\n",
    "            'MX PH VN ET EG DE IR TR CD FR').split()\n",
    "\n",
    "DEFAULT_CONCUR_REQ = 1\n",
    "MAX_CONCUR_REQ = 1\n",
    "\n",
    "SERVERS = {\n",
    "    'REMOTE': 'http://flupy.org/data/flags',\n",
    "    'LOCAL':  'http://localhost:8001/flags',\n",
    "    'DELAY':  'http://localhost:8002/flags',\n",
    "    'ERROR':  'http://localhost:8003/flags',\n",
    "}\n",
    "DEFAULT_SERVER = 'LOCAL'\n",
    "\n",
    "DEST_DIR = 'downloads/'\n",
    "COUNTRY_CODES_FILE = 'country_codes.txt'\n",
    "\n",
    "\n",
    "def save_flag(img, filename):\n",
    "    path = os.path.join(DEST_DIR, filename)\n",
    "    with open(path, 'wb') as fp:\n",
    "        fp.write(img)\n",
    "\n",
    "\n",
    "def initial_report(cc_list, actual_req, server_label):\n",
    "    if len(cc_list) <= 10:\n",
    "        cc_msg = ', '.join(cc_list)\n",
    "    else:\n",
    "        cc_msg = 'from {} to {}'.format(cc_list[0], cc_list[-1])\n",
    "    print('{} site: {}'.format(server_label, SERVERS[server_label]))\n",
    "    msg = 'Searching for {} flag{}: {}'\n",
    "    plural = 's' if len(cc_list) != 1 else ''\n",
    "    print(msg.format(len(cc_list), plural, cc_msg))\n",
    "    plural = 's' if actual_req != 1 else ''\n",
    "    msg = '{} concurrent connection{} will be used.'\n",
    "    print(msg.format(actual_req, plural))\n",
    "\n",
    "\n",
    "def final_report(cc_list, counter, start_time):\n",
    "    elapsed = time.time() - start_time\n",
    "    print('-' * 20)\n",
    "    msg = '{} flag{} downloaded.'\n",
    "    plural = 's' if counter[HTTPStatus.ok] != 1 else ''\n",
    "    print(msg.format(counter[HTTPStatus.ok], plural))\n",
    "    if counter[HTTPStatus.not_found]:\n",
    "        print(counter[HTTPStatus.not_found], 'not found.')\n",
    "    if counter[HTTPStatus.error]:\n",
    "        plural = 's' if counter[HTTPStatus.error] != 1 else ''\n",
    "        print('{} error{}.'.format(counter[HTTPStatus.error], plural))\n",
    "    print('Elapsed time: {:.2f}s'.format(elapsed))\n",
    "\n",
    "\n",
    "def expand_cc_args(every_cc, all_cc, cc_args, limit):\n",
    "    codes = set()\n",
    "    A_Z = string.ascii_uppercase\n",
    "    if every_cc:\n",
    "        codes.update(a+b for a in A_Z for b in A_Z)\n",
    "    elif all_cc:\n",
    "        with open(COUNTRY_CODES_FILE) as fp:\n",
    "            text = fp.read()\n",
    "        codes.update(text.split())\n",
    "    else:\n",
    "        for cc in (c.upper() for c in cc_args):\n",
    "            if len(cc) == 1 and cc in A_Z:\n",
    "                codes.update(cc+c for c in A_Z)\n",
    "            elif len(cc) == 2 and all(c in A_Z for c in cc):\n",
    "                codes.add(cc)\n",
    "            else:\n",
    "                msg = 'each CC argument must be A to Z or AA to ZZ.'\n",
    "                raise ValueError('*** Usage error: '+msg)\n",
    "    return sorted(codes)[:limit]\n",
    "\n",
    "\n",
    "def process_args(default_concur_req):\n",
    "    server_options = ', '.join(sorted(SERVERS))\n",
    "    parser = argparse.ArgumentParser(\n",
    "                description='Download flags for country codes. '\n",
    "                'Default: top 20 countries by population.')\n",
    "    parser.add_argument('cc', metavar='CC', nargs='*',\n",
    "                help='country code or 1st letter (eg. B for BA...BZ)')\n",
    "    parser.add_argument('-a', '--all', action='store_true',\n",
    "                help='get all available flags (AD to ZW)')\n",
    "    parser.add_argument('-e', '--every', action='store_true',\n",
    "                help='get flags for every possible code (AA...ZZ)')\n",
    "    parser.add_argument('-l', '--limit', metavar='N', type=int,\n",
    "                help='limit to N first codes', default=sys.maxsize)\n",
    "    parser.add_argument('-m', '--max_req', metavar='CONCURRENT', type=int,\n",
    "                default=default_concur_req,\n",
    "                help='maximum concurrent requests (default={})'\n",
    "                      .format(default_concur_req))\n",
    "    parser.add_argument('-s', '--server', metavar='LABEL',\n",
    "                default=DEFAULT_SERVER,\n",
    "                help='Server to hit; one of {} (default={})'\n",
    "                      .format(server_options, DEFAULT_SERVER))\n",
    "    parser.add_argument('-v', '--verbose', action='store_true',\n",
    "                help='output detailed progress info')\n",
    "    args = parser.parse_args()\n",
    "    if args.max_req < 1:\n",
    "        print('*** Usage error: --max_req CONCURRENT must be >= 1')\n",
    "        parser.print_usage()\n",
    "        sys.exit(1)\n",
    "    if args.limit < 1:\n",
    "        print('*** Usage error: --limit N must be >= 1')\n",
    "        parser.print_usage()\n",
    "        sys.exit(1)\n",
    "    args.server = args.server.upper()\n",
    "    if args.server not in SERVERS:\n",
    "        print('*** Usage error: --server LABEL must be one of',\n",
    "              server_options)\n",
    "        parser.print_usage()\n",
    "        sys.exit(1)\n",
    "    try:\n",
    "        cc_list = expand_cc_args(args.every, args.all, args.cc, args.limit)\n",
    "    except ValueError as exc:\n",
    "        print(exc.args[0])\n",
    "        parser.print_usage()\n",
    "        sys.exit(1)\n",
    "\n",
    "    if not cc_list:\n",
    "        cc_list = sorted(POP20_CC)\n",
    "    return args, cc_list\n",
    "\n",
    "\n",
    "def main(download_many, default_concur_req, max_concur_req):\n",
    "    args, cc_list = process_args(default_concur_req)\n",
    "    actual_req = min(args.max_req, max_concur_req, len(cc_list))\n",
    "    initial_report(cc_list, actual_req, args.server)\n",
    "    base_url = SERVERS[args.server]\n",
    "    t0 = time.time()\n",
    "    counter = download_many(cc_list, base_url, args.verbose, actual_req)\n",
    "    assert sum(counter.values()) == len(cc_list), \\\n",
    "        'some downloads are unaccounted for'\n",
    "    final_report(cc_list, counter, t0)\n",
    "```"
   ]
  },
  {
   "cell_type": "code",
   "execution_count": 7,
   "metadata": {},
   "outputs": [],
   "source": [
    "import asyncio\n",
    "import collections\n",
    "import contextlib\n",
    "\n",
    "import aiohttp\n",
    "from aiohttp import web\n",
    "import tqdm\n",
    "\n",
    "from flags2_common import main, HTTPStatus, Result, save_flag\n",
    "\n",
    "# 503 방지를 위해 기본값을 낮게 설정.\n",
    "DEFAULT_CONCUR_REQ = 5\n",
    "MAX_CONCUR_REQ = 1000\n",
    "\n",
    "\n",
    "class FetchError(Exception):  # 예외 클래스 생성\n",
    "    def __init__(self, country_code):\n",
    "        self.country_code = country_code\n",
    "\n",
    "\n",
    "@asyncio.coroutine\n",
    "def get_flag(base_url, cc): # return byte, 에러 404, HttpProcessingError\n",
    "    url = '{}/{cc}/{cc}.gif'.format(base_url, cc=cc.lower())\n",
    "    resp = yield from aiohttp.request('GET', url)\n",
    "    with contextlib.closing(resp):\n",
    "        if resp.status == 200:\n",
    "            image = yield from resp.read()\n",
    "            return image\n",
    "        elif resp.status == 404:\n",
    "            raise web.HTTPNotFound()\n",
    "        else:\n",
    "            raise aiohttp.HttpProcessingError(\n",
    "                code=resp.status, message=resp.reason,\n",
    "                headers=resp.headers)\n",
    "\n",
    "\n",
    "@asyncio.coroutine\n",
    "def download_one(cc, base_url, semaphore, verbose):  # semaphore는 동시 요청 수 제한을 위한 동기화 장치\n",
    "    try:\n",
    "        with (yield from semaphore):  # semaphore 최대치 초과시 코루틴이 브로킹이 된다. (콘텍스트 관리자)\n",
    "            image = yield from get_flag(base_url, cc)  # with를 빠져나올 때, semaphore가 +1이 되고 다른 코루틴이 동작함.\n",
    "    except web.HTTPNotFound:\n",
    "        status = HTTPStatus.not_found\n",
    "        msg = 'not found'\n",
    "    except Exception as exc:\n",
    "        raise FetchError(cc) from exc  # 생성한 예외 클래스 적용\n",
    "    else:\n",
    "        save_flag(image, cc.lower() + '.gif')\n",
    "        status = HTTPStatus.ok\n",
    "        msg = 'OK'\n",
    "\n",
    "    if verbose and msg:\n",
    "        print(cc, msg)\n",
    "\n",
    "    return Result(status, cc)\n",
    "\n",
    "\n",
    "@asyncio.coroutine\n",
    "def downloader_coro(cc_list, base_url, verbose, concur_req):  # 코루틴 함수라 main에서 바로 호출이 불가능하다.\n",
    "    counter = collections.Counter()\n",
    "    semaphore = asyncio.Semaphore(concur_req)  # 세마포어를 설정한다. 제한.\n",
    "    to_do = [download_one(cc, base_url, semaphore, verbose)\n",
    "             for cc in sorted(cc_list)]  # 코루틴을 호출하는 객체 리스트 생성\n",
    "\n",
    "    to_do_iter = asyncio.as_completed(to_do)  # 실행이 완료된 Future 객체 반복자를 가져온다.\n",
    "    if not verbose:\n",
    "        to_do_iter = tqdm.tqdm(to_do_iter, total=len(cc_list))  # tqdm 설정\n",
    "    for future in to_do_iter:\n",
    "        try:\n",
    "            res = yield from future  # asyncio의 result()는 yield from\n",
    "        except FetchError as exc:\n",
    "            country_code = exc.country_code  # 에러 발생 코드\n",
    "            try:\n",
    "                error_msg = exc.__cause__.args[0]  # 원래 예외에서 오류 메세지 가져오기\n",
    "            except IndexError:\n",
    "                error_msg = exc.__cause__.__class__.__name__  # 메세지가 없으면 예외 클래스명 가져오기\n",
    "            if verbose and error_msg:\n",
    "                msg = '*** Error for {}: {}'\n",
    "                print(msg.format(country_code, error_msg))\n",
    "            status = HTTPStatus.error\n",
    "        else:\n",
    "            status = res.status\n",
    "\n",
    "        counter[status] += 1\n",
    "\n",
    "    return counter\n",
    "\n",
    "\n",
    "def download_many(cc_list, base_url, verbose, concur_req):\n",
    "    loop = asyncio.get_event_loop()\n",
    "    coro = downloader_coro(cc_list, base_url, verbose, concur_req)\n",
    "    counts = loop.run_until_complete(coro) # 이벤트 루프 전달\n",
    "    loop.close()\n",
    "\n",
    "    return counts\n",
    "\n",
    "\n",
    "#if __name__ == '__main__':\n",
    "#    main(download_many, DEFAULT_CONCUR_REQ, MAX_CONCUR_REQ)\n"
   ]
  },
  {
   "cell_type": "markdown",
   "metadata": {},
   "source": [
    "asyncio에서는 Semaphore를 이용해서 제한한다.\n",
    "\n",
    "**asyncio.Semaphore(concur_req) = futures.ThreadPoolExecutor(max_workers)**\n",
    "\n",
    "**concur_req = max_workers**"
   ]
  },
  {
   "cell_type": "markdown",
   "metadata": {},
   "source": [
    "세마포어(Semaphore)는 내부 카운터를 가지고 있는 객체로 \n",
    "- acquire() 코루틴 메소드를 호출할 때 마다 감소\n",
    "- release() 코루틴 메소드 호출 마다 증가\n",
    "- 초깃값은 객체 생성시 설정 ---> asyncio.Semaphore(concur_req)"
   ]
  },
  {
   "cell_type": "markdown",
   "metadata": {},
   "source": [
    "카운터가 0보다 클때는 acquire()가 호출되도 블로킹 되지 않으나, 0일 때는 acquire()가 호출되면 블로킹된다. 다른곳에서 release()를 호출해서 카운터를 증가시킬 때 블로킹이 풀린다."
   ]
  },
  {
   "cell_type": "markdown",
   "metadata": {},
   "source": [
    "``` python\n",
    "with (yield from semaphore):  \n",
    "    image = yield from get_flag(base_url, cc)\n",
    "```\n",
    "\n",
    "다음은 concur_req보다 작거나 같은 수의 get_flag 코루틴이 실행되도록 보장한다."
   ]
  },
  {
   "cell_type": "markdown",
   "metadata": {},
   "source": [
    "**_에러가 발생한 경우_ asyncio.as_completed() Future 객체는 호출할 때 전달한 Future 객체와 동일하다고 장담할 수 없다.**\n",
    "\n",
    "그래서 17장의 code mapping 방법이 아닌 위의 FetchError와 같이 구현했다.\n",
    "\n",
    "그러나 에러가 없는 경우 국가 코드는 가져올 수 있다.\n",
    "\n",
    "- 에러 발생: 객체가 다를 수 있다.\n",
    "- 에러 없음: 객체는 동일하다."
   ]
  },
  {
   "cell_type": "markdown",
   "metadata": {},
   "source": [
    "## 18.4.2 Executor를 이용해서 이벤트 루프 블로킹 피하기"
   ]
  },
  {
   "cell_type": "markdown",
   "metadata": {},
   "source": [
    "save_flag()가 블로킹 함수.\n",
    "\n",
    "내부적으로는 블로킹하는 입출력 함수들은 GIL을 해제하므로, 다른 스레드가 진행할 수 있다.\n",
    "그러나, flags2_asyncio.py에서 save_flag()는 asyncio 이벤트 루프와 공유하는 유일한 스레드를 블로킹하므로, 파일을 저장하는 동안 애플리케이션이 멈춘다.\n",
    "\n",
    "이 문제의 해결책은 이벤트 루프 객체의 **run_in_executor()** 메서드다.\n",
    "\n",
    "asycnio 이벤트 루프는 내부에 스레드 풀 실행자를 가지고 있다."
   ]
  },
  {
   "cell_type": "code",
   "execution_count": 5,
   "metadata": {},
   "outputs": [],
   "source": [
    "@asyncio.coroutine\n",
    "def download_one(cc, base_url, semaphore, verbose):\n",
    "    try:\n",
    "        with (yield from semaphore):\n",
    "            image = yield from get_flag(base_url, cc)\n",
    "    except web.HTTPNotFound:\n",
    "        status = HTTPStatus.not_found\n",
    "        msg = 'not found'\n",
    "    except Exception as exc:\n",
    "        raise FetchError(cc) from exc\n",
    "    else:\n",
    "        loop = asyncio.get_event_loop()\n",
    "        loop.run_in_executor(None,  # 실행자 객체. 이벤트 루프의 기본 스레드 풀 실행자를 사용할 때는 None을 지정.\n",
    "                save_flag, image, cc.lower() + '.gif')  # 콜러블 및 콜러블 인수.\n",
    "        status = HTTPStatus.ok\n",
    "        msg = 'OK'\n",
    "\n",
    "    if verbose and msg:\n",
    "        print(cc, msg)\n",
    "\n",
    "    return Result(status, cc)"
   ]
  },
  {
   "cell_type": "markdown",
   "metadata": {},
   "source": [
    "> 파일 평균 값이 클수록 효과는 잘 드러난다."
   ]
  },
  {
   "cell_type": "markdown",
   "metadata": {},
   "source": [
    "## 18.5 콜백에서 Future와 코루틴으로"
   ]
  },
  {
   "cell_type": "markdown",
   "metadata": {},
   "source": [
    "어떻게 코루틴이 콜백 함수를 향상시키지?\n",
    "\n",
    "콜백 지옥: 콜백안에 콜백 함수가 있는경우. (어떤 연산이 어떤 연산에 종속적일 때)\n",
    "\n",
    "```python\n",
    "def stage1(response1):\n",
    "    request2 = step1(response1)\n",
    "    api_call2(request2, stage2)\n",
    "    \n",
    "def stage2(response2):\n",
    "    request3 = step2(response2)\n",
    "    api_call3(request3, stage3)\n",
    "    \n",
    "def stage3(response3):\n",
    "    step3(response3)\n",
    "\n",
    "    \n",
    "api_call1(request1, stage1)\n",
    "```\n",
    "\n",
    "결과가 나오면 코루틴의 send() 메서드를 이용해서 활성화 시키면 된다."
   ]
  },
  {
   "cell_type": "markdown",
   "metadata": {},
   "source": [
    "```python\n",
    "@asyncio.coroutine\n",
    "def three_stages(request1):\n",
    "    response1 = yield from api_call1(request1)\n",
    "    \n",
    "    request2 = step1(response1)\n",
    "    response2 = yield from api_call2(request2)\n",
    "    \n",
    "    request3 = step2(response2)\n",
    "    response3 = yield from api_call3(request3)\n",
    "    \n",
    "    step3(response3)\n",
    "    \n",
    "loop.create_task(three_stages(request1))\n",
    "```\n",
    "\n",
    "\n",
    "\n",
    "장점\n",
    "- 에러상황에 대처하기 쉽다. (콜백 기반인 경우, 에러상황과 성공한 상황 둘다 처리해야한다. 에러 처리시 콜백 지옥에 가까워 진다...)\n",
    "- 한눈에 보여 이해하기 쉽다.\n",
    "\n",
    "단점\n",
    "- 코루틴에 친해져야 한다.\n",
    "- 일반함수는 사용할 수 없다. 반드시 코루틴이어야 한다."
   ]
  },
  {
   "cell_type": "markdown",
   "metadata": {},
   "source": [
    "## 18.5.1 한번 내려받을 때 여러 가지 요청하기"
   ]
  },
  {
   "cell_type": "code",
   "execution_count": 10,
   "metadata": {},
   "outputs": [],
   "source": [
    "@asyncio.coroutine\n",
    "def http_get(url):\n",
    "    res = yield from aiohttp.request('GET', url)\n",
    "    if res.status == 200:\n",
    "        ctype = res.headers.get('Content-type', '').lower()\n",
    "        if 'json' in ctype or url.endswith('json'):\n",
    "            data = yield from res.json()  # json이라면 json\n",
    "        else:\n",
    "            data = yield from res.read()  # json이 아니라면 byte\n",
    "        return data\n",
    "\n",
    "    elif res.status == 404:\n",
    "        raise web.HTTPNotFound()\n",
    "    else:\n",
    "        raise aiohttp.errors.HttpProcessingError(\n",
    "            code=res.status, message=res.reason,\n",
    "            headers=res.headers)\n",
    "\n",
    "\n",
    "@asyncio.coroutine\n",
    "def get_country(base_url, cc):\n",
    "    url = '{}/{cc}/metadata.json'.format(base_url, cc=cc.lower())\n",
    "    metadata = yield from http_get(url)  # json으로 만들어진 metadata를 받는다.\n",
    "    return metadata['country']\n",
    "\n",
    "\n",
    "@asyncio.coroutine\n",
    "def get_flag(base_url, cc):\n",
    "    url = '{}/{cc}/{cc}.gif'.format(base_url, cc=cc.lower())\n",
    "    return (yield from http_get(url)) # 키워드가 나란히 오면 에러가 난다. 그래서 () 처리\n",
    "\n",
    "\n",
    "@asyncio.coroutine\n",
    "def download_one(cc, base_url, semaphore, verbose):\n",
    "    try:\n",
    "        with (yield from semaphore): # 가능한 빨리 가져오기 위해 2개의 with 블록에서 따로 호출한다.\n",
    "            image = yield from get_flag(base_url, cc)\n",
    "        with (yield from semaphore):\n",
    "            country = yield from get_country(base_url, cc)\n",
    "    except web.HTTPNotFound:\n",
    "        status = HTTPStatus.not_found\n",
    "        msg = 'not found'\n",
    "    except Exception as exc:\n",
    "        raise FetchError(cc) from exc\n",
    "    else:\n",
    "        country = country.replace(' ', '_')\n",
    "        filename = '{}-{}.gif'.format(country, cc)\n",
    "        loop = asyncio.get_event_loop()\n",
    "        loop.run_in_executor(None, save_flag, image, filename)\n",
    "        status = HTTPStatus.ok\n",
    "        msg = 'OK'\n",
    "\n",
    "    if verbose and msg:\n",
    "        print(cc, msg)\n",
    "\n",
    "    return Result(status, cc)"
   ]
  },
  {
   "cell_type": "markdown",
   "metadata": {},
   "source": [
    "## 18.7 요약"
   ]
  },
  {
   "cell_type": "markdown",
   "metadata": {},
   "source": [
    "- 비동기식 시스템은 사용자가 스레드 관리 필요성을 없앰으로 멀티스레드 시스템보다 더 많은 동시성 연결을 관리할 수 있다.\n",
    "- 코루틴을 이용하여 콜백이 가진 에러 처리를 간단히 할 수 있다.\n",
    "- yield from을 빼고 보면 일반적인 순차 코드처럼 보인다."
   ]
  }
 ],
 "metadata": {
  "kernelspec": {
   "display_name": "Python 3",
   "language": "python",
   "name": "python3"
  },
  "language_info": {
   "codemirror_mode": {
    "name": "ipython",
    "version": 3
   },
   "file_extension": ".py",
   "mimetype": "text/x-python",
   "name": "python",
   "nbconvert_exporter": "python",
   "pygments_lexer": "ipython3",
   "version": "3.6.5"
  }
 },
 "nbformat": 4,
 "nbformat_minor": 2
}
