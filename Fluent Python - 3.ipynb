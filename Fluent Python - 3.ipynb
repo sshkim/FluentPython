{
 "cells": [
  {
   "cell_type": "markdown",
   "metadata": {},
   "source": [
    "전문가를 위한 파이썬\n",
    "========\n",
    "3-1 일반적인 맵핑형\n",
    "--------------"
   ]
  },
  {
   "cell_type": "markdown",
   "metadata": {},
   "source": [
    "1. Key 값은 Hash해야 한다.\n",
    "2. dict, UserDict 때문에 isinstance를 이용를 검사하는게 좋다. 다른 맵핑형이 사용될 수 있기 때문이다."
   ]
  },
  {
   "cell_type": "code",
   "execution_count": 1,
   "metadata": {},
   "outputs": [
    {
     "data": {
      "text/plain": [
       "True"
      ]
     },
     "execution_count": 1,
     "metadata": {},
     "output_type": "execute_result"
    }
   ],
   "source": [
    "my_dict = {}\n",
    "import collections\n",
    "isinstance(my_dict, collections.abc.Mapping)"
   ]
  },
  {
   "cell_type": "markdown",
   "metadata": {},
   "source": [
    "#### Dict의 비교\n",
    "1. dict\n",
    "2. defaultdict\n",
    "3. OrderedDict"
   ]
  },
  {
   "cell_type": "markdown",
   "metadata": {},
   "source": [
    "dict.get('key', default) 는 사용 안하는게 좋다."
   ]
  },
  {
   "cell_type": "markdown",
   "metadata": {},
   "source": [
    "##### setdefault()를 이용하면 코드 길이가 줄어든다."
   ]
  },
  {
   "cell_type": "code",
   "execution_count": 13,
   "metadata": {},
   "outputs": [],
   "source": [
    "key = 'key'\n",
    "new_value = 'value'"
   ]
  },
  {
   "cell_type": "code",
   "execution_count": 12,
   "metadata": {},
   "outputs": [
    {
     "name": "stdout",
     "output_type": "stream",
     "text": [
      "{'key': ['value']}\n"
     ]
    }
   ],
   "source": [
    "my_dict = {}\n",
    "my_dict.setdefault(key, []).append(new_value)\n",
    "\n",
    "print(my_dict)"
   ]
  },
  {
   "cell_type": "code",
   "execution_count": 11,
   "metadata": {},
   "outputs": [
    {
     "name": "stdout",
     "output_type": "stream",
     "text": [
      "{'key': ['value']}\n"
     ]
    }
   ],
   "source": [
    "my_dict = {}\n",
    "if key not in my_dict:\n",
    "    my_dict[key] = []\n",
    "my_dict[key].append(new_value)\n",
    "\n",
    "print(my_dict)"
   ]
  },
  {
   "cell_type": "markdown",
   "metadata": {},
   "source": [
    "###### defaultdict은 아래와 같은 구조를 가진다."
   ]
  },
  {
   "cell_type": "code",
   "execution_count": 6,
   "metadata": {},
   "outputs": [],
   "source": [
    "class defaultdict(dict):\n",
    "    def __init__(self, default_factory=None, **kwargs):\n",
    "        \"\"\"\n",
    "        :type default_factory: () -> V\n",
    "        :rtype: defaultdict[Any, V]\n",
    "        \"\"\"\n",
    "        pass\n",
    "\n",
    "    def __missing__(self, key):\n",
    "        \"\"\"\n",
    "        :type key: Any\n",
    "        :rtype: V\n",
    "        \"\"\"\n",
    "        pass"
   ]
  },
  {
   "cell_type": "markdown",
   "metadata": {},
   "source": [
    "##### 그래서 아래와 같이 구현하면, default_factory는 list가 된다."
   ]
  },
  {
   "cell_type": "code",
   "execution_count": 9,
   "metadata": {},
   "outputs": [],
   "source": [
    "import collections\n",
    "index = collections.defaultdict(list)"
   ]
  },
  {
   "cell_type": "markdown",
   "metadata": {},
   "source": [
    "##### dict[number] 를 호출하면 __getitem__() 메타 메소드가 호출된다. 여기서 key 값이 없다면 __missing__() 메타 메소드가 호출된다."
   ]
  },
  {
   "cell_type": "markdown",
   "metadata": {},
   "source": [
    "##### 기본적으로 mapping을 상속하여 사용하는 경우는 UserDict을 사용하는게 좋다.\n",
    "+ __missing__과 __contains__ 재귀적인 호출을 피하기 위해 isinstance()와 key in self.keys()와 같이 명시적으로 정의하였다.\n",
    "+ key in dict 보단 key in dict.keys()가 성능이 좋다."
   ]
  },
  {
   "cell_type": "code",
   "execution_count": 1,
   "metadata": {},
   "outputs": [],
   "source": [
    "class StrKeyDict0(dict):\n",
    "\n",
    "    def __missing__(self, key):\n",
    "        if isinstance(key, str):\n",
    "            raise KeyError(key)\n",
    "        return self[str(key)]\n",
    "\n",
    "    def get(self, key, default=None):\n",
    "        try:\n",
    "            return self[key]\n",
    "        except KeyError:\n",
    "            return default\n",
    "\n",
    "    def __contains__(self, key):\n",
    "        return key in self.keys() or str(key) in self.keys()"
   ]
  },
  {
   "cell_type": "markdown",
   "metadata": {},
   "source": [
    "### 3-5 그외 맵핑형\n",
    "* collections.OrderDict: 키를 삽입한 순서대로(마지막) 사용이 가능하다 popitem(last=True)\n",
    "* collections.ChainMap:.....????\n",
    "* Collections.Counter"
   ]
  },
  {
   "cell_type": "code",
   "execution_count": 7,
   "metadata": {},
   "outputs": [
    {
     "name": "stdout",
     "output_type": "stream",
     "text": [
      "ChainMap({'__name__': '__main__', '__doc__': 'Automatically created module for IPython interactive environment', '__package__': None, '__loader__': None, '__spec__': None, '__builtin__': <module 'builtins' (built-in)>, '__builtins__': <module 'builtins' (built-in)>, '_ih': ['', 'class StrKeyDict0(dict):\\n\\n    def __missing__(self, key):\\n        if isinstance(key, str):\\n            raise KeyError(key)\\n        return self[str(key)]\\n\\n    def get(self, key, default=None):\\n        try:\\n            return self[key]\\n        except KeyError:\\n            return default\\n\\n    def __contains__(self, key):\\n        return key in self.keys() or str(key) in self.keys()', \"import collections\\nct = collections.Counter('abracadabra')\\nprint(ct)\", 'import builtins\\npylookup = Chainlt/lap(localsO, globalsO, vars(builtins))\\nprint(pylookup)', 'import builtins\\npylookup = ChainMap(locals(), globals(), vars(builtins))\\nprint(pylookup)', 'import builtins\\nimport collections.ChainMap\\npylookup = ChainMap(locals(), globals(), vars(builtins))\\nprint(pylookup)', 'import builtins\\nimport collections\\npylookup = ChainMap(locals(), globals(), vars(builtins))\\nprint(pylookup)', 'import builtins\\nimport collections\\npylookup = collections.ChainMap(locals(), globals(), vars(builtins))\\nprint(pylookup)'], '_oh': {}, '_dh': ['/Users/tk/study/jupyter_python'], 'In': ['', 'class StrKeyDict0(dict):\\n\\n    def __missing__(self, key):\\n        if isinstance(key, str):\\n            raise KeyError(key)\\n        return self[str(key)]\\n\\n    def get(self, key, default=None):\\n        try:\\n            return self[key]\\n        except KeyError:\\n            return default\\n\\n    def __contains__(self, key):\\n        return key in self.keys() or str(key) in self.keys()', \"import collections\\nct = collections.Counter('abracadabra')\\nprint(ct)\", 'import builtins\\npylookup = Chainlt/lap(localsO, globalsO, vars(builtins))\\nprint(pylookup)', 'import builtins\\npylookup = ChainMap(locals(), globals(), vars(builtins))\\nprint(pylookup)', 'import builtins\\nimport collections.ChainMap\\npylookup = ChainMap(locals(), globals(), vars(builtins))\\nprint(pylookup)', 'import builtins\\nimport collections\\npylookup = ChainMap(locals(), globals(), vars(builtins))\\nprint(pylookup)', 'import builtins\\nimport collections\\npylookup = collections.ChainMap(locals(), globals(), vars(builtins))\\nprint(pylookup)'], 'Out': {}, 'get_ipython': <bound method InteractiveShell.get_ipython of <ipykernel.zmqshell.ZMQInteractiveShell object at 0x10f623a20>>, 'exit': <IPython.core.autocall.ZMQExitAutocall object at 0x10f67cfd0>, 'quit': <IPython.core.autocall.ZMQExitAutocall object at 0x10f67cfd0>, '_': '', '__': '', '___': '', '_i': 'import builtins\\nimport collections\\npylookup = ChainMap(locals(), globals(), vars(builtins))\\nprint(pylookup)', '_ii': 'import builtins\\nimport collections.ChainMap\\npylookup = ChainMap(locals(), globals(), vars(builtins))\\nprint(pylookup)', '_iii': 'import builtins\\npylookup = ChainMap(locals(), globals(), vars(builtins))\\nprint(pylookup)', '_i1': 'class StrKeyDict0(dict):\\n\\n    def __missing__(self, key):\\n        if isinstance(key, str):\\n            raise KeyError(key)\\n        return self[str(key)]\\n\\n    def get(self, key, default=None):\\n        try:\\n            return self[key]\\n        except KeyError:\\n            return default\\n\\n    def __contains__(self, key):\\n        return key in self.keys() or str(key) in self.keys()', 'StrKeyDict0': <class '__main__.StrKeyDict0'>, '_i2': \"import collections\\nct = collections.Counter('abracadabra')\\nprint(ct)\", 'collections': <module 'collections' from '/usr/local/Cellar/python/3.6.5/Frameworks/Python.framework/Versions/3.6/lib/python3.6/collections/__init__.py'>, 'ct': Counter({'a': 5, 'b': 2, 'r': 2, 'c': 1, 'd': 1}), '_i3': 'import builtins\\npylookup = Chainlt/lap(localsO, globalsO, vars(builtins))\\nprint(pylookup)', 'builtins': <module 'builtins' (built-in)>, '_i4': 'import builtins\\npylookup = ChainMap(locals(), globals(), vars(builtins))\\nprint(pylookup)', '_i5': 'import builtins\\nimport collections.ChainMap\\npylookup = ChainMap(locals(), globals(), vars(builtins))\\nprint(pylookup)', '_i6': 'import builtins\\nimport collections\\npylookup = ChainMap(locals(), globals(), vars(builtins))\\nprint(pylookup)', '_i7': 'import builtins\\nimport collections\\npylookup = collections.ChainMap(locals(), globals(), vars(builtins))\\nprint(pylookup)', 'pylookup': ...}, {'__name__': '__main__', '__doc__': 'Automatically created module for IPython interactive environment', '__package__': None, '__loader__': None, '__spec__': None, '__builtin__': <module 'builtins' (built-in)>, '__builtins__': <module 'builtins' (built-in)>, '_ih': ['', 'class StrKeyDict0(dict):\\n\\n    def __missing__(self, key):\\n        if isinstance(key, str):\\n            raise KeyError(key)\\n        return self[str(key)]\\n\\n    def get(self, key, default=None):\\n        try:\\n            return self[key]\\n        except KeyError:\\n            return default\\n\\n    def __contains__(self, key):\\n        return key in self.keys() or str(key) in self.keys()', \"import collections\\nct = collections.Counter('abracadabra')\\nprint(ct)\", 'import builtins\\npylookup = Chainlt/lap(localsO, globalsO, vars(builtins))\\nprint(pylookup)', 'import builtins\\npylookup = ChainMap(locals(), globals(), vars(builtins))\\nprint(pylookup)', 'import builtins\\nimport collections.ChainMap\\npylookup = ChainMap(locals(), globals(), vars(builtins))\\nprint(pylookup)', 'import builtins\\nimport collections\\npylookup = ChainMap(locals(), globals(), vars(builtins))\\nprint(pylookup)', 'import builtins\\nimport collections\\npylookup = collections.ChainMap(locals(), globals(), vars(builtins))\\nprint(pylookup)'], '_oh': {}, '_dh': ['/Users/tk/study/jupyter_python'], 'In': ['', 'class StrKeyDict0(dict):\\n\\n    def __missing__(self, key):\\n        if isinstance(key, str):\\n            raise KeyError(key)\\n        return self[str(key)]\\n\\n    def get(self, key, default=None):\\n        try:\\n            return self[key]\\n        except KeyError:\\n            return default\\n\\n    def __contains__(self, key):\\n        return key in self.keys() or str(key) in self.keys()', \"import collections\\nct = collections.Counter('abracadabra')\\nprint(ct)\", 'import builtins\\npylookup = Chainlt/lap(localsO, globalsO, vars(builtins))\\nprint(pylookup)', 'import builtins\\npylookup = ChainMap(locals(), globals(), vars(builtins))\\nprint(pylookup)', 'import builtins\\nimport collections.ChainMap\\npylookup = ChainMap(locals(), globals(), vars(builtins))\\nprint(pylookup)', 'import builtins\\nimport collections\\npylookup = ChainMap(locals(), globals(), vars(builtins))\\nprint(pylookup)', 'import builtins\\nimport collections\\npylookup = collections.ChainMap(locals(), globals(), vars(builtins))\\nprint(pylookup)'], 'Out': {}, 'get_ipython': <bound method InteractiveShell.get_ipython of <ipykernel.zmqshell.ZMQInteractiveShell object at 0x10f623a20>>, 'exit': <IPython.core.autocall.ZMQExitAutocall object at 0x10f67cfd0>, 'quit': <IPython.core.autocall.ZMQExitAutocall object at 0x10f67cfd0>, '_': '', '__': '', '___': '', '_i': 'import builtins\\nimport collections\\npylookup = ChainMap(locals(), globals(), vars(builtins))\\nprint(pylookup)', '_ii': 'import builtins\\nimport collections.ChainMap\\npylookup = ChainMap(locals(), globals(), vars(builtins))\\nprint(pylookup)', '_iii': 'import builtins\\npylookup = ChainMap(locals(), globals(), vars(builtins))\\nprint(pylookup)', '_i1': 'class StrKeyDict0(dict):\\n\\n    def __missing__(self, key):\\n        if isinstance(key, str):\\n            raise KeyError(key)\\n        return self[str(key)]\\n\\n    def get(self, key, default=None):\\n        try:\\n            return self[key]\\n        except KeyError:\\n            return default\\n\\n    def __contains__(self, key):\\n        return key in self.keys() or str(key) in self.keys()', 'StrKeyDict0': <class '__main__.StrKeyDict0'>, '_i2': \"import collections\\nct = collections.Counter('abracadabra')\\nprint(ct)\", 'collections': <module 'collections' from '/usr/local/Cellar/python/3.6.5/Frameworks/Python.framework/Versions/3.6/lib/python3.6/collections/__init__.py'>, 'ct': Counter({'a': 5, 'b': 2, 'r': 2, 'c': 1, 'd': 1}), '_i3': 'import builtins\\npylookup = Chainlt/lap(localsO, globalsO, vars(builtins))\\nprint(pylookup)', 'builtins': <module 'builtins' (built-in)>, '_i4': 'import builtins\\npylookup = ChainMap(locals(), globals(), vars(builtins))\\nprint(pylookup)', '_i5': 'import builtins\\nimport collections.ChainMap\\npylookup = ChainMap(locals(), globals(), vars(builtins))\\nprint(pylookup)', '_i6': 'import builtins\\nimport collections\\npylookup = ChainMap(locals(), globals(), vars(builtins))\\nprint(pylookup)', '_i7': 'import builtins\\nimport collections\\npylookup = collections.ChainMap(locals(), globals(), vars(builtins))\\nprint(pylookup)', 'pylookup': ...}, {'__name__': 'builtins', '__doc__': \"Built-in functions, exceptions, and other objects.\\n\\nNoteworthy: None is the `nil' object; Ellipsis represents `...' in slices.\", '__package__': '', '__loader__': <class '_frozen_importlib.BuiltinImporter'>, '__spec__': ModuleSpec(name='builtins', loader=<class '_frozen_importlib.BuiltinImporter'>), '__build_class__': <built-in function __build_class__>, '__import__': <built-in function __import__>, 'abs': <built-in function abs>, 'all': <built-in function all>, 'any': <built-in function any>, 'ascii': <built-in function ascii>, 'bin': <built-in function bin>, 'callable': <built-in function callable>, 'chr': <built-in function chr>, 'compile': <built-in function compile>, 'delattr': <built-in function delattr>, 'dir': <built-in function dir>, 'divmod': <built-in function divmod>, 'eval': <built-in function eval>, 'exec': <built-in function exec>, 'format': <built-in function format>, 'getattr': <built-in function getattr>, 'globals': <built-in function globals>, 'hasattr': <built-in function hasattr>, 'hash': <built-in function hash>, 'hex': <built-in function hex>, 'id': <built-in function id>, 'input': <bound method Kernel.raw_input of <ipykernel.ipkernel.IPythonKernel object at 0x10f627048>>, 'isinstance': <built-in function isinstance>, 'issubclass': <built-in function issubclass>, 'iter': <built-in function iter>, 'len': <built-in function len>, 'locals': <built-in function locals>, 'max': <built-in function max>, 'min': <built-in function min>, 'next': <built-in function next>, 'oct': <built-in function oct>, 'ord': <built-in function ord>, 'pow': <built-in function pow>, 'print': <built-in function print>, 'repr': <built-in function repr>, 'round': <built-in function round>, 'setattr': <built-in function setattr>, 'sorted': <built-in function sorted>, 'sum': <built-in function sum>, 'vars': <built-in function vars>, 'None': None, 'Ellipsis': Ellipsis, 'NotImplemented': NotImplemented, 'False': False, 'True': True, 'bool': <class 'bool'>, 'memoryview': <class 'memoryview'>, 'bytearray': <class 'bytearray'>, 'bytes': <class 'bytes'>, 'classmethod': <class 'classmethod'>, 'complex': <class 'complex'>, 'dict': <class 'dict'>, 'enumerate': <class 'enumerate'>, 'filter': <class 'filter'>, 'float': <class 'float'>, 'frozenset': <class 'frozenset'>, 'property': <class 'property'>, 'int': <class 'int'>, 'list': <class 'list'>, 'map': <class 'map'>, 'object': <class 'object'>, 'range': <class 'range'>, 'reversed': <class 'reversed'>, 'set': <class 'set'>, 'slice': <class 'slice'>, 'staticmethod': <class 'staticmethod'>, 'str': <class 'str'>, 'super': <class 'super'>, 'tuple': <class 'tuple'>, 'type': <class 'type'>, 'zip': <class 'zip'>, '__debug__': True, 'BaseException': <class 'BaseException'>, 'Exception': <class 'Exception'>, 'TypeError': <class 'TypeError'>, 'StopAsyncIteration': <class 'StopAsyncIteration'>, 'StopIteration': <class 'StopIteration'>, 'GeneratorExit': <class 'GeneratorExit'>, 'SystemExit': <class 'SystemExit'>, 'KeyboardInterrupt': <class 'KeyboardInterrupt'>, 'ImportError': <class 'ImportError'>, 'ModuleNotFoundError': <class 'ModuleNotFoundError'>, 'OSError': <class 'OSError'>, 'EnvironmentError': <class 'OSError'>, 'IOError': <class 'OSError'>, 'EOFError': <class 'EOFError'>, 'RuntimeError': <class 'RuntimeError'>, 'RecursionError': <class 'RecursionError'>, 'NotImplementedError': <class 'NotImplementedError'>, 'NameError': <class 'NameError'>, 'UnboundLocalError': <class 'UnboundLocalError'>, 'AttributeError': <class 'AttributeError'>, 'SyntaxError': <class 'SyntaxError'>, 'IndentationError': <class 'IndentationError'>, 'TabError': <class 'TabError'>, 'LookupError': <class 'LookupError'>, 'IndexError': <class 'IndexError'>, 'KeyError': <class 'KeyError'>, 'ValueError': <class 'ValueError'>, 'UnicodeError': <class 'UnicodeError'>, 'UnicodeEncodeError': <class 'UnicodeEncodeError'>, 'UnicodeDecodeError': <class 'UnicodeDecodeError'>, 'UnicodeTranslateError': <class 'UnicodeTranslateError'>, 'AssertionError': <class 'AssertionError'>, 'ArithmeticError': <class 'ArithmeticError'>, 'FloatingPointError': <class 'FloatingPointError'>, 'OverflowError': <class 'OverflowError'>, 'ZeroDivisionError': <class 'ZeroDivisionError'>, 'SystemError': <class 'SystemError'>, 'ReferenceError': <class 'ReferenceError'>, 'BufferError': <class 'BufferError'>, 'MemoryError': <class 'MemoryError'>, 'Warning': <class 'Warning'>, 'UserWarning': <class 'UserWarning'>, 'DeprecationWarning': <class 'DeprecationWarning'>, 'PendingDeprecationWarning': <class 'PendingDeprecationWarning'>, 'SyntaxWarning': <class 'SyntaxWarning'>, 'RuntimeWarning': <class 'RuntimeWarning'>, 'FutureWarning': <class 'FutureWarning'>, 'ImportWarning': <class 'ImportWarning'>, 'UnicodeWarning': <class 'UnicodeWarning'>, 'BytesWarning': <class 'BytesWarning'>, 'ResourceWarning': <class 'ResourceWarning'>, 'ConnectionError': <class 'ConnectionError'>, 'BlockingIOError': <class 'BlockingIOError'>, 'BrokenPipeError': <class 'BrokenPipeError'>, 'ChildProcessError': <class 'ChildProcessError'>, 'ConnectionAbortedError': <class 'ConnectionAbortedError'>, 'ConnectionRefusedError': <class 'ConnectionRefusedError'>, 'ConnectionResetError': <class 'ConnectionResetError'>, 'FileExistsError': <class 'FileExistsError'>, 'FileNotFoundError': <class 'FileNotFoundError'>, 'IsADirectoryError': <class 'IsADirectoryError'>, 'NotADirectoryError': <class 'NotADirectoryError'>, 'InterruptedError': <class 'InterruptedError'>, 'PermissionError': <class 'PermissionError'>, 'ProcessLookupError': <class 'ProcessLookupError'>, 'TimeoutError': <class 'TimeoutError'>, 'open': <built-in function open>, 'copyright': Copyright (c) 2001-2018 Python Software Foundation.\n",
      "All Rights Reserved.\n",
      "\n",
      "Copyright (c) 2000 BeOpen.com.\n",
      "All Rights Reserved.\n",
      "\n",
      "Copyright (c) 1995-2001 Corporation for National Research Initiatives.\n",
      "All Rights Reserved.\n",
      "\n",
      "Copyright (c) 1991-1995 Stichting Mathematisch Centrum, Amsterdam.\n",
      "All Rights Reserved., 'credits':     Thanks to CWI, CNRI, BeOpen.com, Zope Corporation and a cast of thousands\n",
      "    for supporting Python development.  See www.python.org for more information., 'license': Type license() to see the full license text, 'help': Type help() for interactive help, or help(object) for help about object., '__IPYTHON__': True, 'display': <function display at 0x10e3611e0>, 'get_ipython': <bound method InteractiveShell.get_ipython of <ipykernel.zmqshell.ZMQInteractiveShell object at 0x10f623a20>>})\n"
     ]
    }
   ],
   "source": [
    "import builtins\n",
    "import collections\n",
    "pylookup = collections.ChainMap(locals(), globals(), vars(builtins))\n",
    "print(pylookup)"
   ]
  },
  {
   "cell_type": "code",
   "execution_count": 2,
   "metadata": {},
   "outputs": [
    {
     "name": "stdout",
     "output_type": "stream",
     "text": [
      "Counter({'a': 5, 'b': 2, 'r': 2, 'c': 1, 'd': 1})\n"
     ]
    }
   ],
   "source": [
    "import collections\n",
    "ct = collections.Counter('abracadabra')\n",
    "print(ct)"
   ]
  },
  {
   "cell_type": "markdown",
   "metadata": {},
   "source": [
    "### 3-6 UserDict 상속하기\n",
    "\n",
    "* UserDict을 상속하면 좋은 이유는 다음과 같다.\n",
    "    1. data라는 dict 객체를 갖고있다. 그래서 __setitem__에 재귀호출, __contains__ 메서드를 간단히 구현할 수 있다.\n"
   ]
  },
  {
   "cell_type": "code",
   "execution_count": 9,
   "metadata": {},
   "outputs": [],
   "source": [
    "import collections\n",
    "class StrKeyDict(collections.UserDict):\n",
    "    def _missing_(self , key):\n",
    "        if isinstance(key, str):\n",
    "            raise KeyError(key) \n",
    "        return selfIstr(key)\n",
    "    def _contains_(self , key):\n",
    "        return str(key) in self.data\n",
    "    def _setitem_(self, key, item):\n",
    "        self.data[str(key)] = item"
   ]
  },
  {
   "cell_type": "markdown",
   "metadata": {},
   "source": [
    "### 3-7 불변 매핑\n",
    "* MappingProxyType 이라는 래퍼 클래스를 이용하여, 기존 매핑은 반영이 되나, 직접 변경할 수 는 없는 매핑객체를 만들 수 있다."
   ]
  },
  {
   "cell_type": "code",
   "execution_count": 12,
   "metadata": {},
   "outputs": [
    {
     "data": {
      "text/plain": [
       "mappingproxy({1: 'A'})"
      ]
     },
     "execution_count": 12,
     "metadata": {},
     "output_type": "execute_result"
    }
   ],
   "source": [
    "from types import MappingProxyType\n",
    "d={1:'A'}\n",
    "d_proxy = MappingProxyType(d)\n",
    "d_proxy"
   ]
  },
  {
   "cell_type": "code",
   "execution_count": 13,
   "metadata": {},
   "outputs": [
    {
     "data": {
      "text/plain": [
       "'A'"
      ]
     },
     "execution_count": 13,
     "metadata": {},
     "output_type": "execute_result"
    }
   ],
   "source": [
    "d_proxy[1]"
   ]
  },
  {
   "cell_type": "code",
   "execution_count": 14,
   "metadata": {},
   "outputs": [
    {
     "ename": "TypeError",
     "evalue": "'mappingproxy' object does not support item assignment",
     "output_type": "error",
     "traceback": [
      "\u001b[0;31m---------------------------------------------------------------------------\u001b[0m",
      "\u001b[0;31mTypeError\u001b[0m                                 Traceback (most recent call last)",
      "\u001b[0;32m<ipython-input-14-f585899a63cb>\u001b[0m in \u001b[0;36m<module>\u001b[0;34m()\u001b[0m\n\u001b[0;32m----> 1\u001b[0;31m \u001b[0md_proxy\u001b[0m\u001b[0;34m[\u001b[0m\u001b[0;36m2\u001b[0m\u001b[0;34m]\u001b[0m \u001b[0;34m=\u001b[0m \u001b[0;34m'B'\u001b[0m\u001b[0;34m\u001b[0m\u001b[0m\n\u001b[0m",
      "\u001b[0;31mTypeError\u001b[0m: 'mappingproxy' object does not support item assignment"
     ]
    }
   ],
   "source": [
    "d_proxy[2] = 'B'"
   ]
  },
  {
   "cell_type": "code",
   "execution_count": 15,
   "metadata": {},
   "outputs": [
    {
     "data": {
      "text/plain": [
       "mappingproxy({1: 'A', 2: 'B'})"
      ]
     },
     "execution_count": 15,
     "metadata": {},
     "output_type": "execute_result"
    }
   ],
   "source": [
    "d[2] = 'B'\n",
    "d_proxy"
   ]
  },
  {
   "cell_type": "markdown",
   "metadata": {},
   "source": [
    "### 3-8 집합 이론\n",
    "\n",
    "* 집합 연산을 이용하자 & | - 와 같은... 가독성 및 성능이 뛰어나다."
   ]
  },
  {
   "cell_type": "code",
   "execution_count": 18,
   "metadata": {},
   "outputs": [
    {
     "name": "stdout",
     "output_type": "stream",
     "text": [
      "  1           0 LOAD_CONST               0 (1)\n",
      "              2 BUILD_SET                1\n",
      "              4 RETURN_VALUE\n"
     ]
    }
   ],
   "source": [
    "from dis import dis\n",
    "\n",
    "dis('{1}')"
   ]
  },
  {
   "cell_type": "code",
   "execution_count": 17,
   "metadata": {},
   "outputs": [
    {
     "name": "stdout",
     "output_type": "stream",
     "text": [
      "  1           0 LOAD_NAME                0 (set)\n",
      "              2 LOAD_CONST               0 (1)\n",
      "              4 BUILD_LIST               1\n",
      "              6 CALL_FUNCTION            1\n",
      "              8 RETURN_VALUE\n"
     ]
    }
   ],
   "source": [
    "dis('set([1])')"
   ]
  },
  {
   "cell_type": "markdown",
   "metadata": {},
   "source": [
    "#### dis 함수를 이용하여 리터럴 표현식{1}과 set([1])에 작업 단계를 비교하면 {1}로 집합을 생성하는게 효율적인 것을 알 수 있다.\n",
    "> {1}는 BUILD_SET 이라는 특수 바이트코드가 모든 일을 처리한다."
   ]
  },
  {
   "cell_type": "code",
   "execution_count": null,
   "metadata": {},
   "outputs": [],
   "source": []
  },
  {
   "cell_type": "code",
   "execution_count": null,
   "metadata": {},
   "outputs": [],
   "source": []
  }
 ],
 "metadata": {
  "kernelspec": {
   "display_name": "Python 3",
   "language": "python",
   "name": "python3"
  },
  "language_info": {
   "codemirror_mode": {
    "name": "ipython",
    "version": 3
   },
   "file_extension": ".py",
   "mimetype": "text/x-python",
   "name": "python",
   "nbconvert_exporter": "python",
   "pygments_lexer": "ipython3",
   "version": "3.6.5"
  }
 },
 "nbformat": 4,
 "nbformat_minor": 2
}
