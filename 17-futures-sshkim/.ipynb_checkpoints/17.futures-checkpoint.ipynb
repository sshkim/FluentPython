{
 "cells": [
  {
   "cell_type": "markdown",
   "metadata": {},
   "source": [
    "# Chapter 17. Future를 이용한 동시성"
   ]
  },
  {
   "cell_type": "markdown",
   "metadata": {},
   "source": [
    "* Future에 대해 알자\n",
    "* 비동기 작업\n",
    "* asyncio의 기반"
   ]
  },
  {
   "cell_type": "markdown",
   "metadata": {},
   "source": [
    "## 17.1 예제: 세 가지 스타일의 웹 내려받기\n",
    "\n",
    "* 네트워크 입출력을 효율적으로 사용하기 위해선 동시성"
   ]
  },
  {
   "cell_type": "markdown",
   "metadata": {},
   "source": [
    "3가지 예를 통해 효율성을 알아보자.\n",
    "1. 순차적 다운로드\n",
    "2. concurrents.futures를 이용한 방법\n",
    "3. asyncio를 이용한 방법"
   ]
  },
  {
   "cell_type": "markdown",
   "metadata": {},
   "source": [
    "_CDN 이란?_\n",
    "<br/>\n",
    "여러노드를 가진 네트워크에 데이터를 저장하여 제공하는 서비스. Client가 요청하면 가장 근접한 CDN에서 캐쉬된 데이터를 제공하므로 속도가 빠르다."
   ]
  },
  {
   "cell_type": "markdown",
   "metadata": {},
   "source": [
    "## 17.1.1 순차 내려받기 스크립트"
   ]
  },
  {
   "cell_type": "markdown",
   "metadata": {},
   "source": [
    "흥미롭지 않은 부분이니 간단히 보자."
   ]
  },
  {
   "cell_type": "code",
   "execution_count": 5,
   "metadata": {
    "scrolled": true
   },
   "outputs": [
    {
     "name": "stdout",
     "output_type": "stream",
     "text": [
      "import os\r\n",
      "import time\r\n",
      "import sys\r\n",
      "\r\n",
      "import requests  # <1>\r\n",
      "\r\n",
      "POP20_CC = ('CN IN US ID BR PK NG BD RU JP '\r\n",
      "            'MX PH VN ET EG DE IR TR CD FR').split()  # <2>\r\n",
      "\r\n",
      "BASE_URL = 'http://flupy.org/data/flags'  # <3>\r\n",
      "\r\n",
      "DEST_DIR = 'downloads/'  # <4>\r\n",
      "\r\n",
      "\r\n",
      "def save_flag(img, filename):  # <5>\r\n",
      "    path = os.path.join(DEST_DIR, filename)\r\n",
      "    with open(path, 'wb') as fp:\r\n",
      "        fp.write(img)\r\n",
      "\r\n",
      "\r\n",
      "def get_flag(cc):  # <6>\r\n",
      "    url = '{}/{cc}/{cc}.gif'.format(BASE_URL, cc=cc.lower())\r\n",
      "    resp = requests.get(url)\r\n",
      "    return resp.content\r\n",
      "\r\n",
      "\r\n",
      "def show(text):  # <7>\r\n",
      "    print(text, end=' ')\r\n",
      "    sys.stdout.flush()\r\n",
      "\r\n",
      "\r\n",
      "def download_many(cc_list):  # <8>\r\n",
      "    for cc in sorted(cc_list):  # <9> 순차적으로 동작한다.\r\n",
      "        image = get_flag(cc)\r\n",
      "        show(cc)\r\n",
      "        save_flag(image, cc.lower() + '.gif')\r\n",
      "\r\n",
      "    return len(cc_list)\r\n",
      "\r\n",
      "\r\n",
      "def main(download_many):  # <10>\r\n",
      "    t0 = time.time()\r\n",
      "    count = download_many(POP20_CC)\r\n",
      "    elapsed = time.time() - t0\r\n",
      "    msg = '\\n{} flags downloaded in {:.2f}s'\r\n",
      "    print(msg.format(count, elapsed))\r\n",
      "\r\n",
      "\r\n",
      "if __name__ == '__main__':\r\n",
      "    main(download_many)  # <11>\r\n",
      "# END FLAGS_PY\r\n"
     ]
    }
   ],
   "source": [
    "! cat countries/flags.py"
   ]
  },
  {
   "cell_type": "markdown",
   "metadata": {},
   "source": [
    "## 17.1.2 concurrents.futures로 내려받기"
   ]
  },
  {
   "cell_type": "markdown",
   "metadata": {},
   "source": [
    "- ThreadPoolExecutor\n",
    "- ProcessPoolExecutor\n",
    "\n",
    "특징:\n",
    "1. 콜러블 객체를 서로 다른 쓰레드, 프로세스에서 실행할 수 있게 해주는 인터페이스를 구현한다.\n",
    "2. 작업자 쓰레드나 작업자 프로세스를 관리하는 풀.\n",
    "3. 실행할 작업을 담당하는 큐."
   ]
  },
  {
   "cell_type": "code",
   "execution_count": 6,
   "metadata": {
    "scrolled": true
   },
   "outputs": [
    {
     "name": "stdout",
     "output_type": "stream",
     "text": [
      "\"\"\"Download flags of top 20 countries by population\r\n",
      "\r\n",
      "ThreadPoolExecutor version\r\n",
      "\r\n",
      "Sample run::\r\n",
      "\r\n",
      "    $ python3 flags_threadpool.py\r\n",
      "    BD retrieved.\r\n",
      "    EG retrieved.\r\n",
      "    CN retrieved.\r\n",
      "    ...\r\n",
      "    PH retrieved.\r\n",
      "    US retrieved.\r\n",
      "    IR retrieved.\r\n",
      "    20 flags downloaded in 0.93s\r\n",
      "\r\n",
      "\"\"\"\r\n",
      "# BEGIN FLAGS_THREADPOOL\r\n",
      "from concurrent import futures\r\n",
      "\r\n",
      "from flags import save_flag, get_flag, show, main  # <1>\r\n",
      "\r\n",
      "MAX_WORKERS = 20  # <2>\r\n",
      "\r\n",
      "\r\n",
      "def download_one(cc):  # <3>\r\n",
      "    image = get_flag(cc)\r\n",
      "    show(cc)\r\n",
      "    save_flag(image, cc.lower() + '.gif')\r\n",
      "    return cc\r\n",
      "\r\n",
      "\r\n",
      "def download_many(cc_list):\r\n",
      "    workers = min(MAX_WORKERS, len(cc_list))  # <4>\r\n",
      "    with futures.ThreadPoolExecutor(workers) as executor:  # <5>\r\n",
      "        res = executor.map(download_one, sorted(cc_list))  # <6>\r\n",
      "\r\n",
      "    return len(list(res))  # <7>\r\n",
      "\r\n",
      "\r\n",
      "if __name__ == '__main__':\r\n",
      "    main(download_many)  # <8>\r\n",
      "# END FLAGS_THREADPOOL\r\n"
     ]
    }
   ],
   "source": [
    "! cat countries/flags_threadpool.py"
   ]
  },
  {
   "cell_type": "markdown",
   "metadata": {},
   "source": [
    "## 17.1.3 Future는 어디에 있나?"
   ]
  },
  {
   "cell_type": "code",
   "execution_count": null,
   "metadata": {},
   "outputs": [],
   "source": []
  }
 ],
 "metadata": {
  "kernelspec": {
   "display_name": "Python 3",
   "language": "python",
   "name": "python3"
  },
  "language_info": {
   "codemirror_mode": {
    "name": "ipython",
    "version": 3
   },
   "file_extension": ".py",
   "mimetype": "text/x-python",
   "name": "python",
   "nbconvert_exporter": "python",
   "pygments_lexer": "ipython3",
   "version": "3.6.5"
  }
 },
 "nbformat": 4,
 "nbformat_minor": 2
}
