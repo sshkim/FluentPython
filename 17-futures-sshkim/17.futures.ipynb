{
 "cells": [
  {
   "cell_type": "markdown",
   "metadata": {},
   "source": [
    "# Chapter 17. Future를 이용한 동시성"
   ]
  },
  {
   "cell_type": "markdown",
   "metadata": {},
   "source": [
    "* Future에 대해 알자.\n",
    "    * 비동기 작업을 나타낸다.\n",
    "    * concurrent.futures 그리고 asyncio의 패키지 기반이 된다."
   ]
  },
  {
   "cell_type": "markdown",
   "metadata": {},
   "source": [
    "## 17.1 예제: 세 가지 스타일의 웹 내려받기\n",
    "\n",
    "* 네트워크 입출력을 효율적으로 사용하기 위해선 동시성\n",
    "\n",
    "다운로드나 요청을 기다리는 동안 다른 작업을 진행하면되니까..."
   ]
  },
  {
   "cell_type": "markdown",
   "metadata": {},
   "source": [
    "3가지 예를 통해 효율성을 알아보자.\n",
    "1. 순차적 다운로드\n",
    "2. concurrents.futures를 이용한 방법\n",
    "3. asyncio를 이용한 방법\n",
    "\n",
    "완료 결과 시간\n",
    "1. 평균 7.18\n",
    "2. 평균 1.40\n",
    "3. 평균 1.35"
   ]
  },
  {
   "cell_type": "markdown",
   "metadata": {},
   "source": [
    "_CDN 이란?_\n",
    "\n",
    "\n",
    "여러노드를 가진 네트워크에 데이터를 저장하여 제공하는 서비스. Client가 요청하면 가장 근접한 CDN에서 캐쉬된 데이터를 제공하므로 속도가 빠르다."
   ]
  },
  {
   "cell_type": "markdown",
   "metadata": {},
   "source": [
    "## 17.1.1 순차 내려받기 스크립트"
   ]
  },
  {
   "cell_type": "markdown",
   "metadata": {},
   "source": [
    "흥미롭지 않은 부분이니 간단히 보자."
   ]
  },
  {
   "cell_type": "code",
   "execution_count": 68,
   "metadata": {
    "scrolled": true
   },
   "outputs": [
    {
     "name": "stdout",
     "output_type": "stream",
     "text": [
      "import os\r\n",
      "import time\r\n",
      "import sys\r\n",
      "\r\n",
      "import requests  # urllib.requests 보다 강력하고 사용하기 쉽다.\r\n",
      "\r\n",
      "POP20_CC = ('CN IN US ID BR PK NG BD RU JP '\r\n",
      "            'MX PH VN ET EG DE IR TR CD FR').split()\r\n",
      "\r\n",
      "BASE_URL = 'http://flupy.org/data/flags'\r\n",
      "\r\n",
      "DEST_DIR = 'downloads/'\r\n",
      "\r\n",
      "\r\n",
      "def save_flag(img, filename):\r\n",
      "    path = os.path.join(DEST_DIR, filename)\r\n",
      "    with open(path, 'wb') as fp:\r\n",
      "        fp.write(img)\r\n",
      "\r\n",
      "\r\n",
      "def get_flag(cc):\r\n",
      "    url = '{}/{cc}/{cc}.gif'.format(BASE_URL, cc=cc.lower())\r\n",
      "    resp = requests.get(url)\r\n",
      "    return resp.content\r\n",
      "\r\n",
      "\r\n",
      "def show(text):\r\n",
      "    print(text, end=' ')\r\n",
      "    sys.stdout.flush()\r\n",
      "\r\n",
      "\r\n",
      "def download_many(cc_list):\r\n",
      "    for cc in sorted(cc_list):  # 순차적으로 동작한다.\r\n",
      "        image = get_flag(cc)\r\n",
      "        show(cc)\r\n",
      "        save_flag(image, cc.lower() + '.gif')\r\n",
      "\r\n",
      "    return len(cc_list)\r\n",
      "\r\n",
      "\r\n",
      "def main(download_many):\r\n",
      "    t0 = time.time()\r\n",
      "    count = download_many(POP20_CC)\r\n",
      "    elapsed = time.time() - t0\r\n",
      "    msg = '\\n{} flags downloaded in {:.2f}s'\r\n",
      "    print(msg.format(count, elapsed))\r\n",
      "\r\n",
      "\r\n",
      "if __name__ == '__main__':\r\n",
      "    main(download_many)\r\n"
     ]
    }
   ],
   "source": [
    "! cat flags.py"
   ]
  },
  {
   "cell_type": "markdown",
   "metadata": {},
   "source": [
    "> requests 쓰세요. \n",
    "1. 호환성(2,3)\n",
    "2. 손쉬운 사용법(> urllib.requests)"
   ]
  },
  {
   "cell_type": "markdown",
   "metadata": {},
   "source": [
    "## 17.1.2 concurrents.futures로 내려받기"
   ]
  },
  {
   "cell_type": "markdown",
   "metadata": {},
   "source": [
    "- ThreadPoolExecutor\n",
    "- ProcessPoolExecutor\n",
    "\n",
    "특징:\n",
    "1. 콜러블 객체를 서로 다른 쓰레드(ThreadPool), 프로세스(ProcessPool)에서 실행할 수 있게 해주는 인터페이스를 구현한다.\n",
    "2. 작업자 쓰레드나 작업자 프로세스를 관리하는 풀.\n",
    "3. 실행할 작업을 담당하는 큐를 가지고 있다."
   ]
  },
  {
   "cell_type": "code",
   "execution_count": 23,
   "metadata": {
    "scrolled": true
   },
   "outputs": [
    {
     "name": "stdout",
     "output_type": "stream",
     "text": [
      "from concurrent import futures\r\n",
      "\r\n",
      "from flags import save_flag, get_flag, show, main\r\n",
      "\r\n",
      "MAX_WORKERS = 20  # ThreadPoolExecutor에서 사용할 Worker 수\r\n",
      "\r\n",
      "\r\n",
      "def download_one(cc):\r\n",
      "    image = get_flag(cc)\r\n",
      "    show(cc)\r\n",
      "    save_flag(image, cc.lower() + '.gif')\r\n",
      "    return cc\r\n",
      "\r\n",
      "\r\n",
      "def download_many(cc_list):\r\n",
      "    workers = min(MAX_WORKERS, len(cc_list))  # Worker의 최대 값은 list size\r\n",
      "    with futures.ThreadPoolExecutor(workers) as executor:\r\n",
      "        res = executor.map(download_one, sorted(cc_list))  # 반환한 값을 가져올 수 있도록 반복할 수 있는 제너레이터를 반환한다. return generator\r\n",
      "\r\n",
      "    return len(list(res))  # download_one 함수에서 에러가 발생시 여기서 발생한다. 제너레이터에서 에러 발생했을 경우를 생각해보자.\r\n",
      "\r\n",
      "\r\n",
      "if __name__ == '__main__':\r\n",
      "    main(download_many)\r\n"
     ]
    }
   ],
   "source": [
    "! cat flags_threadpool.py"
   ]
  },
  {
   "cell_type": "markdown",
   "metadata": {},
   "source": [
    "## 17.1.3 Future는 어디에 있나?"
   ]
  },
  {
   "cell_type": "markdown",
   "metadata": {},
   "source": [
    "**비슷한 것들**\n",
    "- Javascript의 Promise\n",
    "- Twisted의 Deffered\n",
    "- Tonado의 Future\n",
    "\n",
    "**Future 란?**\n",
    "- concurrent.futures와 asyncio의 핵심 컴포넌트\n",
    "- Future 객체는 concurrent.futures.Executor의 서브클래스 실행을 스케줄링한 후에만 생성된다.\n",
    "- Future는 대기중인 작업을 큐에 넣고, 완료 상태를 조사하고, 결과를 가져올 수 있도록 캡슐화한다.\n",
    "- Future는 앞으로 일어날 일을 나타내고, Future를 실행하는 프레임워크만이 어떤 일이 일어날지 확실히 알 수 있으므로, **직접 객체를 생성해서는 안된다.**\n",
    "- 두 프레임워크(concurrents.futures, asyncio)의 Future 클래스에는 논블로킹.\n",
    "\n",
    "**method**\n",
    "- done(): 실행 완료 return boolean\n",
    "- add_done_callback(): 완료 시, 클라이언트에 통지. 해당 객체에 하나의 인수를 받는 콜러블을 전달하면 Future 객체 작업이 완료 시, 이 콜러블 호출되고 Future 객체를 인수로 받는다. return Future\n",
    "- result(): 완료 시, 콜러블 결과를 반환. \n",
    "    \n",
    "    단, 완료되지 않은 경우.\n",
    "    - concurrent.futures는 호출자 쓰레드를 블로킹. 그래서 timeout 설정이 가능하다. (timeout을 넘어가면 TimeoutError)\n",
    "    - asyncio는 논블로킹 설계로 구현이 되어 timeout 설정은 불가능하고, yield from을 이용하여 Future 객체의 상태를 가져온다. (18.1.1에 설명)\n",
    "- map(): 내부에서 Future 객체를 사용하는 예.\n",
    "    - map()이 반환한 generator 객체는 \\_\\_next\\_\\_()가 호출될 때 마다, result()를 호출하므로, Future 객체가 아닌 Future의 결과값을 반환한다.\n",
    "- as_completed(): Future를 담은 generator를 인수로 받아, 완료된 Future 객체를 생성하는 generator를 반환한다."
   ]
  },
  {
   "cell_type": "code",
   "execution_count": 24,
   "metadata": {
    "scrolled": true
   },
   "outputs": [
    {
     "name": "stdout",
     "output_type": "stream",
     "text": [
      "from concurrent import futures\r\n",
      "\r\n",
      "from flags import save_flag, get_flag, show, main\r\n",
      "\r\n",
      "MAX_WORKERS = 20\r\n",
      "\r\n",
      "\r\n",
      "def download_one(cc):\r\n",
      "    image = get_flag(cc)\r\n",
      "    show(cc)\r\n",
      "    save_flag(image, cc.lower() + '.gif')\r\n",
      "    return cc\r\n",
      "\r\n",
      "\r\n",
      "def download_many(cc_list):\r\n",
      "    cc_list = cc_list[:5]\r\n",
      "    with futures.ThreadPoolExecutor(max_workers=3) as executor:\r\n",
      "        to_do = []\r\n",
      "        for cc in sorted(cc_list):\r\n",
      "            future = executor.submit(download_one, cc)  # callable이 실행되도록 스케쥴링하고 이 작업을 나타내는 Future 객체를 반환한다.\r\n",
      "            to_do.append(future)\r\n",
      "            msg = 'Scheduled for {}: {}'\r\n",
      "            print(msg.format(cc, future))\r\n",
      "\r\n",
      "        results = []\r\n",
      "        for future in futures.as_completed(to_do):  # as_completed는 Future가 완료될 때, 해당 Future 객체 생성한다.\r\n",
      "            res = future.result()  # Future 객체의 결과를 가져온다.\r\n",
      "            msg = '{} result: {!r}'\r\n",
      "            print(msg.format(future, res))\r\n",
      "            results.append(res)\r\n",
      "\r\n",
      "    return len(results)\r\n",
      "\r\n",
      "\r\n",
      "if __name__ == '__main__':\r\n",
      "    main(download_many)\r\n"
     ]
    }
   ],
   "source": [
    "! cat flags_threadpool_ac.py"
   ]
  },
  {
   "cell_type": "code",
   "execution_count": null,
   "metadata": {},
   "outputs": [],
   "source": [
    "def download_many(cc_list):\n",
    "    cc_list = cc_list[:5]\n",
    "    with futures.ThreadPoolExecutor(max_workers=3) as executor:\n",
    "        to_do = []\n",
    "        for cc in sorted(cc_list):\n",
    "            future = executor.submit(download_one, cc)  # callable이 실행되도록 스케쥴링하고 이 작업을 나타내는 Future 객체를 반환한다.\n",
    "            to_do.append(future)\n",
    "            msg = 'Scheduled for {}: {}'\n",
    "            print(msg.format(cc, future))\n",
    "\n",
    "        results = []\n",
    "        for future in futures.as_completed(to_do):  # as_completed는 Future가 완료될 때, 해당 Future 객체 생성한다.\n",
    "            res = future.result()  # Future 객체의 결과를 가져온다.\n",
    "            msg = '{} result: {!r}'\n",
    "            print(msg.format(future, res))\n",
    "            results.append(res)\n",
    "\n",
    "    return len(results)"
   ]
  },
  {
   "cell_type": "code",
   "execution_count": 13,
   "metadata": {},
   "outputs": [
    {
     "name": "stdout",
     "output_type": "stream",
     "text": [
      "Scheduled for BR: <Future at 0x10bbc55f8 state=running>\n",
      "Scheduled for CN: <Future at 0x10bbd10f0 state=running>\n",
      "Scheduled for ID: <Future at 0x10bbd16a0 state=running>\n",
      "Scheduled for IN: <Future at 0x10bbd1be0 state=pending>\n",
      "Scheduled for US: <Future at 0x10bbdc128 state=pending>\n",
      "CN <Future at 0x10bbd10f0 state=finished returned str> result: 'CN'\n",
      "BR <Future at 0x10bbc55f8 state=finished returned str> result: 'BR'\n",
      "ID <Future at 0x10bbd16a0 state=finished returned str> result: 'ID'\n",
      "IN <Future at 0x10bbd1be0 state=finished returned str> result: 'IN'\n",
      "US <Future at 0x10bbdc128 state=finished returned str> result: 'US'\n",
      "\n",
      "5 flags downloaded in 0.68s\n"
     ]
    }
   ],
   "source": [
    "! python3 flags_threadpool_ac.py"
   ]
  },
  {
   "cell_type": "markdown",
   "metadata": {},
   "source": [
    "작업자 쓰레드가 3개로 설정해서 2개는 작업자 쓰레드를 대기하고 있는 pending 상태가 된다."
   ]
  },
  {
   "cell_type": "markdown",
   "metadata": {},
   "source": [
    "동시성 스크립트는 어느 것도 병렬로 받을 수 없다.\n",
    "concurrent.futures는 전역 인터프린터 락(GIL)에 의해 제한된다.\n",
    "flags_asyncio.py는 단일 실행된다.\n",
    "\n",
    "이런 의문..??\n",
    "- 파이썬 쓰레드는 하나의 쓰레드만 실행하도록 GIL에 의해 제한이 되는데 왜 속도가 더 빠를까? (flags vs flags_threadpool)\n",
    "- 둘다 단일 쓰레드인데 왜 aysncio가 속도가 더 빠를까? (flags vs flags_asyncio)"
   ]
  },
  {
   "cell_type": "code",
   "execution_count": 27,
   "metadata": {
    "scrolled": true
   },
   "outputs": [
    {
     "name": "stdout",
     "output_type": "stream",
     "text": [
      "import asyncio\r\n",
      "\r\n",
      "import aiohttp\r\n",
      "\r\n",
      "from flags import BASE_URL, save_flag, show, main\r\n",
      "\r\n",
      "\r\n",
      "@asyncio.coroutine\r\n",
      "def get_flag(cc):\r\n",
      "    url = '{}/{cc}/{cc}.gif'.format(BASE_URL, cc=cc.lower())\r\n",
      "    resp = yield from aiohttp.request('GET', url)\r\n",
      "    image = yield from resp.read()\r\n",
      "    return image\r\n",
      "\r\n",
      "\r\n",
      "@asyncio.coroutine\r\n",
      "def download_one(cc):\r\n",
      "    image = yield from get_flag(cc)\r\n",
      "    show(cc)\r\n",
      "    save_flag(image, cc.lower() + '.gif')\r\n",
      "    return cc\r\n",
      "\r\n",
      "\r\n",
      "def download_many(cc_list):\r\n",
      "    loop = asyncio.get_event_loop()\r\n",
      "    to_do = [download_one(cc) for cc in sorted(cc_list)]\r\n",
      "    wait_coro = asyncio.wait(to_do)\r\n",
      "    res, _ = loop.run_until_complete(wait_coro)\r\n",
      "    loop.close()\r\n",
      "\r\n",
      "    return len(res)\r\n",
      "\r\n",
      "\r\n",
      "if __name__ == '__main__':\r\n",
      "    main(download_many)\r\n"
     ]
    }
   ],
   "source": [
    "! cat flags_asyncio.py"
   ]
  },
  {
   "cell_type": "markdown",
   "metadata": {},
   "source": [
    "## 17.2 블로킹 I/O와 GIL"
   ]
  },
  {
   "cell_type": "markdown",
   "metadata": {},
   "source": [
    "CPython은 내부적으로 쓰레드에 안전하지 않다. 그래서 전역 인터프리터 락(GIL)을 가지고 있다.\n",
    "\n",
    "GIL은 한번에 한 쓰레드만 파이썬 바이트코드를 실행하도록 한다.\n",
    "\n",
    "그러나, 블로킹 입출력을 실행하는 모든 표준 라이브러리 함수는 OS에서 결과를 기다리는 동안 GIL을 해체한다. 즉 입출력 위주의 작업을 실행하는 파이썬 프로그램은 파이썬으로 구현하더라도 스레드(다수의)를 이용함으로써 이득을 볼 수 있다.\n",
    "\n",
    ">*파이썬 표준 라이브러리의 모든 블로킹 입출력 함수뿐만 아니라 time.sleep() 함수도 GIL을 해제해서 다른 스레드가 실행할 수 있게 해준다.*"
   ]
  },
  {
   "cell_type": "markdown",
   "metadata": {},
   "source": [
    "## 17.3 concurrent.futures로 프로세스 실행하기"
   ]
  },
  {
   "cell_type": "markdown",
   "metadata": {},
   "source": [
    "- ProcessPoolExecutor로 파이썬 프로세스에 분산시켜 병렬 컴퓨팅이 가능하다.\n",
    "- ProcessPoolExecutor는 GIL을 우회하므로, 계산 위주의 작업을 수행하는 경우, 가능 CPU를 모두 사용한다.\n",
    "- ProcessPoolExecutor, ThreadPoolExecutor는 모두 범용 Executor 인터페이스를 구현한다.\n",
    "- concurrent.futures를 사용하는 경우에는 스레드 기반 프로그램을 프로세스 기반의 프로그램으로 쉽게 변환할 수 있다."
   ]
  },
  {
   "cell_type": "markdown",
   "metadata": {},
   "source": [
    "```python\n",
    "def download_many(cc_list):\n",
    "    workers = min(MAX_WORKERS, len(cc_list))\n",
    "    with futures.ThreadPoolExecutor(workers) as executor:\n",
    "        res = executor.map(download_one, sorted(cc_list))\n",
    "\n",
    "    return len(list(res))\n",
    "```\n",
    "위와 같은 코드를 아래와 같이 변경해도 도움이 안된다.\n",
    "\n",
    "```python\n",
    "def download_many(cc_list):\n",
    "    workers = min(MAX_WORKERS, len(cc_list))\n",
    "    with futures.ProcessPoolExecutor() as executor:\n",
    "        res = executor.map(download_one, sorted(cc_list))\n",
    "\n",
    "    return len(list(res))\n",
    "```\n"
   ]
  },
  {
   "cell_type": "markdown",
   "metadata": {},
   "source": [
    "> 왜 ProcessPoolExecutor는 작업자 수를 설정하지 않을까?\n",
    "- 계산 위주의 처리는 CPU보다 많은 수의 작업자를 요청하는게 의미가 없다.\n",
    "- 기존적으로 작업자 수는 os.cpu_count()가 반환된 값을 사용한다.\n",
    "\n",
    "> 그러나 ThreadPoolExecutor는?\n",
    "- 입출력 위주의 연산을 처리할 때는 수십에서 수천개의 쓰레드를 사용할 수 있다.\n",
    "- 적절한 쓰레드 개수를 찾는게 중요하다.\n",
    "\n",
    "**ProcessPoolExecutor은 CPU와 관련이 있다. (프로세스)**\n",
    "    \n",
    "    \n",
    "**ThreadPoolExecutor는 메모리와 관련이 있다. (쓰레드)**\n",
    "- 테스트해서 적절한 쓰레드를 찾아야된다.\n",
    "\n",
    "\n",
    "위의 결과는 ThreadPoolExecutor가 더 빠른데 이유는 작업자 수 차이에 있다. 작업자 수가 작으니 더 늦게 처리된다.\n",
    "\n",
    "ProcessPoolExecutor는 계산 위주의 작업에서 진가를 발휘한다.\n",
    "\n",
    "아래는 ProcessPoolExecutor의 성능을 볼 수 있는 코드이다."
   ]
  },
  {
   "cell_type": "code",
   "execution_count": 18,
   "metadata": {
    "scrolled": true
   },
   "outputs": [
    {
     "name": "stdout",
     "output_type": "stream",
     "text": [
      "import sys\r\n",
      "import time\r\n",
      "from concurrent import futures\r\n",
      "from random import randrange\r\n",
      "from arcfour import arcfour\r\n",
      "\r\n",
      "JOBS = 12\r\n",
      "SIZE = 2**18\r\n",
      "\r\n",
      "KEY = b\"'Twas brillig, and the slithy toves\\nDid gyre\"\r\n",
      "STATUS = '{} workers, elapsed time: {:.2f}s'\r\n",
      "\r\n",
      "\r\n",
      "def arcfour_test(size, key):\r\n",
      "    in_text = bytearray(randrange(256) for i in range(size))\r\n",
      "    cypher_text = arcfour(key, in_text)\r\n",
      "    out_text = arcfour(key, cypher_text)\r\n",
      "    assert in_text == out_text, 'Failed arcfour_test'\r\n",
      "    return size\r\n",
      "\r\n",
      "\r\n",
      "def main(workers=None):\r\n",
      "    if workers:\r\n",
      "        workers = int(workers)\r\n",
      "    t0 = time.time()\r\n",
      "\r\n",
      "    with futures.ProcessPoolExecutor(workers) as executor:\r\n",
      "        actual_workers = executor._max_workers\r\n",
      "        to_do = []\r\n",
      "        for i in range(JOBS, 0, -1):\r\n",
      "            size = SIZE + int(SIZE / JOBS * (i - JOBS/2))\r\n",
      "            job = executor.submit(arcfour_test, size, KEY)\r\n",
      "            to_do.append(job)\r\n",
      "\r\n",
      "        for future in futures.as_completed(to_do):\r\n",
      "            res = future.result()\r\n",
      "            print('{:.1f} KB'.format(res/2**10))\r\n",
      "\r\n",
      "    print(STATUS.format(actual_workers, time.time() - t0))\r\n",
      "\r\n",
      "if __name__ == '__main__':\r\n",
      "    if len(sys.argv) == 2:\r\n",
      "        workers = int(sys.argv[1])\r\n",
      "    else:\r\n",
      "        workers = None\r\n",
      "    main(workers)\r\n"
     ]
    }
   ],
   "source": [
    "! cat crypto/arcfour_futures.py"
   ]
  },
  {
   "cell_type": "markdown",
   "metadata": {},
   "source": [
    "> RC4 알고리즘을 이용하여 149KB, 384KB정도 되는 바이트 배열 10개를 암호화하고 복호화한다."
   ]
  },
  {
   "cell_type": "code",
   "execution_count": 19,
   "metadata": {
    "scrolled": true
   },
   "outputs": [
    {
     "name": "stdout",
     "output_type": "stream",
     "text": [
      "import sys\r\n",
      "import time\r\n",
      "import hashlib\r\n",
      "from concurrent import futures\r\n",
      "from random import randrange\r\n",
      "\r\n",
      "JOBS = 12\r\n",
      "SIZE = 2**20\r\n",
      "STATUS = '{} workers, elapsed time: {:.2f}s'\r\n",
      "\r\n",
      "\r\n",
      "def sha(size):\r\n",
      "    data = bytearray(randrange(256) for i in range(size))\r\n",
      "    algo = hashlib.new('sha256')\r\n",
      "    algo.update(data)\r\n",
      "    return algo.hexdigest()\r\n",
      "\r\n",
      "\r\n",
      "def main(workers=None):\r\n",
      "    if workers:\r\n",
      "        workers = int(workers)\r\n",
      "    t0 = time.time()\r\n",
      "\r\n",
      "    with futures.ProcessPoolExecutor(workers) as executor:\r\n",
      "        actual_workers = executor._max_workers\r\n",
      "        to_do = (executor.submit(sha, SIZE) for i in range(JOBS))\r\n",
      "        for future in futures.as_completed(to_do):\r\n",
      "            res = future.result()\r\n",
      "            print(res)\r\n",
      "\r\n",
      "    print(STATUS.format(actual_workers, time.time() - t0))\r\n",
      "\r\n",
      "if __name__ == '__main__':\r\n",
      "    if len(sys.argv) == 2:\r\n",
      "        workers = int(sys.argv[1])\r\n",
      "    else:\r\n",
      "        workers = None\r\n",
      "    main(workers)\r\n"
     ]
    }
   ],
   "source": [
    "! cat crypto/sha_futures.py"
   ]
  },
  {
   "cell_type": "markdown",
   "metadata": {},
   "source": [
    "> hashlib을 이용하여 1MB 배열 10개에 대한 SHA-256 해시를 계산한다."
   ]
  },
  {
   "cell_type": "code",
   "execution_count": 30,
   "metadata": {},
   "outputs": [
    {
     "data": {
      "image/png": "[encoded data removed]",
      "text/plain": [
       "<Figure size 1440x1440 with 1 Axes>"
      ]
     },
     "metadata": {},
     "output_type": "display_data"
    }
   ],
   "source": [
    "import matplotlib.pyplot as plt\n",
    "import matplotlib.image as mpimg\n",
    "\n",
    "plt.figure(figsize=(20,20))\n",
    "img=mpimg.imread('compare.png')\n",
    "imgplot = plt.imshow(img)"
   ]
  },
  {
   "cell_type": "markdown",
   "metadata": {},
   "source": [
    "> 계산 위주의 처리는 PyPy(https://pypy.org/)을 사용하면 더 효율적이다. CPython 4개의 작업자 프로세스보다 3.8배 정도 빠르다."
   ]
  },
  {
   "cell_type": "markdown",
   "metadata": {},
   "source": [
    "## 17.4 Executor.map()의 실험"
   ]
  },
  {
   "cell_type": "markdown",
   "metadata": {},
   "source": [
    "map()이 작동하는 과정을 자세히 보여준다."
   ]
  },
  {
   "cell_type": "code",
   "execution_count": 31,
   "metadata": {
    "scrolled": false
   },
   "outputs": [
    {
     "name": "stdout",
     "output_type": "stream",
     "text": [
      "from time import sleep, strftime\r\n",
      "from concurrent import futures\r\n",
      "\r\n",
      "\r\n",
      "def display(*args):\r\n",
      "    print(strftime('[%H:%M:%S]'), end=' ')\r\n",
      "    print(*args)\r\n",
      "\r\n",
      "\r\n",
      "def loiter(n):\r\n",
      "    msg = '{}loiter({}): doing nothing for {}s...'\r\n",
      "    display(msg.format('\\t' * n, n, n))\r\n",
      "    sleep(n)\r\n",
      "    msg = '{}loiter({}): done.'\r\n",
      "    display(msg.format('\\t' * n, n))\r\n",
      "    return n * 10\r\n",
      "\r\n",
      "\r\n",
      "def main():\r\n",
      "    display('Script starting.')\r\n",
      "    executor = futures.ThreadPoolExecutor(max_workers=3)\r\n",
      "    results = executor.map(loiter, range(5))\r\n",
      "    display('results:', results)\r\n",
      "    display('Waiting for individual results:')\r\n",
      "    for i, result in enumerate(results):\r\n",
      "        display('result {}: {}'.format(i, result))\r\n",
      "\r\n",
      "\r\n",
      "main()\r\n"
     ]
    }
   ],
   "source": [
    "! cat demo_executor_map.py"
   ]
  },
  {
   "cell_type": "code",
   "execution_count": 32,
   "metadata": {
    "scrolled": true
   },
   "outputs": [
    {
     "name": "stdout",
     "output_type": "stream",
     "text": [
      "[16:32:46] Script starting.\n",
      "[16:32:46] loiter(0): doing nothing for 0s...\n",
      "[16:32:46] loiter(0): done.\n",
      "[16:32:46] \tloiter(1): doing nothing for 1s...\n",
      "[16:32:46] \t\tloiter(2): doing nothing for 2s...\n",
      "[16:32:46] results: <generator object Executor.map.<locals>.result_iterator at 0x1013514c0>\n",
      "[16:32:46] Waiting for individual results:\n",
      "[16:32:46] result 0: 0\n",
      "[16:32:46] \t\t\tloiter(3): doing nothing for 3s...\n",
      "[16:32:47] \tloiter(1): done.\n",
      "[16:32:47] \t\t\t\tloiter(4): doing nothing for 4s...\n",
      "[16:32:47] result 1: 10\n",
      "[16:32:48] \t\tloiter(2): done.\n",
      "[16:32:48] result 2: 20\n",
      "[16:32:49] \t\t\tloiter(3): done.\n",
      "[16:32:49] result 3: 30\n",
      "[16:32:51] \t\t\t\tloiter(4): done.\n",
      "[16:32:51] result 4: 40\n"
     ]
    }
   ],
   "source": [
    "! python3 demo_executor_map.py"
   ]
  },
  {
   "cell_type": "markdown",
   "metadata": {},
   "source": [
    "map은 요청한 순서대로 결과를 가져오는 장점과 사용하기 쉬운 장점이 있지만, \n",
    "\n",
    "처음 요청한 작업이 10초, 나머지 작업이 1초 걸린다 하더라도, 10초 이후에 해당 결과값을 나타낼 수 있다.\n",
    "\n",
    "이런 경우를 해결하기 위해, 요청한 순서와 관계없이 결과값을 가져오는 Executor.submit()과 futures.as_completed() 함수를 함께 사용해야 한다."
   ]
  },
  {
   "cell_type": "markdown",
   "metadata": {},
   "source": [
    ">**submit()은 다양한 콜러블을 이용해서 결과를 가져올 수 있다. 그러나 map()의 경우 하나의 콜러블에 대해서만 결과를 가져올 수 있어 융통성이 submit이 더 높다.**"
   ]
  },
  {
   "cell_type": "markdown",
   "metadata": {},
   "source": [
    "## 17.5 진행 상황 출력하고 에러를 처리하며 내려받기"
   ]
  },
  {
   "cell_type": "code",
   "execution_count": 72,
   "metadata": {
    "scrolled": true
   },
   "outputs": [
    {
     "name": "stdout",
     "output_type": "stream",
     "text": [
      "import os\r\n",
      "import time\r\n",
      "import sys\r\n",
      "import string\r\n",
      "import argparse\r\n",
      "from collections import namedtuple\r\n",
      "from enum import Enum\r\n",
      "\r\n",
      "\r\n",
      "Result = namedtuple('Result', 'status data')\r\n",
      "\r\n",
      "HTTPStatus = Enum('Status', 'ok not_found error')\r\n",
      "\r\n",
      "POP20_CC = ('CN IN US ID BR PK NG BD RU JP '\r\n",
      "            'MX PH VN ET EG DE IR TR CD FR').split()\r\n",
      "\r\n",
      "DEFAULT_CONCUR_REQ = 1\r\n",
      "MAX_CONCUR_REQ = 1\r\n",
      "\r\n",
      "SERVERS = {\r\n",
      "    'REMOTE': 'http://flupy.org/data/flags',\r\n",
      "    'LOCAL':  'http://localhost:8001/flags',\r\n",
      "    'DELAY':  'http://localhost:8002/flags',\r\n",
      "    'ERROR':  'http://localhost:8003/flags',\r\n",
      "}\r\n",
      "DEFAULT_SERVER = 'LOCAL'\r\n",
      "\r\n",
      "DEST_DIR = 'downloads/'\r\n",
      "COUNTRY_CODES_FILE = 'country_codes.txt'\r\n",
      "\r\n",
      "\r\n",
      "def save_flag(img, filename):\r\n",
      "    path = os.path.join(DEST_DIR, filename)\r\n",
      "    with open(path, 'wb') as fp:\r\n",
      "        fp.write(img)\r\n",
      "\r\n",
      "\r\n",
      "def initial_report(cc_list, actual_req, server_label):\r\n",
      "    if len(cc_list) <= 10:\r\n",
      "        cc_msg = ', '.join(cc_list)\r\n",
      "    else:\r\n",
      "        cc_msg = 'from {} to {}'.format(cc_list[0], cc_list[-1])\r\n",
      "    print('{} site: {}'.format(server_label, SERVERS[server_label]))\r\n",
      "    msg = 'Searching for {} flag{}: {}'\r\n",
      "    plural = 's' if len(cc_list) != 1 else ''\r\n",
      "    print(msg.format(len(cc_list), plural, cc_msg))\r\n",
      "    plural = 's' if actual_req != 1 else ''\r\n",
      "    msg = '{} concurrent connection{} will be used.'\r\n",
      "    print(msg.format(actual_req, plural))\r\n",
      "\r\n",
      "\r\n",
      "def final_report(cc_list, counter, start_time):\r\n",
      "    elapsed = time.time() - start_time\r\n",
      "    print('-' * 20)\r\n",
      "    msg = '{} flag{} downloaded.'\r\n",
      "    plural = 's' if counter[HTTPStatus.ok] != 1 else ''\r\n",
      "    print(msg.format(counter[HTTPStatus.ok], plural))\r\n",
      "    if counter[HTTPStatus.not_found]:\r\n",
      "        print(counter[HTTPStatus.not_found], 'not found.')\r\n",
      "    if counter[HTTPStatus.error]:\r\n",
      "        plural = 's' if counter[HTTPStatus.error] != 1 else ''\r\n",
      "        print('{} error{}.'.format(counter[HTTPStatus.error], plural))\r\n",
      "    print('Elapsed time: {:.2f}s'.format(elapsed))\r\n",
      "\r\n",
      "\r\n",
      "def expand_cc_args(every_cc, all_cc, cc_args, limit):\r\n",
      "    codes = set()\r\n",
      "    A_Z = string.ascii_uppercase\r\n",
      "    if every_cc:\r\n",
      "        codes.update(a+b for a in A_Z for b in A_Z)\r\n",
      "    elif all_cc:\r\n",
      "        with open(COUNTRY_CODES_FILE) as fp:\r\n",
      "            text = fp.read()\r\n",
      "        codes.update(text.split())\r\n",
      "    else:\r\n",
      "        for cc in (c.upper() for c in cc_args):\r\n",
      "            if len(cc) == 1 and cc in A_Z:\r\n",
      "                codes.update(cc+c for c in A_Z)\r\n",
      "            elif len(cc) == 2 and all(c in A_Z for c in cc):\r\n",
      "                codes.add(cc)\r\n",
      "            else:\r\n",
      "                msg = 'each CC argument must be A to Z or AA to ZZ.'\r\n",
      "                raise ValueError('*** Usage error: '+msg)\r\n",
      "    return sorted(codes)[:limit]\r\n",
      "\r\n",
      "\r\n",
      "def process_args(default_concur_req):\r\n",
      "    server_options = ', '.join(sorted(SERVERS))\r\n",
      "    parser = argparse.ArgumentParser(\r\n",
      "                description='Download flags for country codes. '\r\n",
      "                'Default: top 20 countries by population.')\r\n",
      "    parser.add_argument('cc', metavar='CC', nargs='*',\r\n",
      "                help='country code or 1st letter (eg. B for BA...BZ)')\r\n",
      "    parser.add_argument('-a', '--all', action='store_true',\r\n",
      "                help='get all available flags (AD to ZW)')\r\n",
      "    parser.add_argument('-e', '--every', action='store_true',\r\n",
      "                help='get flags for every possible code (AA...ZZ)')\r\n",
      "    parser.add_argument('-l', '--limit', metavar='N', type=int,\r\n",
      "                help='limit to N first codes', default=sys.maxsize)\r\n",
      "    parser.add_argument('-m', '--max_req', metavar='CONCURRENT', type=int,\r\n",
      "                default=default_concur_req,\r\n",
      "                help='maximum concurrent requests (default={})'\r\n",
      "                      .format(default_concur_req))\r\n",
      "    parser.add_argument('-s', '--server', metavar='LABEL',\r\n",
      "                default=DEFAULT_SERVER,\r\n",
      "                help='Server to hit; one of {} (default={})'\r\n",
      "                      .format(server_options, DEFAULT_SERVER))\r\n",
      "    parser.add_argument('-v', '--verbose', action='store_true',\r\n",
      "                help='output detailed progress info')\r\n",
      "    args = parser.parse_args()\r\n",
      "    if args.max_req < 1:\r\n",
      "        print('*** Usage error: --max_req CONCURRENT must be >= 1')\r\n",
      "        parser.print_usage()\r\n",
      "        sys.exit(1)\r\n",
      "    if args.limit < 1:\r\n",
      "        print('*** Usage error: --limit N must be >= 1')\r\n",
      "        parser.print_usage()\r\n",
      "        sys.exit(1)\r\n",
      "    args.server = args.server.upper()\r\n",
      "    if args.server not in SERVERS:\r\n",
      "        print('*** Usage error: --server LABEL must be one of',\r\n",
      "              server_options)\r\n",
      "        parser.print_usage()\r\n",
      "        sys.exit(1)\r\n",
      "    try:\r\n",
      "        cc_list = expand_cc_args(args.every, args.all, args.cc, args.limit)\r\n",
      "    except ValueError as exc:\r\n",
      "        print(exc.args[0])\r\n",
      "        parser.print_usage()\r\n",
      "        sys.exit(1)\r\n",
      "\r\n",
      "    if not cc_list:\r\n",
      "        cc_list = sorted(POP20_CC)\r\n",
      "    return args, cc_list\r\n",
      "\r\n",
      "\r\n",
      "def main(download_many, default_concur_req, max_concur_req):\r\n",
      "    args, cc_list = process_args(default_concur_req)\r\n",
      "    actual_req = min(args.max_req, max_concur_req, len(cc_list))\r\n",
      "    initial_report(cc_list, actual_req, args.server)\r\n",
      "    base_url = SERVERS[args.server]\r\n",
      "    t0 = time.time()\r\n",
      "    counter = download_many(cc_list, base_url, args.verbose, actual_req)\r\n",
      "    assert sum(counter.values()) == len(cc_list), \\\r\n",
      "        'some downloads are unaccounted for'\r\n",
      "    final_report(cc_list, counter, t0)\r\n"
     ]
    }
   ],
   "source": [
    "! cat flags2_common.py"
   ]
  },
  {
   "cell_type": "markdown",
   "metadata": {},
   "source": [
    "> 테스트를 위한 공용 파일"
   ]
  },
  {
   "cell_type": "code",
   "execution_count": 71,
   "metadata": {
    "scrolled": true
   },
   "outputs": [
    {
     "name": "stdout",
     "output_type": "stream",
     "text": [
      "import collections\r\n",
      "\r\n",
      "import requests\r\n",
      "import tqdm\r\n",
      "\r\n",
      "from flags2_common import main, save_flag, HTTPStatus, Result\r\n",
      "\r\n",
      "DEFAULT_CONCUR_REQ = 1\r\n",
      "MAX_CONCUR_REQ = 1\r\n",
      "\r\n",
      "\r\n",
      "def get_flag(base_url, cc):\r\n",
      "    url = '{}/{cc}/{cc}.gif'.format(base_url, cc=cc.lower())\r\n",
      "    resp = requests.get(url)\r\n",
      "    if resp.status_code != 200:\r\n",
      "        resp.raise_for_status()\r\n",
      "    return resp.content\r\n",
      "\r\n",
      "\r\n",
      "def download_one(cc, base_url, verbose=False):\r\n",
      "    try:\r\n",
      "        image = get_flag(base_url, cc)\r\n",
      "    except requests.exceptions.HTTPError as exc:\r\n",
      "        res = exc.response\r\n",
      "        if res.status_code == 404:\r\n",
      "            status = HTTPStatus.not_found\r\n",
      "            msg = 'not found'\r\n",
      "        else:\r\n",
      "            raise\r\n",
      "    else:\r\n",
      "        save_flag(image, cc.lower() + '.gif')\r\n",
      "        status = HTTPStatus.ok\r\n",
      "        msg = 'OK'\r\n",
      "\r\n",
      "    if verbose:\r\n",
      "        print(cc, msg)\r\n",
      "\r\n",
      "    return Result(status, cc)\r\n",
      "\r\n",
      "\r\n",
      "def download_many(cc_list, base_url, verbose, max_req):\r\n",
      "    counter = collections.Counter()\r\n",
      "    cc_iter = sorted(cc_list)\r\n",
      "    if not verbose:\r\n",
      "        cc_iter = tqdm.tqdm(cc_iter)\r\n",
      "    for cc in cc_iter:\r\n",
      "        try:\r\n",
      "            res = download_one(cc, base_url, verbose)\r\n",
      "        except requests.exceptions.HTTPError as exc:\r\n",
      "            error_msg = 'HTTP error {res.status_code} - {res.reason}'\r\n",
      "            error_msg = error_msg.format(res=exc.response)\r\n",
      "        except requests.exceptions.ConnectionError as exc:\r\n",
      "            error_msg = 'Connection error'\r\n",
      "        else:\r\n",
      "            error_msg = ''\r\n",
      "            status = res.status\r\n",
      "\r\n",
      "        if error_msg:\r\n",
      "            status = HTTPStatus.error\r\n",
      "        counter[status] += 1\r\n",
      "        if verbose and error_msg:\r\n",
      "            print('*** Error for {}: {}'.format(cc, error_msg))\r\n",
      "\r\n",
      "    return counter\r\n",
      "\r\n",
      "\r\n",
      "if __name__ == '__main__':\r\n",
      "    main(download_many, DEFAULT_CONCUR_REQ, MAX_CONCUR_REQ)\r\n"
     ]
    }
   ],
   "source": [
    "! cat flags2_sequential.py"
   ]
  },
  {
   "cell_type": "markdown",
   "metadata": {},
   "source": [
    "> 순차 HTTP 클라이언트"
   ]
  },
  {
   "cell_type": "code",
   "execution_count": 69,
   "metadata": {
    "scrolled": true
   },
   "outputs": [
    {
     "name": "stdout",
     "output_type": "stream",
     "text": [
      "import collections\r\n",
      "from concurrent import futures\r\n",
      "\r\n",
      "import requests\r\n",
      "import tqdm\r\n",
      "\r\n",
      "from flags2_common import main, HTTPStatus\r\n",
      "from flags2_sequential import download_one\r\n",
      "\r\n",
      "DEFAULT_CONCUR_REQ = 30\r\n",
      "MAX_CONCUR_REQ = 1000\r\n",
      "\r\n",
      "\r\n",
      "def download_many(cc_list, base_url, verbose, concur_req):\r\n",
      "    counter = collections.Counter()\r\n",
      "    with futures.ThreadPoolExecutor(max_workers=concur_req) as executor:\r\n",
      "        to_do_map = {}\r\n",
      "        for cc in sorted(cc_list):\r\n",
      "            future = executor.submit(download_one,\r\n",
      "                                     cc, base_url, verbose)\r\n",
      "            to_do_map[future] = cc\r\n",
      "        done_iter = futures.as_completed(to_do_map)\r\n",
      "        if not verbose:\r\n",
      "            done_iter = tqdm.tqdm(done_iter, total=len(cc_list))\r\n",
      "        for future in done_iter:\r\n",
      "            try:\r\n",
      "                res = future.result()\r\n",
      "            except requests.exceptions.HTTPError as exc:\r\n",
      "                error_msg = 'HTTP {res.status_code} - {res.reason}'\r\n",
      "                error_msg = error_msg.format(res=exc.response)\r\n",
      "            except requests.exceptions.ConnectionError as exc:\r\n",
      "                error_msg = 'Connection error'\r\n",
      "            else:\r\n",
      "                error_msg = ''\r\n",
      "                status = res.status\r\n",
      "\r\n",
      "            if error_msg:\r\n",
      "                status = HTTPStatus.error\r\n",
      "            counter[status] += 1\r\n",
      "            if verbose and error_msg:\r\n",
      "                cc = to_do_map[future]\r\n",
      "                print('*** Error for {}: {}'.format(cc, error_msg))\r\n",
      "\r\n",
      "    return counter\r\n",
      "\r\n",
      "\r\n",
      "if __name__ == '__main__':\r\n",
      "    main(download_many, DEFAULT_CONCUR_REQ, MAX_CONCUR_REQ)\r\n"
     ]
    }
   ],
   "source": [
    "! cat flags2_threadpool.py"
   ]
  },
  {
   "cell_type": "markdown",
   "metadata": {},
   "source": [
    "> ThreadPool 기반 동시성 HTTP 클라이언트"
   ]
  },
  {
   "cell_type": "code",
   "execution_count": 70,
   "metadata": {
    "scrolled": true
   },
   "outputs": [
    {
     "name": "stdout",
     "output_type": "stream",
     "text": [
      "import asyncio\r\n",
      "import collections\r\n",
      "import contextlib\r\n",
      "\r\n",
      "import aiohttp\r\n",
      "from aiohttp import web\r\n",
      "import tqdm\r\n",
      "\r\n",
      "from flags2_common import main, HTTPStatus, Result, save_flag\r\n",
      "\r\n",
      "DEFAULT_CONCUR_REQ = 5\r\n",
      "MAX_CONCUR_REQ = 1000\r\n",
      "\r\n",
      "\r\n",
      "class FetchError(Exception):\r\n",
      "    def __init__(self, country_code):\r\n",
      "        self.country_code = country_code\r\n",
      "\r\n",
      "\r\n",
      "@asyncio.coroutine\r\n",
      "def get_flag(base_url, cc):\r\n",
      "    url = '{}/{cc}/{cc}.gif'.format(base_url, cc=cc.lower())\r\n",
      "    resp = yield from aiohttp.request('GET', url)\r\n",
      "    with contextlib.closing(resp):\r\n",
      "        if resp.status == 200:\r\n",
      "            image = yield from resp.read()\r\n",
      "            return image\r\n",
      "        elif resp.status == 404:\r\n",
      "            raise web.HTTPNotFound()\r\n",
      "        else:\r\n",
      "            raise aiohttp.HttpProcessingError(\r\n",
      "                code=resp.status, message=resp.reason,\r\n",
      "                headers=resp.headers)\r\n",
      "\r\n",
      "\r\n",
      "@asyncio.coroutine\r\n",
      "def download_one(cc, base_url, semaphore, verbose):\r\n",
      "    try:\r\n",
      "        with (yield from semaphore):\r\n",
      "            image = yield from get_flag(base_url, cc)\r\n",
      "    except web.HTTPNotFound:\r\n",
      "        status = HTTPStatus.not_found\r\n",
      "        msg = 'not found'\r\n",
      "    except Exception as exc:\r\n",
      "        raise FetchError(cc) from exc\r\n",
      "    else:\r\n",
      "        save_flag(image, cc.lower() + '.gif')\r\n",
      "        status = HTTPStatus.ok\r\n",
      "        msg = 'OK'\r\n",
      "\r\n",
      "    if verbose and msg:\r\n",
      "        print(cc, msg)\r\n",
      "\r\n",
      "    return Result(status, cc)\r\n",
      "\r\n",
      "\r\n",
      "@asyncio.coroutine\r\n",
      "def downloader_coro(cc_list, base_url, verbose, concur_req):\r\n",
      "    counter = collections.Counter()\r\n",
      "    semaphore = asyncio.Semaphore(concur_req)\r\n",
      "    to_do = [download_one(cc, base_url, semaphore, verbose)\r\n",
      "             for cc in sorted(cc_list)]\r\n",
      "\r\n",
      "    to_do_iter = asyncio.as_completed(to_do)\r\n",
      "    if not verbose:\r\n",
      "        to_do_iter = tqdm.tqdm(to_do_iter, total=len(cc_list))\r\n",
      "    for future in to_do_iter:\r\n",
      "        try:\r\n",
      "            res = yield from future\r\n",
      "        except FetchError as exc:\r\n",
      "            country_code = exc.country_code\r\n",
      "            try:\r\n",
      "                error_msg = exc.__cause__.args[0]\r",
      "\r\n",
      "            except IndexError:\r\n",
      "                error_msg = exc.__cause__.__class__.__name__\r\n",
      "            if verbose and error_msg:\r\n",
      "                msg = '*** Error for {}: {}'\r\n",
      "                print(msg.format(country_code, error_msg))\r\n",
      "            status = HTTPStatus.error\r\n",
      "        else:\r\n",
      "            status = res.status\r\n",
      "\r\n",
      "        counter[status] += 1\r\n",
      "\r\n",
      "    return counter\r\n",
      "\r\n",
      "\r\n",
      "def download_many(cc_list, base_url, verbose, concur_req):\r\n",
      "    loop = asyncio.get_event_loop()\r\n",
      "    coro = downloader_coro(cc_list, base_url, verbose, concur_req)\r\n",
      "    counts = loop.run_until_complete(coro)\r\n",
      "    loop.close()\r\n",
      "\r\n",
      "    return counts\r\n",
      "\r\n",
      "\r\n",
      "if __name__ == '__main__':\r\n",
      "    main(download_many, DEFAULT_CONCUR_REQ, MAX_CONCUR_REQ)\r\n"
     ]
    }
   ],
   "source": [
    "! cat flags2_asyncio.py"
   ]
  },
  {
   "cell_type": "markdown",
   "metadata": {},
   "source": [
    "> asyncio, aiohttp를 이용해서 구현 18.4절"
   ]
  },
  {
   "cell_type": "markdown",
   "metadata": {},
   "source": [
    "TQDM 패키지(https://github.com/noamraph/tqdm)\n",
    "\n",
    "모든 형태의 반복형을 인수로 받아 처리를 하면서 진행 막대로 완료되기까지 남은 시간을 추정해서 보여준다.\n",
    "\n",
    "완료되기까지 남은 시간을 추정해서 보여주기 위해 tqdm()은 len()을 지원하는 반복형을 받거나, 예상 항목 수를 두 번째 인수로 받는다."
   ]
  },
  {
   "cell_type": "code",
   "execution_count": 76,
   "metadata": {
    "scrolled": false
   },
   "outputs": [
    {
     "name": "stdout",
     "output_type": "stream",
     "text": [
      "usage: flags2_threadpool.py [-h] [-a] [-e] [-l N] [-m CONCURRENT] [-s LABEL]\r\n",
      "                            [-v]\r\n",
      "                            [CC [CC ...]]\r\n",
      "\r\n",
      "Download flags for country codes. Default: top 20 countries by population.\r\n",
      "\r\n",
      "positional arguments:\r\n",
      "  CC                    country code or 1st letter (eg. B for BA...BZ)\r\n",
      "\r\n",
      "optional arguments:\r\n",
      "  -h, --help            show this help message and exit\r\n",
      "  -a, --all             get all available flags (AD to ZW)\r\n",
      "  -e, --every           get flags for every possible code (AA...ZZ)\r\n",
      "  -l N, --limit N       limit to N first codes\r\n",
      "  -m CONCURRENT, --max_req CONCURRENT\r\n",
      "                        maximum concurrent requests (default=30)\r\n",
      "  -s LABEL, --server LABEL\r\n",
      "                        Server to hit; one of DELAY, ERROR, LOCAL, REMOTE\r\n",
      "                        (default=LOCAL)\r\n",
      "  -v, --verbose         output detailed progress info\r\n"
     ]
    }
   ],
   "source": [
    "! python3 flags2_threadpool.py -h"
   ]
  },
  {
   "cell_type": "markdown",
   "metadata": {},
   "source": [
    "--server\n",
    "\n",
    "> **Local**: 8001/flags\n",
    "\n",
    "> **Remote**: flupy.org/data/flags 필자가 제공하는 외부 서버\n",
    "\n",
    "> **DELAY**: 8002/flags\n",
    "\n",
    "> **ERROR**: 8003/flags"
   ]
  },
  {
   "cell_type": "markdown",
   "metadata": {},
   "source": [
    "해당 서버를 구현하려면 세팅이 필요한데 아래처럼 세팅하면된다."
   ]
  },
  {
   "cell_type": "code",
   "execution_count": 38,
   "metadata": {},
   "outputs": [
    {
     "name": "stdout",
     "output_type": "stream",
     "text": [
      "============================\r\n",
      "Setting up Nginx and Vaurien\r\n",
      "============================\r\n",
      "\r\n",
      "This text explains how to configure Nginx and Vaurien to test HTTP client code while avoiding network traffic and introducing simulated delays and errors. This setup is necessary if you want to experiment with the ``flags2*.py`` image download examples in this directory -- covered in chapters 17 and 18 of Fluent Python.\r\n",
      "\r\n",
      "\r\n",
      "Overview\r\n",
      "========\r\n",
      "\r\n",
      "The flag download examples are designed to compare the performance of different approaches to finding and downloading files from the Web. However, we don't want to hit a public server with multiple requests per second while testing, and we want to be able to simulate high latency and random network errors.\r\n",
      "\r\n",
      "For this setup I chose Nginx as the HTTP server because it is very fast and easy to configure, and the Vaurien proxy because it was designed by Mozilla to introduce delays and network errors for testing Web services.\r\n",
      "\r\n",
      "The archive ``flags.zip``, contains a directory ``flags/`` with 194 subdirectories, each containing a ``.gif`` image and a ``metadata.json`` file. These are public-domain images copied from the `CIA World Fact Book <https://www.cia.gov/library/publications/the-world-factbook/>`_.\r\n",
      "\r\n",
      "Once these files are unpacked to the ``flags/`` directory and Nginx is configured, you can experiment with the ``flags2*.py`` examples without hitting the network.\r\n",
      "\r\n",
      "\r\n",
      "Procedure\r\n",
      "=========\r\n",
      "\r\n",
      "1. Unpack test data\r\n",
      "-------------------\r\n",
      "\r\n",
      "The instructions in this section are for GNU/Linux or OSX using the command line. Windows users should have no difficulty doing the same operations with the Windows Exporer GUI.\r\n",
      "\r\n",
      "Unpack the initial data in the ``countries/`` directory::\r\n",
      "\r\n",
      "  $ unzip flags.zip\r\n",
      "  ... many lines omitted ...\r\n",
      "     creating: flags/zw/\r\n",
      "    inflating: flags/zw/metadata.json\r\n",
      "    inflating: flags/zw/zw.gif\r\n",
      "\r\n",
      "\r\n",
      "Verify that 194 directories are created in ``countries/flags/``, each with a ``.gif`` and a ``metadata.json`` file::\r\n",
      "\r\n",
      "\r\n",
      "  $ ls flags | wc -w\r\n",
      "  194\r\n",
      "  $ find flags | grep .gif | wc -l\r\n",
      "  194\r\n",
      "  $ find flags | grep .json | wc -l\r\n",
      "  194\r\n",
      "  $ ls flags/ad\r\n",
      "  ad.gif      metadata.json\r\n",
      "\r\n",
      "\r\n",
      "2. Install Nginx\r\n",
      "----------------\r\n",
      "\r\n",
      "Download and install Nginx. I used version 1.6.2 -- the latest stable version as I write this.\r\n",
      "\r\n",
      "* Download page: http://nginx.org/en/download.html\r\n",
      "\r\n",
      "* Beginner's guide: http://nginx.org/en/docs/beginners_guide.html\r\n",
      "\r\n",
      "\r\n",
      "3. Configure Nginx\r\n",
      "------------------\r\n",
      "\r\n",
      "Edit the the ``nginx.conf`` file to set the port and document root. You can determine which ``nginx.conf`` is in use by running::\r\n",
      "\r\n",
      "\r\n",
      "  $ nginx -V\r\n",
      "\r\n",
      "\r\n",
      "The output starts with::\r\n",
      "\r\n",
      "  nginx version: nginx/1.6.2\r\n",
      "  built by clang 6.0 (clang-600.0.51) (based on LLVM 3.5svn)\r\n",
      "  TLS SNI support enabled\r\n",
      "  configure arguments:...\r\n",
      "\r\n",
      "\r\n",
      "Among the configure arguments you'll see ``--conf-path=``. That's the file you will edit.\r\n",
      "\r\n",
      "Most of the content in ``nginx.conf`` is within a block labeled ``http`` and enclosed in curly braces. Within that block there can be multiple blocks labeled ``server``. Add another ``server`` block like this one::\r\n",
      "\r\n",
      "\r\n",
      "  server {\r\n",
      "      listen       8001;\r\n",
      "\r\n",
      "      location /flags/ {\r\n",
      "          root   /full-path-to.../countries/;\r\n",
      "      }\r\n",
      "  }\r\n",
      "\r\n",
      "\r\n",
      "After editing ``nginx.conf`` the server must be started (if it's not running) or told to reload the configuration file::\r\n",
      "\r\n",
      "\r\n",
      "  $ nginx  # to start, if necessary\r\n",
      "  $ nginx -s reload  # to reload the configuration\r\n",
      "\r\n",
      "\r\n",
      "To test the configuration, open the URL http://localhost:8001/flags/ad/ad.gif in a browser. You should see the blue, yellow and red flag of Andorra.\r\n",
      "\r\n",
      "If the test fails, please double check the procedure just described and refer to the Nginx documentation.\r\n",
      "\r\n",
      "At this point you may run the ``flags_*2.py`` examples against the Nginx install by providing the ``--server LOCAL`` command line option. For example::\r\n",
      "\r\n",
      "\r\n",
      "  $ python3 flags2_threadpool.py -s LOCAL\r\n",
      "  LOCAL site: http://localhost:8001/flags\r\n",
      "  Searching for 20 flags: from BD to VN\r\n",
      "  20 concurrent connections will be used.\r\n",
      "  --------------------\r\n",
      "  20 flags downloaded.\r\n",
      "  Elapsed time: 0.09s\r\n",
      "\r\n",
      "\r\n",
      "Note that Nginx is so fast that you will not see much difference in run time between the sequential and the concurrent versions. For more realistic testing with simulated network lag, we need to set up the Vaurien proxy.\r\n",
      "\r\n",
      "\r\n",
      "4. Install and run Vaurien\r\n",
      "--------------------------\r\n",
      "\r\n",
      "Vaurien depends on gevent which is only available for Python 2.5-2.7. To install Vaurien I opened another shell, created a virtualenv for Python 2.7, and used that environment to install and run the ``vaurien`` package::\r\n",
      "\r\n",
      "\r\n",
      "  $ virtualenv-2.7 .env27 --no-site-packages --distribute\r\n",
      "  New python executable in .env27/bin/python\r\n",
      "  Installing setuptools, pip...done.\r\n",
      "  $ . .env27/bin/activate\r\n",
      "  (.env27)$ pip install vaurien\r\n",
      "  Downloading/unpacking vaurien\r\n",
      "    Downloading vaurien-1.9.tar.gz (50kB): 50kB downloaded\r\n",
      "  ...many lines and a few minutes later...\r\n",
      "\r\n",
      "  Successfully installed vaurien cornice gevent statsd-client vaurienclient\r\n",
      "  greenlet http-parser pyramid simplejson requests zope.interface\r\n",
      "  translationstring PasteDeploy WebOb repoze.lru zope.deprecation venusian\r\n",
      "  Cleaning up...\r\n",
      "\r\n",
      "\r\n",
      "Using that same shell with the ``.env27`` environment active, run the ``vaurien_delay.sh`` script in the ``countries/`` directory::\r\n",
      "\r\n",
      "\r\n",
      "  (.env27)$ $ ./vaurien_delay.sh\r\n",
      "  2015-02-25 20:20:17 [69124] [INFO] Starting the Chaos TCP Server\r\n",
      "  2015-02-25 20:20:17 [69124] [INFO] Options:\r\n",
      "  2015-02-25 20:20:17 [69124] [INFO] * proxies from localhost:8002 to localhost:8001\r\n",
      "  2015-02-25 20:20:17 [69124] [INFO] * timeout: 30\r\n",
      "  2015-02-25 20:20:17 [69124] [INFO] * stay_connected: 0\r\n",
      "  2015-02-25 20:20:17 [69124] [INFO] * pool_max_size: 100\r\n",
      "  2015-02-25 20:20:17 [69124] [INFO] * pool_timeout: 30\r\n",
      "  2015-02-25 20:20:17 [69124] [INFO] * async_mode: 1\r\n",
      "\r\n",
      "\r\n",
      "The ``vaurien_delay.sh`` creates an HTTP proxy on port 8002 which adds a 1s delay to every response. You can test it with a browser on port 8002: http://localhost:8002/flags/ad/ad.gif -- the flag of Andorra should appear after 1 second.\r\n",
      "\r\n",
      "There is also the ``vaurien_error_delay.sh`` script which runs a proxy on port 8003 producing errors in 25% of the responses and a .5 s delay to 50% of the responses. You can also test it with the browser on port 8003, but rememeber that errors are expected.\r\n",
      "\r\n",
      "\r\n",
      "Platform-specific instructions\r\n",
      "==============================\r\n",
      "\r\n",
      "\r\n",
      "Nginx setup on Mac OS X\r\n",
      "------------------------\r\n",
      "\r\n",
      "Homebrew (copy & paste code at the bottom of http://brew.sh/)::\r\n",
      "\r\n",
      "\r\n",
      "  $ ruby -e \"$(curl -fsSL https://raw.githubusercontent.com/Homebrew/install/master/install)\"\r\n",
      "  $ brew doctor\r\n",
      "  $ brew install nginx\r\n",
      "\r\n",
      "\r\n",
      "Download and unpack::\r\n",
      "\r\n",
      "Docroot is: /usr/local/var/www\r\n",
      "/usr/local/etc/nginx/nginx.conf\r\n",
      "\r\n",
      "\r\n",
      "::\r\n",
      "\r\n",
      "  To have launchd start nginx at login:\r\n",
      "      ln -sfv /usr/local/opt/nginx/*.plist ~/Library/LaunchAgents\r\n",
      "  Then to load nginx now:\r\n",
      "      launchctl load ~/Library/LaunchAgents/homebrew.mxcl.nginx.plist\r\n",
      "  Or, if you don't want/need launchctl, you can just run:\r\n",
      "      nginx\r\n",
      "\r\n",
      "\r\n",
      "\r\n",
      "Nginx setup on Lubuntu 14.04.1 LTS\r\n",
      "----------------------------------\r\n",
      "\r\n",
      "Docroot is: /usr/share/nginx/html\r\n",
      "\r\n",
      "\r\n"
     ]
    }
   ],
   "source": [
    "! cat countries/README.rst"
   ]
  },
  {
   "cell_type": "code",
   "execution_count": 78,
   "metadata": {},
   "outputs": [
    {
     "name": "stdout",
     "output_type": "stream",
     "text": [
      "LOCAL site: http://localhost:8001/flags\n",
      "Searching for 20 flags: from BD to VN\n",
      "1 concurrent connection will be used.\n",
      "100%|██████████████████████████████████████████| 20/20 [00:00<00:00, 313.00it/s]\n",
      "--------------------\n",
      "0 flags downloaded.\n",
      "20 errors.\n",
      "Elapsed time: 0.07s\n"
     ]
    }
   ],
   "source": [
    "! python3 flags2_sequential.py"
   ]
  },
  {
   "cell_type": "code",
   "execution_count": 79,
   "metadata": {},
   "outputs": [
    {
     "name": "stdout",
     "output_type": "stream",
     "text": [
      "DELAY site: http://localhost:8002/flags\n",
      "Searching for 78 flags: from AA to CZ\n",
      "30 concurrent connections will be used.\n",
      "100%|████████████████████████████████████████| 78/78 [00:00<00:00, 11093.78it/s]\n",
      "--------------------\n",
      "0 flags downloaded.\n",
      "78 errors.\n",
      "Elapsed time: 0.19s\n"
     ]
    }
   ],
   "source": [
    "! python3 flags2_threadpool.py -s DELAY a b c"
   ]
  },
  {
   "cell_type": "code",
   "execution_count": 49,
   "metadata": {},
   "outputs": [
    {
     "name": "stdout",
     "output_type": "stream",
     "text": [
      "ERROR site: http://localhost:8003/flags\r\n",
      "Searching for 100 flags: from AD to LK\r\n",
      "100 concurrent connections will be used.\r\n",
      "\r",
      "  0%|                                                   | 0/100 [00:00<?, ?it/s]Unclosed client session\r\n",
      "client_session: <aiohttp.client.ClientSession object at 0x1087291d0>\r\n",
      "Unclosed client session\r\n",
      "client_session: <aiohttp.client.ClientSession object at 0x108729160>\r\n",
      "Unclosed client session\r\n",
      "client_session: <aiohttp.client.ClientSession object at 0x108729208>\r\n",
      "Unclosed client session\r\n",
      "client_session: <aiohttp.client.ClientSession object at 0x1087292b0>\r\n",
      "Unclosed client session\r\n",
      "client_session: <aiohttp.client.ClientSession object at 0x108729320>\r\n",
      "Unclosed client session\r\n",
      "client_session: <aiohttp.client.ClientSession object at 0x108729390>\r\n",
      "Unclosed client session\r\n",
      "client_session: <aiohttp.client.ClientSession object at 0x108729400>\r\n",
      "Unclosed client session\r\n",
      "client_session: <aiohttp.client.ClientSession object at 0x108729470>\r\n",
      "Unclosed client session\r\n",
      "client_session: <aiohttp.client.ClientSession object at 0x1087294e0>\r\n",
      "Unclosed client session\r\n",
      "client_session: <aiohttp.client.ClientSession object at 0x108729550>\r\n",
      "Unclosed client session\r\n",
      "client_session: <aiohttp.client.ClientSession object at 0x1087295c0>\r\n",
      "Unclosed client session\r\n",
      "client_session: <aiohttp.client.ClientSession object at 0x108729630>\r\n",
      "Unclosed client session\r\n",
      "client_session: <aiohttp.client.ClientSession object at 0x1087296a0>\r\n",
      "Unclosed client session\r\n",
      "client_session: <aiohttp.client.ClientSession object at 0x108729710>\r\n",
      "Unclosed client session\r\n",
      "client_session: <aiohttp.client.ClientSession object at 0x108729780>\r\n",
      "Unclosed client session\r\n",
      "client_session: <aiohttp.client.ClientSession object at 0x1087297f0>\r\n",
      "Unclosed client session\r\n",
      "client_session: <aiohttp.client.ClientSession object at 0x108729860>\r\n",
      "Unclosed client session\r\n",
      "client_session: <aiohttp.client.ClientSession object at 0x1087298d0>\r\n",
      "Unclosed client session\r\n",
      "client_session: <aiohttp.client.ClientSession object at 0x108729940>\r\n",
      "Unclosed client session\r\n",
      "client_session: <aiohttp.client.ClientSession object at 0x1087299b0>\r\n",
      "Unclosed client session\r\n",
      "client_session: <aiohttp.client.ClientSession object at 0x108729a20>\r\n",
      "Unclosed client session\r\n",
      "client_session: <aiohttp.client.ClientSession object at 0x108729a90>\r\n",
      "Unclosed client session\r\n",
      "client_session: <aiohttp.client.ClientSession object at 0x108729b00>\r\n",
      "Unclosed client session\r\n",
      "client_session: <aiohttp.client.ClientSession object at 0x108729b70>\r\n",
      "Unclosed client session\r\n",
      "client_session: <aiohttp.client.ClientSession object at 0x108729be0>\r\n",
      "Unclosed client session\r\n",
      "client_session: <aiohttp.client.ClientSession object at 0x108729c50>\r\n",
      "Unclosed client session\r\n",
      "client_session: <aiohttp.client.ClientSession object at 0x108729cc0>\r\n",
      "Unclosed client session\r\n",
      "client_session: <aiohttp.client.ClientSession object at 0x108729d30>\r\n",
      "Unclosed client session\r\n",
      "client_session: <aiohttp.client.ClientSession object at 0x108729da0>\r\n",
      "Unclosed client session\r\n",
      "client_session: <aiohttp.client.ClientSession object at 0x108729e10>\r\n",
      "Unclosed client session\r\n",
      "client_session: <aiohttp.client.ClientSession object at 0x108729e80>\r\n",
      "Unclosed client session\r\n",
      "client_session: <aiohttp.client.ClientSession object at 0x108729ef0>\r\n",
      "Unclosed client session\r\n",
      "client_session: <aiohttp.client.ClientSession object at 0x108729f60>\r\n",
      "Unclosed client session\r\n",
      "client_session: <aiohttp.client.ClientSession object at 0x108743048>\r\n",
      "Unclosed client session\r\n",
      "client_session: <aiohttp.client.ClientSession object at 0x1087410b8>\r\n",
      "Unclosed client session\r\n",
      "client_session: <aiohttp.client.ClientSession object at 0x1087410f0>\r\n",
      "Unclosed client session\r\n",
      "client_session: <aiohttp.client.ClientSession object at 0x108741160>\r\n",
      "Unclosed client session\r\n",
      "client_session: <aiohttp.client.ClientSession object at 0x1087411d0>\r\n",
      "Unclosed client session\r\n",
      "client_session: <aiohttp.client.ClientSession object at 0x108741240>\r\n",
      "Unclosed client session\r\n",
      "client_session: <aiohttp.client.ClientSession object at 0x1087412b0>\r\n",
      "Unclosed client session\r\n",
      "client_session: <aiohttp.client.ClientSession object at 0x108741320>\r\n",
      "Unclosed client session\r\n",
      "client_session: <aiohttp.client.ClientSession object at 0x108741390>\r\n",
      "Unclosed client session\r\n",
      "client_session: <aiohttp.client.ClientSession object at 0x108741400>\r\n",
      "Unclosed client session\r\n",
      "client_session: <aiohttp.client.ClientSession object at 0x108741470>\r\n",
      "Unclosed client session\r\n",
      "client_session: <aiohttp.client.ClientSession object at 0x1087414e0>\r\n",
      "Unclosed client session\r\n",
      "client_session: <aiohttp.client.ClientSession object at 0x108741550>\r\n",
      "Unclosed client session\r\n",
      "client_session: <aiohttp.client.ClientSession object at 0x1087415c0>\r\n",
      "Unclosed client session\r\n",
      "client_session: <aiohttp.client.ClientSession object at 0x108741630>\r\n",
      "Unclosed client session\r\n",
      "client_session: <aiohttp.client.ClientSession object at 0x1087416a0>\r\n",
      "Unclosed client session\r\n",
      "client_session: <aiohttp.client.ClientSession object at 0x108741710>\r\n",
      "Unclosed client session\r\n",
      "client_session: <aiohttp.client.ClientSession object at 0x108741780>\r\n",
      "Unclosed client session\r\n",
      "client_session: <aiohttp.client.ClientSession object at 0x1087417f0>\r\n",
      "Unclosed client session\r\n",
      "client_session: <aiohttp.client.ClientSession object at 0x108741860>\r\n",
      "Unclosed client session\r\n",
      "client_session: <aiohttp.client.ClientSession object at 0x1087418d0>\r\n",
      "Unclosed client session\r\n",
      "client_session: <aiohttp.client.ClientSession object at 0x108741940>\r\n",
      "Unclosed client session\r\n",
      "client_session: <aiohttp.client.ClientSession object at 0x1087419b0>\r\n",
      "Unclosed client session\r\n",
      "client_session: <aiohttp.client.ClientSession object at 0x108741a20>\r\n",
      "Unclosed client session\r\n",
      "client_session: <aiohttp.client.ClientSession object at 0x108741a90>\r\n",
      "Unclosed client session\r\n",
      "client_session: <aiohttp.client.ClientSession object at 0x108741b00>\r\n",
      "Unclosed client session\r\n",
      "client_session: <aiohttp.client.ClientSession object at 0x108741b70>\r\n",
      "Unclosed client session\r\n",
      "client_session: <aiohttp.client.ClientSession object at 0x108741be0>\r\n",
      "Unclosed client session\r\n",
      "client_session: <aiohttp.client.ClientSession object at 0x108741c50>\r\n",
      "Unclosed client session\r\n",
      "client_session: <aiohttp.client.ClientSession object at 0x108741cc0>\r\n",
      "Unclosed client session\r\n",
      "client_session: <aiohttp.client.ClientSession object at 0x108741d30>\r\n",
      "Unclosed client session\r\n",
      "client_session: <aiohttp.client.ClientSession object at 0x108741da0>\r\n",
      "Unclosed client session\r\n",
      "client_session: <aiohttp.client.ClientSession object at 0x108741e10>\r\n",
      "Unclosed client session\r\n",
      "client_session: <aiohttp.client.ClientSession object at 0x108741e80>\r\n",
      "Unclosed client session\r\n",
      "client_session: <aiohttp.client.ClientSession object at 0x108741ef0>\r\n",
      "Unclosed client session\r\n",
      "client_session: <aiohttp.client.ClientSession object at 0x108741f60>\r\n",
      "Unclosed client session\r\n",
      "client_session: <aiohttp.client.ClientSession object at 0x10874b048>\r\n",
      "Unclosed client session\r\n",
      "client_session: <aiohttp.client.ClientSession object at 0x10874c0b8>\r\n",
      "Unclosed client session\r\n",
      "client_session: <aiohttp.client.ClientSession object at 0x10874c0f0>\r\n",
      "Unclosed client session\r\n",
      "client_session: <aiohttp.client.ClientSession object at 0x10874c160>\r\n",
      "Unclosed client session\r\n",
      "client_session: <aiohttp.client.ClientSession object at 0x10874c1d0>\r\n",
      "Unclosed client session\r\n",
      "client_session: <aiohttp.client.ClientSession object at 0x10874c240>\r\n",
      "Unclosed client session\r\n",
      "client_session: <aiohttp.client.ClientSession object at 0x10874c2b0>\r\n",
      "Unclosed client session\r\n",
      "client_session: <aiohttp.client.ClientSession object at 0x10874c320>\r\n",
      "Unclosed client session\r\n",
      "client_session: <aiohttp.client.ClientSession object at 0x10874c390>\r\n",
      "Unclosed client session\r\n",
      "client_session: <aiohttp.client.ClientSession object at 0x10874c400>\r\n",
      "Unclosed client session\r\n",
      "client_session: <aiohttp.client.ClientSession object at 0x10874c470>\r\n",
      "Unclosed client session\r\n",
      "client_session: <aiohttp.client.ClientSession object at 0x10874c4e0>\r\n",
      "Unclosed client session\r\n",
      "client_session: <aiohttp.client.ClientSession object at 0x10874c550>\r\n",
      "Unclosed client session\r\n",
      "client_session: <aiohttp.client.ClientSession object at 0x10874c5c0>\r\n",
      "Unclosed client session\r\n",
      "client_session: <aiohttp.client.ClientSession object at 0x10874c630>\r\n",
      "Unclosed client session\r\n",
      "client_session: <aiohttp.client.ClientSession object at 0x10874c6a0>\r\n",
      "Unclosed client session\r\n",
      "client_session: <aiohttp.client.ClientSession object at 0x10874c710>\r\n",
      "Unclosed client session\r\n",
      "client_session: <aiohttp.client.ClientSession object at 0x10874c780>\r\n",
      "Unclosed client session\r\n",
      "client_session: <aiohttp.client.ClientSession object at 0x10874c7f0>\r\n",
      "Unclosed client session\r\n",
      "client_session: <aiohttp.client.ClientSession object at 0x10874c860>\r\n",
      "Unclosed client session\r\n",
      "client_session: <aiohttp.client.ClientSession object at 0x10874c8d0>\r\n",
      "Unclosed client session\r\n",
      "client_session: <aiohttp.client.ClientSession object at 0x10874c940>\r\n",
      "Unclosed client session\r\n",
      "client_session: <aiohttp.client.ClientSession object at 0x10874c9b0>\r\n",
      "Unclosed client session\r\n",
      "client_session: <aiohttp.client.ClientSession object at 0x10874ca20>\r\n",
      "Unclosed client session\r\n",
      "client_session: <aiohttp.client.ClientSession object at 0x10874ca90>\r\n",
      "Unclosed client session\r\n",
      "client_session: <aiohttp.client.ClientSession object at 0x10874cb00>\r\n",
      "Unclosed client session\r\n",
      "client_session: <aiohttp.client.ClientSession object at 0x10874cb70>\r\n",
      "Unclosed client session\r\n",
      "client_session: <aiohttp.client.ClientSession object at 0x10874cbe0>\r\n",
      "Unclosed client session\r\n",
      "client_session: <aiohttp.client.ClientSession object at 0x10874cc50>\r\n",
      "Unclosed client session\r\n",
      "client_session: <aiohttp.client.ClientSession object at 0x10874ccc0>\r\n",
      "Unclosed client session\r\n",
      "client_session: <aiohttp.client.ClientSession object at 0x10874cd30>\r\n",
      "\r",
      "100%|███████████████████████████████████████| 100/100 [00:00<00:00, 7579.29it/s]\r\n",
      "--------------------\r\n",
      "0 flags downloaded.\r\n",
      "100 errors.\r\n",
      "Elapsed time: 0.02s\r\n"
     ]
    }
   ],
   "source": [
    "! python3 flags2_asyncio.py -s ERROR -al 100 -m 100"
   ]
  },
  {
   "cell_type": "markdown",
   "metadata": {},
   "source": [
    "## 17.5.1 flags2 예제에서의 에러 처리"
   ]
  },
  {
   "cell_type": "markdown",
   "metadata": {},
   "source": [
    "download_one() 함수가 404(Not Found) 에러를 처리한다."
   ]
  },
  {
   "cell_type": "markdown",
   "metadata": {},
   "source": [
    "```python\n",
    "Result = namedtuple('Result', 'status data')\n",
    "\n",
    "HTTPStatus = Enum('Status', 'ok not_found error')\n",
    "\n",
    "def get_flag(base_url, cc):\n",
    "    url = '{}/{cc}/{cc}.gif'.format(base_url, cc=cc.lower())\n",
    "    resp = requests.get(url)\n",
    "    if resp.status_code != 200:\n",
    "        resp.raise_for_status() # 에러를 발생 시킨다.\n",
    "    return resp.content\n",
    "\n",
    "\n",
    "def download_one(cc, base_url, verbose=False):\n",
    "    try:\n",
    "        image = get_flag(base_url, cc)\n",
    "    except requests.exceptions.HTTPError as exc: \n",
    "        res = exc.response\n",
    "        if res.status_code == 404: # 404 코드만 처리\n",
    "            status = HTTPStatus.not_found\n",
    "            msg = 'not found'\n",
    "        else:\n",
    "            raise\n",
    "    else:\n",
    "        save_flag(image, cc.lower() + '.gif')\n",
    "        status = HTTPStatus.ok\n",
    "        msg = 'OK'\n",
    "\n",
    "    if verbose:\n",
    "        print(cc, msg)\n",
    "\n",
    "    return Result(status, cc)\n",
    "```                    "
   ]
  },
  {
   "cell_type": "markdown",
   "metadata": {},
   "source": [
    "```python\n",
    "def download_many(cc_list, base_url, verbose, max_req):\n",
    "    counter = collections.Counter()  # 합계를 각각 구한다.\n",
    "    cc_iter = sorted(cc_list)\n",
    "    if not verbose:\n",
    "        cc_iter = tqdm.tqdm(cc_iter)  # tqdm을 사용하기 위해 반복자를 인수로 넣어준다.\n",
    "    for cc in cc_iter:\n",
    "        try:\n",
    "            res = download_one(cc, base_url, verbose)\n",
    "        except requests.exceptions.HTTPError as exc:  # download_one()에서 처리되지 않은 에러를 처리\n",
    "            error_msg = 'HTTP error {res.status_code} - {res.reason}'\n",
    "            error_msg = error_msg.format(res=exc.response)\n",
    "        except requests.exceptions.ConnectionError as exc:  # 다른 네트워크 관련 에러 처리\n",
    "            error_msg = 'Connection error'\n",
    "        else:  # 에러가 발생하지 않은 경우\n",
    "            error_msg = ''\n",
    "            status = res.status\n",
    "\n",
    "        if error_msg:\n",
    "            status = HTTPStatus.error\n",
    "        counter[status] += 1  # 각값에 대한 카운터 증가\n",
    "        if verbose and error_msg:\n",
    "            print('*** Error for {}: {}'.format(cc, error_msg))\n",
    "\n",
    "    return counter\n",
    "```                                "
   ]
  },
  {
   "cell_type": "markdown",
   "metadata": {},
   "source": [
    "## 17.5.2 futures.as_completed() 사용하기"
   ]
  },
  {
   "cell_type": "code",
   "execution_count": 77,
   "metadata": {},
   "outputs": [],
   "source": [
    "import collections\n",
    "from concurrent import futures\n",
    "\n",
    "import requests\n",
    "import tqdm\n",
    "\n",
    "from flags2_common import main, HTTPStatus\n",
    "from flags2_sequential import download_one\n",
    "\n",
    "DEFAULT_CONCUR_REQ = 30\n",
    "MAX_CONCUR_REQ = 1000\n",
    "\n",
    "\n",
    "def download_many(cc_list, base_url, verbose, concur_req):\n",
    "    counter = collections.Counter()\n",
    "    with futures.ThreadPoolExecutor(max_workers=concur_req) as executor:\n",
    "        to_do_map = {}\n",
    "        for cc in sorted(cc_list):\n",
    "            future = executor.submit(download_one,\n",
    "                                     cc, base_url, verbose)\n",
    "            to_do_map[future] = cc # 순차적으로 진행되지 않으므로, 국가코드와 매칭시킨다. 임의의 순서대로 완료되더라도 Future 객체의 결과를 가져와 처리가 쉽다.\n",
    "        done_iter = futures.as_completed(to_do_map)\n",
    "        if not verbose:\n",
    "            done_iter = tqdm.tqdm(done_iter, total=len(cc_list)) # done_iter에는 len이 없으므로, total을 알려줘야 작업 진행에 대한 예상이 가능하다.\n",
    "        for future in done_iter:\n",
    "            try:\n",
    "                res = future.result() # callable의 반환한 값이나, callable의 에러를 반환한다.\n",
    "            except requests.exceptions.HTTPError as exc:\n",
    "                error_msg = 'HTTP {res.status_code} - {res.reason}'\n",
    "                error_msg = error_msg.format(res=exc.response)\n",
    "            except requests.exceptions.ConnectionError as exc:\n",
    "                error_msg = 'Connection error'\n",
    "            else:\n",
    "                error_msg = ''\n",
    "                status = res.status\n",
    "\n",
    "            if error_msg:\n",
    "                status = HTTPStatus.error\n",
    "            counter[status] += 1\n",
    "            if verbose and error_msg:\n",
    "                cc = to_do_map[future]\n",
    "                print('*** Error for {}: {}'.format(cc, error_msg))\n",
    "\n",
    "    return counter"
   ]
  },
  {
   "cell_type": "markdown",
   "metadata": {},
   "source": [
    "## 17.5.3 스레드 및 멀티프로세스의 대안"
   ]
  },
  {
   "cell_type": "markdown",
   "metadata": {},
   "source": [
    "### 쓰레드\n",
    "\n",
    "ThreadPoolExecutor로 처리하기 어려운 경우, Thread, Lock, Semaphore 등 **threading 모듈**의 기본 컴포넌트를 이용해서 처리할 수 있다.\n",
    "\n",
    "Thread간 데이터 전송은 Queue 모듈로 안전하게 이용할 수 있다.\n",
    "\n",
    "이 컴포넌트들은 futures.ThreadPoolExecutor에 캡슐화되어 있다.\n",
    "\n",
    "\n",
    "### 프로세스\n",
    "\n",
    "계산 위주의 작업은 여러 프로세스를 실행해서 GIL을 피해나가야 한다.\n",
    "\n",
    "ProcessPoolExecutor를 이용하기 어려운 경우, multiprocessing 패키지를 사용해야 한다."
   ]
  },
  {
   "cell_type": "markdown",
   "metadata": {},
   "source": [
    "## 17.6 요약"
   ]
  },
  {
   "cell_type": "markdown",
   "metadata": {},
   "source": [
    "- **ProcessPoolExecutor: 계산, CPU**\n",
    "\n",
    "- **ThreadPoolExecutor: 입출력, 메모리**\n",
    "\n",
    "- **map 보단 Executor.submit, as_completed() 를 이용하자**\n",
    "\n",
    "- threading과 multiprocessing 모듈을 이용해서도 동시성 작업을 처리할 수 있다."
   ]
  },
  {
   "cell_type": "markdown",
   "metadata": {},
   "source": [
    "## 17.7 읽을거리"
   ]
  },
  {
   "cell_type": "markdown",
   "metadata": {},
   "source": [
    "- Future는 java의 영향을 많이 받았다.\n",
    "- 분산 작업 큐인 Celery 라이브러리(장고 커뮤니티에서 PDF 생성 등 무거운 작업을 다른 프로세스로 덜어내서 HTTP 응답 지연을 줄이기 위해 많이 사용)\n",
    "- multiprocessing 패키지는 ProcessPoolExecutor의 기반.\n",
    "\n",
    "- python-parallelize 라이브러리(http://bit.ly/1HGtF6Q)\n",
    "- lelo 라이브러리(https://pypi.python.org/pypi/lelo)"
   ]
  }
 ],
 "metadata": {
  "kernelspec": {
   "display_name": "Python 3",
   "language": "python",
   "name": "python3"
  },
  "language_info": {
   "codemirror_mode": {
    "name": "ipython",
    "version": 3
   },
   "file_extension": ".py",
   "mimetype": "text/x-python",
   "name": "python",
   "nbconvert_exporter": "python",
   "pygments_lexer": "ipython3",
   "version": "3.6.5"
  }
 },
 "nbformat": 4,
 "nbformat_minor": 2
}
