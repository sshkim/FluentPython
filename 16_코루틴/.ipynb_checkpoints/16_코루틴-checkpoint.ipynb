{
 "cells": [
  {
   "cell_type": "markdown",
   "metadata": {},
   "source": [
    "# 16"
   ]
  },
  {
   "cell_type": "markdown",
   "metadata": {},
   "source": [
    "## 16.1"
   ]
  },
  {
   "cell_type": "markdown",
   "metadata": {},
   "source": [
    "## 16.2"
   ]
  },
  {
   "cell_type": "markdown",
   "metadata": {},
   "source": [
    "## 16.3"
   ]
  },
  {
   "cell_type": "markdown",
   "metadata": {},
   "source": [
    "## 16.4 코루틴을 기동하기 위한 데커레이터"
   ]
  },
  {
   "cell_type": "markdown",
   "metadata": {},
   "source": [
    "## 16.5 코루틴 종료와 예외 처리"
   ]
  },
  {
   "cell_type": "markdown",
   "metadata": {},
   "source": [
    "## 16.6 코루틴에서 값 반환하기"
   ]
  },
  {
   "cell_type": "markdown",
   "metadata": {},
   "source": [
    "## 16.7 yield from 사용하기"
   ]
  },
  {
   "cell_type": "code",
   "execution_count": 1,
   "metadata": {},
   "outputs": [],
   "source": [
    "# BEGIN YIELD_FROM_AVERAGER\n",
    "from collections import namedtuple\n",
    "\n",
    "Result = namedtuple('Result', 'count average')\n",
    "\n",
    "\n",
    "# the subgenerator\n",
    "def averager():  # <1>\n",
    "    total = 0.0\n",
    "    count = 0\n",
    "    average = None\n",
    "    while True:\n",
    "        term = yield  # <2>\n",
    "        if term is None:  # <3>\n",
    "            break\n",
    "        total += term\n",
    "        count += 1\n",
    "        average = total/count\n",
    "    return Result(count, average)  # <4>\n",
    "\n",
    "\n",
    "# the delegating generator\n",
    "def grouper(results, key):  # <5>\n",
    "    while True:  # <6>\n",
    "        results[key] = yield from averager()  # <7>\n",
    "\n",
    "\n",
    "# the client code, a.k.a. the caller\n",
    "def main(data):  # <8>\n",
    "    results = {}\n",
    "    for key, values in data.items():\n",
    "        group = grouper(results, key)  # <9>\n",
    "        next(group)  # <10>\n",
    "        for value in values:\n",
    "            group.send(value)  # <11>\n",
    "        group.send(None)  # important! 중요한 부분!!!\n",
    "\n",
    "    # print(results)  # uncomment to debug\n",
    "    report(results)\n",
    "\n",
    "\n",
    "# output report\n",
    "def report(results):\n",
    "    for key, result in sorted(results.items()):\n",
    "        group, unit = key.split(';')\n",
    "        print('{:2} {:5} averaging {:.2f}{}'.format(\n",
    "              result.count, group, result.average, unit))\n",
    "\n",
    "\n",
    "data = {\n",
    "    'girls;kg':\n",
    "        [40.9, 38.5, 44.3, 42.2, 45.2, 41.7, 44.5, 38.0, 40.6, 44.5],\n",
    "    'girls;m':\n",
    "        [1.6, 1.51, 1.4, 1.3, 1.41, 1.39, 1.33, 1.46, 1.45, 1.43],\n",
    "    'boys;kg':\n",
    "        [39.0, 40.8, 43.2, 40.8, 43.1, 38.6, 41.4, 40.6, 36.3],\n",
    "    'boys;m':\n",
    "        [1.38, 1.5, 1.32, 1.25, 1.37, 1.48, 1.25, 1.49, 1.46],\n",
    "}"
   ]
  },
  {
   "cell_type": "markdown",
   "metadata": {},
   "source": [
    "## 16.8 yield from의 의미"
   ]
  },
  {
   "cell_type": "markdown",
   "metadata": {},
   "source": [
    "```python\n",
    "_i = iter(EXPR)  # <1>\n",
    "try:\n",
    "    _y = next(_i)  # <2>\n",
    "except StopIteration as _e:\n",
    "    _r = _e.value  # <3>\n",
    "else:\n",
    "    while 1:  # <4>\n",
    "        try:\n",
    "            _s = yield _y  # 유일한 yield\n",
    "        except GeneratorExit as _e:  # <6>\n",
    "            try:\n",
    "                _m = _i.close\n",
    "            except AttributeError:\n",
    "                pass\n",
    "            else:\n",
    "                _m()\n",
    "            raise _e\n",
    "        except BaseException as _e:  # <7>\n",
    "            _x = sys.exc_info()\n",
    "            try:\n",
    "                _m = _i.throw\n",
    "            except AttributeError:\n",
    "                raise _e\n",
    "            else:  # <8>\n",
    "                try:\n",
    "                    _y = _m(*_x)\n",
    "                except StopIteration as _e:\n",
    "                    _r = _e.value\n",
    "                    break\n",
    "        else:  # <9>\n",
    "            try:  # <10>\n",
    "                if _s is None:  # <11>\n",
    "                    _y = next(_i)\n",
    "                else:\n",
    "                    _y = _i.send(_s)\n",
    "            except StopIteration as _e:  # <12>\n",
    "                _r = _e.value\n",
    "                break\n",
    "```"
   ]
  },
  {
   "cell_type": "markdown",
   "metadata": {},
   "source": [
    "## 16.9"
   ]
  },
  {
   "cell_type": "markdown",
   "metadata": {},
   "source": [
    "## 16.9.1"
   ]
  },
  {
   "cell_type": "markdown",
   "metadata": {},
   "source": [
    "## 16.9.2 택시 집단 시뮬레이션"
   ]
  },
  {
   "cell_type": "code",
   "execution_count": 3,
   "metadata": {},
   "outputs": [],
   "source": [
    "def taxi_process(ident, trips, start_time=0):  # <1>\n",
    "    \"\"\"Yield to simulator issuing event at each state change\"\"\"\n",
    "    time = yield Event(start_time, ident, 'leave garage')  # <2>\n",
    "    for i in range(trips):  # <3>\n",
    "        time = yield Event(time, ident, 'pick up passenger')  # <4>\n",
    "        time = yield Event(time, ident, 'drop off passenger')  # <5>\n",
    "\n",
    "    yield Event(time, ident, 'going home')  # <6>\n",
    "    # end of taxi process # <7>"
   ]
  },
  {
   "cell_type": "markdown",
   "metadata": {},
   "source": [
    "```python\n",
    "    >>> from taxi_sim import taxi_process\n",
    "    >>> taxi = taxi_process(ident=13, trips=2, start_time=0)\n",
    "    >>> next(taxi)\n",
    "    Event(time=0, proc=13, action='leave garage')\n",
    "    >>> taxi.send(_.time + 7)\n",
    "    Event(time=7, proc=13, action='pick up passenger')\n",
    "    >>> taxi.send(_.time + 23)\n",
    "    Event(time=30, proc=13, action='drop off passenger')\n",
    "    >>> taxi.send(_.time + 5)\n",
    "    Event(time=35, proc=13, action='pick up passenger')\n",
    "    >>> taxi.send(_.time + 48)\n",
    "    Event(time=83, proc=13, action='drop off passenger')\n",
    "    >>> taxi.send(_.time + 1)\n",
    "    Event(time=84, proc=13, action='going home')\n",
    "    >>> taxi.send(_.time + 10)\n",
    "    Traceback (most recent call last):\n",
    "      File \"<stdin>\", line 1, in <module>\n",
    "    StopIteration\n",
    "```"
   ]
  },
  {
   "cell_type": "code",
   "execution_count": 4,
   "metadata": {},
   "outputs": [],
   "source": [
    "class Simulator:\n",
    "\n",
    "    def __init__(self, procs_map):\n",
    "        self.events = queue.PriorityQueue()\n",
    "        self.procs = dict(procs_map)\n",
    "\n",
    "    def run(self, end_time):  # <1>\n",
    "        \"\"\"Schedule and display events until time is up\"\"\"\n",
    "        # schedule the first event for each cab\n",
    "        for _, proc in sorted(self.procs.items()):  # <2>\n",
    "            first_event = next(proc)  # <3>\n",
    "            self.events.put(first_event)  # <4>\n",
    "\n",
    "        # main loop of the simulation\n",
    "        sim_time = 0  # <5>\n",
    "        while sim_time < end_time:  # <6>\n",
    "            if self.events.empty():  # <7>\n",
    "                print('*** end of events ***')\n",
    "                break\n",
    "\n",
    "            current_event = self.events.get()  # <8>\n",
    "            sim_time, proc_id, previous_action = current_event  # <9>\n",
    "            print('taxi:', proc_id, proc_id * '   ', current_event)  # <10>\n",
    "            active_proc = self.procs[proc_id]  # <11>\n",
    "            next_time = sim_time + compute_duration(previous_action)  # <12>\n",
    "            try:\n",
    "                next_event = active_proc.send(next_time)  # <13>\n",
    "            except StopIteration:\n",
    "                del self.procs[proc_id]  # <14>\n",
    "            else:\n",
    "                self.events.put(next_event)  # <15>\n",
    "        else:  # <16>\n",
    "            msg = '*** end of simulation time: {} events pending ***'\n",
    "            print(msg.format(self.events.qsize()))"
   ]
  },
  {
   "cell_type": "markdown",
   "metadata": {},
   "source": [
    "## 16.10 요약"
   ]
  },
  {
   "cell_type": "code",
   "execution_count": null,
   "metadata": {},
   "outputs": [],
   "source": []
  }
 ],
 "metadata": {
  "kernelspec": {
   "display_name": "Python 3",
   "language": "python",
   "name": "python3"
  },
  "language_info": {
   "codemirror_mode": {
    "name": "ipython",
    "version": 3
   },
   "file_extension": ".py",
   "mimetype": "text/x-python",
   "name": "python",
   "nbconvert_exporter": "python",
   "pygments_lexer": "ipython3",
   "version": "3.6.5"
  }
 },
 "nbformat": 4,
 "nbformat_minor": 2
}
